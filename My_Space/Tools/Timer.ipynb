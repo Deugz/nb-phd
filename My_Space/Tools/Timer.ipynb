{
 "cells": [
  {
   "cell_type": "code",
   "execution_count": null,
   "metadata": {},
   "outputs": [
    {
     "name": "stdin",
     "output_type": "stream",
     "text": [
      "enter time in seconds :  360\n"
     ]
    },
    {
     "name": "stdout",
     "output_type": "stream",
     "text": [
      "04:54\r"
     ]
    }
   ],
   "source": [
    "import time\n",
    "\n",
    "secs = int(input('enter time in seconds : '))\n",
    "while secs:\n",
    "    mins, sec = divmod(secs, 60)\n",
    "    timef = '{:02d}:{:02d}'.format(mins,sec)\n",
    "    print(timef,end=\"\\r\")\n",
    "    time.sleep(1)\n",
    "    secs-=1\n",
    "\n",
    "print()\n",
    "print(\"Done!\")"
   ]
  },
  {
   "cell_type": "code",
   "execution_count": null,
   "metadata": {},
   "outputs": [],
   "source": []
  }
 ],
 "metadata": {
  "kernelspec": {
   "display_name": "Python 3",
   "language": "python",
   "name": "python3"
  },
  "language_info": {
   "codemirror_mode": {
    "name": "ipython",
    "version": 3
   },
   "file_extension": ".py",
   "mimetype": "text/x-python",
   "name": "python",
   "nbconvert_exporter": "python",
   "pygments_lexer": "ipython3",
   "version": "3.8.3"
  }
 },
 "nbformat": 4,
 "nbformat_minor": 4
}
