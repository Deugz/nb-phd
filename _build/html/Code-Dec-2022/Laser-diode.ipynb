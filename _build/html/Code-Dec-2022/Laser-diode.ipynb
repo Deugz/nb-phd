{
 "cells": [
  {
   "cell_type": "markdown",
   "metadata": {},
   "source": [
    "<span style=\"font-size:42px; \"><strong>Thickness calculation from laser signal </strong></span>\n",
    "\n",
    "<hr>\n",
    "\n",
    "This notebook is for fitting a sinusoidal function to data for the measurement of the laser signal against time.\n"
   ]
  },
  {
   "cell_type": "markdown",
   "metadata": {},
   "source": [
    "# Imports\n",
    "\n",
    "We'll start by making the usual imports and other setups.\n",
    "\n",
    "Remember to run this cell before any of the subsequent cells.\n",
    "\n",
    "This will load the necessary packages (matplotlib.pyplot, numpy) needed to import, manipulate and plot the data\n",
    "\n",
    "When plotting data, it is useful to toggle between showing the graph in a pop-up window, where you can zoom and read values, or in line in the notebook using:\n",
    "\n",
    "%matplotlib qt\n",
    "\n",
    "or\n",
    "\n",
    "%matplotlib inline\n",
    "\n",
    "Change this line in the following cell depending on the type of plot you prefer (refer to the InteractivePlotting notebook from Skills week 19 for more information on using these directives)."
   ]
  },
  {
   "cell_type": "code",
   "execution_count": 1,
   "metadata": {},
   "outputs": [],
   "source": [
    "from scipy.optimize import curve_fit\n",
    "import numpy as np\n",
    "import matplotlib.pyplot as plt\n",
    "import pandas as pd\n",
    "\n",
    "%matplotlib inline"
   ]
  },
  {
   "cell_type": "markdown",
   "metadata": {},
   "source": [
    "# File handling and data inspection\n",
    "\n",
    "The laser signal data should be saves as a .csv file containing two columns of comma-separated values\n",
    "\n",
    "column 1 = time (s)\n",
    "\n",
    "column 2 = laser signal (mV)\n",
    "\n",
    "If there are any headers, these can be ignored by changing the value in 'skiprows=0'\n",
    "\n",
    "Since the file structure is very simple we can use numpy to read from the file - we don't need Pandas dataframes. We will also use numpy to carry out the necessary mathematical functions on the data (e.g. apply a multiplier to scale the data or offset the data vertically to correct for a non-zero baseline).\n",
    "\n",
    "To inspect the data, plots will be generated using matplotlib.\n",
    "\n",
    "The fitting is carried out using curve_fit from the scipy.optimize package.\n",
    "\n",
    "First load the data file by entering the filename below:\n"
   ]
  },
  {
   "cell_type": "code",
   "execution_count": 356,
   "metadata": {},
   "outputs": [],
   "source": [
    "date = \"2021_05_13\"\n",
    "spl = \"ASW\"\n",
    "XP = \"XP_1-1\"\n",
    "#T_Dep = \"\"\n",
    "\n",
    "\n",
    "filename=\"D:\\DATA-RAW\\PAC\\{}/{}/laser-diode_{}.csv\".format(XP,date,date)"
   ]
  },
  {
   "cell_type": "markdown",
   "metadata": {},
   "source": [
    "## Import"
   ]
  },
  {
   "cell_type": "code",
   "execution_count": 357,
   "metadata": {},
   "outputs": [],
   "source": [
    "#function to import data, skips first 0 rows containing header information and outputs x and y data arrays\n",
    "def importdata(filename):\n",
    "    x, y = np.genfromtxt(filename, delimiter = ',', \n",
    "                        dtype = float, usecols = (0,1), unpack = True, skip_header = 1)\n",
    "    return x, y\n",
    "\n",
    "x, y = importdata(filename)     #extracts the x, y data from the data file"
   ]
  },
  {
   "cell_type": "code",
   "execution_count": 358,
   "metadata": {},
   "outputs": [
    {
     "data": {
      "text/plain": [
       "array([   0.,   30.,   60.,   90.,  120.,  150.,  180.,  210.,  240.,\n",
       "        270.,  300.,  330.,  360.,  390.,  420.,  450.,  480.,  510.,\n",
       "        540.,  570.,  600.,  630.,  660.,  690.,  720.,  750.,  780.,\n",
       "        810.,  840.,  870.,  900.,  930.,  960.,  990., 1020., 1050.,\n",
       "       1080., 1110., 1140., 1170., 1200.])"
      ]
     },
     "execution_count": 358,
     "metadata": {},
     "output_type": "execute_result"
    }
   ],
   "source": [
    "x"
   ]
  },
  {
   "cell_type": "code",
   "execution_count": 359,
   "metadata": {},
   "outputs": [
    {
     "data": {
      "text/plain": [
       "array([324.5, 323. , 321.5, 319.5, 318.3, 319. , 320.6, 322.1, 323.1,\n",
       "       323.7, 323.7, 323.2, 322.1, 320.9, 319.2,   nan, 317. , 318.2,\n",
       "       320.1, 321.8, 322.6, 323.2, 323.3, 323. , 322.1, 320.6, 318.8,\n",
       "       317. , 316.8, 318.2, 320.1, 321.7, 322.5, 322.9, 323. , 322.5,\n",
       "       321.6, 320.2, 318.3, 316.6, 316.3])"
      ]
     },
     "execution_count": 359,
     "metadata": {},
     "output_type": "execute_result"
    }
   ],
   "source": [
    "y\n"
   ]
  },
  {
   "cell_type": "markdown",
   "metadata": {},
   "source": [
    "## Sanity check"
   ]
  },
  {
   "cell_type": "markdown",
   "metadata": {},
   "source": [
    "### Nans value ?"
   ]
  },
  {
   "cell_type": "code",
   "execution_count": 360,
   "metadata": {},
   "outputs": [],
   "source": [
    "date_thick = pd.read_csv(\"D:\\DATA-RAW\\PAC\\{}/{}/laser-diode_{}.csv\".format(XP,date,date))"
   ]
  },
  {
   "cell_type": "code",
   "execution_count": 361,
   "metadata": {},
   "outputs": [
    {
     "data": {
      "text/html": [
       "<div>\n",
       "<style scoped>\n",
       "    .dataframe tbody tr th:only-of-type {\n",
       "        vertical-align: middle;\n",
       "    }\n",
       "\n",
       "    .dataframe tbody tr th {\n",
       "        vertical-align: top;\n",
       "    }\n",
       "\n",
       "    .dataframe thead th {\n",
       "        text-align: right;\n",
       "    }\n",
       "</style>\n",
       "<table border=\"1\" class=\"dataframe\">\n",
       "  <thead>\n",
       "    <tr style=\"text-align: right;\">\n",
       "      <th></th>\n",
       "      <th>time/s</th>\n",
       "      <th>voltage/mV</th>\n",
       "    </tr>\n",
       "  </thead>\n",
       "  <tbody>\n",
       "    <tr>\n",
       "      <th>0</th>\n",
       "      <td>0</td>\n",
       "      <td>324.5</td>\n",
       "    </tr>\n",
       "    <tr>\n",
       "      <th>1</th>\n",
       "      <td>30</td>\n",
       "      <td>323.0</td>\n",
       "    </tr>\n",
       "    <tr>\n",
       "      <th>2</th>\n",
       "      <td>60</td>\n",
       "      <td>321.5</td>\n",
       "    </tr>\n",
       "    <tr>\n",
       "      <th>3</th>\n",
       "      <td>90</td>\n",
       "      <td>319.5</td>\n",
       "    </tr>\n",
       "    <tr>\n",
       "      <th>4</th>\n",
       "      <td>120</td>\n",
       "      <td>318.3</td>\n",
       "    </tr>\n",
       "    <tr>\n",
       "      <th>5</th>\n",
       "      <td>150</td>\n",
       "      <td>319.0</td>\n",
       "    </tr>\n",
       "    <tr>\n",
       "      <th>6</th>\n",
       "      <td>180</td>\n",
       "      <td>320.6</td>\n",
       "    </tr>\n",
       "    <tr>\n",
       "      <th>7</th>\n",
       "      <td>210</td>\n",
       "      <td>322.1</td>\n",
       "    </tr>\n",
       "    <tr>\n",
       "      <th>8</th>\n",
       "      <td>240</td>\n",
       "      <td>323.1</td>\n",
       "    </tr>\n",
       "    <tr>\n",
       "      <th>9</th>\n",
       "      <td>270</td>\n",
       "      <td>323.7</td>\n",
       "    </tr>\n",
       "    <tr>\n",
       "      <th>10</th>\n",
       "      <td>300</td>\n",
       "      <td>323.7</td>\n",
       "    </tr>\n",
       "    <tr>\n",
       "      <th>11</th>\n",
       "      <td>330</td>\n",
       "      <td>323.2</td>\n",
       "    </tr>\n",
       "    <tr>\n",
       "      <th>12</th>\n",
       "      <td>360</td>\n",
       "      <td>322.1</td>\n",
       "    </tr>\n",
       "    <tr>\n",
       "      <th>13</th>\n",
       "      <td>390</td>\n",
       "      <td>320.9</td>\n",
       "    </tr>\n",
       "    <tr>\n",
       "      <th>14</th>\n",
       "      <td>420</td>\n",
       "      <td>319.2</td>\n",
       "    </tr>\n",
       "    <tr>\n",
       "      <th>15</th>\n",
       "      <td>450</td>\n",
       "      <td>NaN</td>\n",
       "    </tr>\n",
       "    <tr>\n",
       "      <th>16</th>\n",
       "      <td>480</td>\n",
       "      <td>317.0</td>\n",
       "    </tr>\n",
       "    <tr>\n",
       "      <th>17</th>\n",
       "      <td>510</td>\n",
       "      <td>318.2</td>\n",
       "    </tr>\n",
       "    <tr>\n",
       "      <th>18</th>\n",
       "      <td>540</td>\n",
       "      <td>320.1</td>\n",
       "    </tr>\n",
       "    <tr>\n",
       "      <th>19</th>\n",
       "      <td>570</td>\n",
       "      <td>321.8</td>\n",
       "    </tr>\n",
       "    <tr>\n",
       "      <th>20</th>\n",
       "      <td>600</td>\n",
       "      <td>322.6</td>\n",
       "    </tr>\n",
       "    <tr>\n",
       "      <th>21</th>\n",
       "      <td>630</td>\n",
       "      <td>323.2</td>\n",
       "    </tr>\n",
       "    <tr>\n",
       "      <th>22</th>\n",
       "      <td>660</td>\n",
       "      <td>323.3</td>\n",
       "    </tr>\n",
       "    <tr>\n",
       "      <th>23</th>\n",
       "      <td>690</td>\n",
       "      <td>323.0</td>\n",
       "    </tr>\n",
       "    <tr>\n",
       "      <th>24</th>\n",
       "      <td>720</td>\n",
       "      <td>322.1</td>\n",
       "    </tr>\n",
       "    <tr>\n",
       "      <th>25</th>\n",
       "      <td>750</td>\n",
       "      <td>320.6</td>\n",
       "    </tr>\n",
       "    <tr>\n",
       "      <th>26</th>\n",
       "      <td>780</td>\n",
       "      <td>318.8</td>\n",
       "    </tr>\n",
       "    <tr>\n",
       "      <th>27</th>\n",
       "      <td>810</td>\n",
       "      <td>317.0</td>\n",
       "    </tr>\n",
       "    <tr>\n",
       "      <th>28</th>\n",
       "      <td>840</td>\n",
       "      <td>316.8</td>\n",
       "    </tr>\n",
       "    <tr>\n",
       "      <th>29</th>\n",
       "      <td>870</td>\n",
       "      <td>318.2</td>\n",
       "    </tr>\n",
       "    <tr>\n",
       "      <th>30</th>\n",
       "      <td>900</td>\n",
       "      <td>320.1</td>\n",
       "    </tr>\n",
       "    <tr>\n",
       "      <th>31</th>\n",
       "      <td>930</td>\n",
       "      <td>321.7</td>\n",
       "    </tr>\n",
       "    <tr>\n",
       "      <th>32</th>\n",
       "      <td>960</td>\n",
       "      <td>322.5</td>\n",
       "    </tr>\n",
       "    <tr>\n",
       "      <th>33</th>\n",
       "      <td>990</td>\n",
       "      <td>322.9</td>\n",
       "    </tr>\n",
       "    <tr>\n",
       "      <th>34</th>\n",
       "      <td>1020</td>\n",
       "      <td>323.0</td>\n",
       "    </tr>\n",
       "    <tr>\n",
       "      <th>35</th>\n",
       "      <td>1050</td>\n",
       "      <td>322.5</td>\n",
       "    </tr>\n",
       "    <tr>\n",
       "      <th>36</th>\n",
       "      <td>1080</td>\n",
       "      <td>321.6</td>\n",
       "    </tr>\n",
       "    <tr>\n",
       "      <th>37</th>\n",
       "      <td>1110</td>\n",
       "      <td>320.2</td>\n",
       "    </tr>\n",
       "    <tr>\n",
       "      <th>38</th>\n",
       "      <td>1140</td>\n",
       "      <td>318.3</td>\n",
       "    </tr>\n",
       "    <tr>\n",
       "      <th>39</th>\n",
       "      <td>1170</td>\n",
       "      <td>316.6</td>\n",
       "    </tr>\n",
       "    <tr>\n",
       "      <th>40</th>\n",
       "      <td>1200</td>\n",
       "      <td>316.3</td>\n",
       "    </tr>\n",
       "  </tbody>\n",
       "</table>\n",
       "</div>"
      ],
      "text/plain": [
       "    time/s  voltage/mV\n",
       "0        0       324.5\n",
       "1       30       323.0\n",
       "2       60       321.5\n",
       "3       90       319.5\n",
       "4      120       318.3\n",
       "5      150       319.0\n",
       "6      180       320.6\n",
       "7      210       322.1\n",
       "8      240       323.1\n",
       "9      270       323.7\n",
       "10     300       323.7\n",
       "11     330       323.2\n",
       "12     360       322.1\n",
       "13     390       320.9\n",
       "14     420       319.2\n",
       "15     450         NaN\n",
       "16     480       317.0\n",
       "17     510       318.2\n",
       "18     540       320.1\n",
       "19     570       321.8\n",
       "20     600       322.6\n",
       "21     630       323.2\n",
       "22     660       323.3\n",
       "23     690       323.0\n",
       "24     720       322.1\n",
       "25     750       320.6\n",
       "26     780       318.8\n",
       "27     810       317.0\n",
       "28     840       316.8\n",
       "29     870       318.2\n",
       "30     900       320.1\n",
       "31     930       321.7\n",
       "32     960       322.5\n",
       "33     990       322.9\n",
       "34    1020       323.0\n",
       "35    1050       322.5\n",
       "36    1080       321.6\n",
       "37    1110       320.2\n",
       "38    1140       318.3\n",
       "39    1170       316.6\n",
       "40    1200       316.3"
      ]
     },
     "execution_count": 361,
     "metadata": {},
     "output_type": "execute_result"
    }
   ],
   "source": [
    "date_thick.head(60)"
   ]
  },
  {
   "cell_type": "markdown",
   "metadata": {},
   "source": [
    " $\\color{red}{\\text{If Nan values in column 2, uncomment the 2 lines below }}$"
   ]
  },
  {
   "cell_type": "code",
   "execution_count": 362,
   "metadata": {},
   "outputs": [],
   "source": [
    "#date_thick_clean = date_thick.dropna()"
   ]
  },
  {
   "cell_type": "code",
   "execution_count": 363,
   "metadata": {},
   "outputs": [],
   "source": [
    "#date_thick_clean.to_csv(\"D:\\DATA-RAW\\PAC\\{}/{}/laser-diode_{}.csv\".format(XP,date,date), index=False)"
   ]
  },
  {
   "cell_type": "markdown",
   "metadata": {},
   "source": [
    "We overwright the Raw laser diode data, but a copy of the original file must have been done prior to running this notebook and save as laser-diode_(date)_full.xls"
   ]
  },
  {
   "cell_type": "markdown",
   "metadata": {},
   "source": [
    "After supressing the nan values we need to reopen the file (call importdata function)"
   ]
  },
  {
   "cell_type": "code",
   "execution_count": 364,
   "metadata": {},
   "outputs": [],
   "source": [
    "#x, y = importdata(filename)"
   ]
  },
  {
   "cell_type": "markdown",
   "metadata": {},
   "source": [
    "In some cases the signal may appear negative deepenting on the polarity of the connections to the laser diode. A simple way to fix this is with the following code"
   ]
  },
  {
   "cell_type": "code",
   "execution_count": 365,
   "metadata": {},
   "outputs": [],
   "source": [
    "#checks for negative signal and makes it positive\n",
    "if np.any(y < 0):\n",
    "    y = -1*y"
   ]
  },
  {
   "cell_type": "markdown",
   "metadata": {},
   "source": [
    "# 2 Fitting\n",
    "\n",
    "The sinusoidal signal takes the form\n",
    "$$y = y_0 + A sin(\\frac{2\\pi}{w}(x-x_c))$$\n",
    "\n",
    "where $y_0$ is the vertical offset, $A$ is the amplitude, $x_c$ is the horizontal offset and $w$ is the period (i.e. $2\\pi/w$ is the frequency)\n",
    "\n",
    "We define the sine function 'sinfit(x, *p)' for the fit with some initial guesses, which can be edited accordingly.\n",
    "\n"
   ]
  },
  {
   "cell_type": "markdown",
   "metadata": {},
   "source": [
    "## Function"
   ]
  },
  {
   "cell_type": "code",
   "execution_count": 366,
   "metadata": {},
   "outputs": [],
   "source": [
    "#sin function used y0 + A*sin(2pi(x-xc)/w)\n",
    "#with y0=y-offset, A=amplitude, xc=x-offset/phase, w=period \n",
    "def sinfit(x,*p):\n",
    "    y0, A, xc, w = p\n",
    "    return A*np.sin(2*np.pi*(x-xc)/w)+y0\n"
   ]
  },
  {
   "cell_type": "markdown",
   "metadata": {},
   "source": [
    "## Guess 1"
   ]
  },
  {
   "cell_type": "code",
   "execution_count": 367,
   "metadata": {},
   "outputs": [],
   "source": [
    "\n",
    "#Guess values\n",
    "\n",
    "guess =[330, 4, 0, 400]\n",
    "popt =[324, 4, 0, 400]\n",
    "\n",
    "\n",
    "#fits the funtion and returns the parameters of the fit poppt[as many guesses as you have]\n",
    "popt, pcov = curve_fit(sinfit, x, y, p0=guess, maxfev=10000, absolute_sigma=True)\n",
    "\n",
    "#chi squared calculation\n",
    "chi_squared = np.sum(((y-sinfit(x,*popt))**2)/(sinfit(x,*popt)) )\n",
    "perr = np.sqrt(np.diag(pcov))"
   ]
  },
  {
   "cell_type": "markdown",
   "metadata": {},
   "source": [
    "## Plot 1"
   ]
  },
  {
   "cell_type": "code",
   "execution_count": 368,
   "metadata": {},
   "outputs": [
    {
     "data": {
      "image/png": "[encoded data removed]",
      "text/plain": [
       "<Figure size 576x432 with 1 Axes>"
      ]
     },
     "metadata": {
      "needs_background": "light"
     },
     "output_type": "display_data"
    },
    {
     "name": "stdout",
     "output_type": "stream",
     "text": [
      "Chi-sq =  8.469394e-02 \n",
      "\n",
      "Parameters of the fit:\n",
      "y0 =  320.92 ±  0.16\n",
      "A = -3.05 ±  0.23\n",
      "xc =  42.49 ±  7.32\n",
      "w =  348.99 ±  3.99\n",
      "\n"
     ]
    }
   ],
   "source": [
    "fig= plt.figure(figsize=(8,6))\n",
    "\n",
    "\n",
    "t1 = str(f\"Chi-sq = {chi_squared: 2e} \\n\")\n",
    "\n",
    "t2 = str(f\"Parameters of the fit:\\n\\\n",
    "y0 = {popt[0]: .2f} \\u00B1 {perr[0]: .2f}\\n\\\n",
    "A = {popt[1]: .2f} \\u00B1 {perr[1]: .2f}\\n\\\n",
    "xc = {popt[2]: .2f} \\u00B1 {perr[2]: .2f}\\n\\\n",
    "w = {popt[3]: .2f} \\u00B1 {perr[3]: .2f}\\n\")\n",
    "\n",
    "#plots:\n",
    "plt.plot(x, y, '.', label='data' )\n",
    "plt.plot(x, sinfit(x,*popt),'r-', label='Fit')\n",
    "plt.title('{0} Thickness calculation'.format(date))\n",
    "plt.xlabel('Time/s')\n",
    "plt.ylabel(r'Photodiode signal/mV')\n",
    "plt.legend()\n",
    "plt.text(1, 0.2, t1, fontsize=14, transform=plt.gcf().transFigure)\n",
    "plt.text(1, 0.6, t2, fontsize=14, transform=plt.gcf().transFigure)\n",
    "\n",
    "plt.savefig('D:\\DATA-Processing\\PAC\\{}/Samples/{}/Plots/DR/Thickness-calc_{}_1.png'.format(XP, date, date), bbox_inches=\"tight\")\n",
    "\n",
    "\n",
    "plt.show()\n",
    "\n",
    "#print calculated chi suqared\n",
    "t1 = print(f\"Chi-sq = {chi_squared: 2e} \\n\")\n",
    "\n",
    "#print parameters of the fit\n",
    "t2 = print(f\"Parameters of the fit:\\n\\\n",
    "y0 = {popt[0]: .2f} \\u00B1 {perr[0]: .2f}\\n\\\n",
    "A = {popt[1]: .2f} \\u00B1 {perr[1]: .2f}\\n\\\n",
    "xc = {popt[2]: .2f} \\u00B1 {perr[2]: .2f}\\n\\\n",
    "w = {popt[3]: .2f} \\u00B1 {perr[3]: .2f}\\n\")\n",
    "\n",
    "\n",
    "\n",
    "\n",
    "\n"
   ]
  },
  {
   "cell_type": "markdown",
   "metadata": {},
   "source": [
    "## Guess 2"
   ]
  },
  {
   "cell_type": "code",
   "execution_count": 375,
   "metadata": {},
   "outputs": [],
   "source": [
    "#normal values\n",
    "\n",
    "guess =[330, 4, 0, 400]\n",
    "popt =[324, 4, 0, 400]\n",
    "\n",
    "#17-09 values\n",
    "\n",
    "#guess =[323, 4, 25, 50]\n",
    "#popt =[324, 2.4, 25, 25]\n",
    "\n",
    "#21_09\n",
    "\n",
    "#guess =[325, 4, 2000, 4000]\n",
    "#popt =[324, 2.4, 2000, 4000]\n",
    "\n",
    "x2 = x[(x>0) & (x<1200)]\n",
    "y2 = y[(x>0) & (x<1200)]\n",
    "\n",
    "#x2 = x[(x>0) & (x<3800)  + (x>4500) & (x<8000)]\n",
    "#y2 = y[(x>0) & (x<3800) + (x>4500) & (x<8000)] \n",
    "\n",
    "\n",
    "\n",
    "\n",
    "\n",
    "\n",
    "#fits the funtion and returns the parameters of the fit poppt[as many guesses as you have]\n",
    "popt, pcov = curve_fit(sinfit, x2, y2, p0=guess, maxfev=10000, absolute_sigma=True)\n",
    "\n",
    "#chi squared calculation\n",
    "chi_squared = np.sum(((y-sinfit(x,*popt))**2)/(sinfit(x,*popt)) )\n",
    "perr = np.sqrt(np.diag(pcov))"
   ]
  },
  {
   "cell_type": "markdown",
   "metadata": {},
   "source": [
    "## Plot 2"
   ]
  },
  {
   "cell_type": "code",
   "execution_count": 376,
   "metadata": {},
   "outputs": [
    {
     "data": {
      "image/png": "[encoded data removed]",
      "text/plain": [
       "<Figure size 576x432 with 1 Axes>"
      ]
     },
     "metadata": {
      "needs_background": "light"
     },
     "output_type": "display_data"
    },
    {
     "name": "stdout",
     "output_type": "stream",
     "text": [
      "Chi-sq =  8.676603e-02 \n",
      "\n",
      "Parameters of the fit:\n",
      "y0 =  320.93 ±  0.16\n",
      "A = -2.91 ±  0.23\n",
      "xc =  39.75 ±  8.14\n",
      "w =  349.55 ±  4.43\n",
      "\n"
     ]
    }
   ],
   "source": [
    "fig= plt.figure(figsize=(8,6))\n",
    "\n",
    "\n",
    "t1 = str(f\"Chi-sq = {chi_squared: 2e}  \\n\\\n",
    "range: 0 - 700\")\n",
    "\n",
    "\n",
    "\n",
    "\n",
    "t2 = str(f\"Parameters of the fit:\\n\\\n",
    "y0 = {popt[0]: .2f} \\u00B1 {perr[0]: .2f}\\n\\\n",
    "A = {popt[1]: .2f} \\u00B1 {perr[1]: .2f}\\n\\\n",
    "xc = {popt[2]: .2f} \\u00B1 {perr[2]: .2f}\\n\\\n",
    "w = {popt[3]: .2f} \\u00B1 {perr[3]: .2f}\\n\")\n",
    "\n",
    "#plots:\n",
    "plt.plot(x, y, '.', label='data' )\n",
    "plt.plot(x, sinfit(x,*popt),'r-', label='Fit')\n",
    "plt.title('{0} Thickness calculation'.format(date))\n",
    "plt.xlabel('Time/s')\n",
    "plt.ylabel(r'Photodiode signal/mV')\n",
    "plt.legend()\n",
    "plt.text(1, 0.2, t1, fontsize=14, transform=plt.gcf().transFigure)\n",
    "plt.text(1, 0.6, t2, fontsize=14, transform=plt.gcf().transFigure)\n",
    "\n",
    "plt.savefig('D:\\DATA-Processing\\PAC\\{}/Samples/{}/Plots/DR/Thickness-calc_{}_2.png'.format(XP, date, date), bbox_inches=\"tight\")\n",
    "\n",
    "\n",
    "plt.show()\n",
    "\n",
    "#print calculated chi suqared\n",
    "t1 = print(f\"Chi-sq = {chi_squared: 2e} \\n\")\n",
    "\n",
    "#print parameters of the fit\n",
    "t2 = print(f\"Parameters of the fit:\\n\\\n",
    "y0 = {popt[0]: .2f} \\u00B1 {perr[0]: .2f}\\n\\\n",
    "A = {popt[1]: .2f} \\u00B1 {perr[1]: .2f}\\n\\\n",
    "xc = {popt[2]: .2f} \\u00B1 {perr[2]: .2f}\\n\\\n",
    "w = {popt[3]: .2f} \\u00B1 {perr[3]: .2f}\\n\")\n",
    "\n"
   ]
  },
  {
   "cell_type": "markdown",
   "metadata": {},
   "source": [
    "# 3 Thickness Calculation\n",
    "\n",
    "To calculate the film thickness we use the thin film interference equation:\n",
    "\n",
    "$$d = \\frac{\\lambda_0}{2n_1 cos\\theta_1}$$\n",
    "\n",
    "where $\\lambda_0$ is the wavelength of the laser in vacuum (632.8 nm), $n_1$ is the refractive index of the film and $\\theta_1$ is the angle of reflection within the film (at the substrate/ice interface).\n",
    "\n",
    "The refractive index of the film $n$ is estimated fromthe ratio of the maxima and the minima of the sinusoidal fit:\n",
    "\n",
    "$$n = \\frac{y_0 + A}{y_0 - A}$$\n",
    "\n",
    "To obtain  $\\theta_1$ we use Snell's law\n",
    "\n",
    "$$n_1 sin\\theta_1 = n_0 sin\\theta_0$$\n",
    "\n",
    "where $n_0 = 1$ in vacuum and $\\theta_0$ is 20$^\\circ$\n",
    "\n"
   ]
  },
  {
   "cell_type": "code",
   "execution_count": 377,
   "metadata": {},
   "outputs": [
    {
     "name": "stdout",
     "output_type": "stream",
     "text": [
      "Refractive index of ice film, n1 =  0.98 at 632.8 nm\n",
      "\n",
      "theta1 =  20.38 degrees\n",
      "\n",
      "d = 343.71 nm per fringe\n"
     ]
    }
   ],
   "source": [
    "#refractive index is given by n = (y0+A)/(y0-A)\n",
    "n1=(popt[0]+popt[1])/(popt[0]-popt[1])\n",
    "\n",
    "print (f\"Refractive index of ice film, n1 = {n1: .2f} at 632.8 nm\")\n",
    "\n",
    "#n1*sin(theta1)=n0*sin(theta0), so theta1=arcsin(sin(20deg)/n1)\n",
    "#!Attention, python numpy works in radians\n",
    "theta0=np.radians(20)\n",
    "\n",
    "theta1=np.arcsin(np.sin(theta0)/n1)\n",
    "theta1_deg=np.rad2deg(theta1)\n",
    "\n",
    "print (f\"\\ntheta1 = {theta1_deg: .2f} degrees\")\n",
    "\n",
    "#thickness per fringe, d = lambda(632.8)/2*n1*cos(theta1)\n",
    "d=632.8/(2*n1*np.cos(theta1))\n",
    "\n",
    "print (f\"\\nd = {d:.2f} nm per fringe\")\n"
   ]
  },
  {
   "cell_type": "markdown",
   "metadata": {},
   "source": [
    "Finally, to calculate the thickness:\n",
    "$d$ gives the thickness per fringe and the period $w$ gives the time per fringe, so the rate given by thickness/time is (thickness/fringe)/(time/fringe) = $d/w$. "
   ]
  },
  {
   "cell_type": "code",
   "execution_count": 378,
   "metadata": {},
   "outputs": [
    {
     "name": "stdout",
     "output_type": "stream",
     "text": [
      "Deposition rate =  0.98 nm/s\n"
     ]
    }
   ],
   "source": [
    "#rate = (thickness/fringe) / (time/fringe)\n",
    "rate=d/popt[3]\n",
    "\n",
    "print (f\"Deposition rate = {rate: .2f} nm/s\")\n"
   ]
  },
  {
   "cell_type": "markdown",
   "metadata": {},
   "source": [
    "$\\color{red}{\\text{How to convert in ML/s}}$"
   ]
  },
  {
   "cell_type": "markdown",
   "metadata": {},
   "source": [
    "To obtain the final thickness, multiply the rate (nm/s) by the total deposition time (s)"
   ]
  },
  {
   "cell_type": "code",
   "execution_count": 379,
   "metadata": {},
   "outputs": [
    {
     "name": "stdout",
     "output_type": "stream",
     "text": [
      "Ice film thickness, l =  1179.95 nm\n"
     ]
    }
   ],
   "source": [
    "#enter deposition time, t in seconds\n",
    "t= float(1200)\n",
    "\n",
    "#calculate thickness, l in nm\n",
    "thickness=rate*t\n",
    "\n",
    "print (f\"Ice film thickness, l = {thickness: .2f} nm\")"
   ]
  },
  {
   "cell_type": "markdown",
   "metadata": {},
   "source": [
    "# 4 Data Export"
   ]
  },
  {
   "cell_type": "code",
   "execution_count": 380,
   "metadata": {},
   "outputs": [],
   "source": [
    "Ice_thick_date = []"
   ]
  },
  {
   "cell_type": "code",
   "execution_count": 381,
   "metadata": {},
   "outputs": [],
   "source": [
    "Ice_thick_date.append(\n",
    "        \n",
    "        {\n",
    "            'Sample' : str(spl),\n",
    "            'Date' : str(date),\n",
    "            'n1' :  n1,\n",
    "            'teta1' : theta1_deg,\n",
    "            'd' : d,\n",
    "            'rate' : rate,\n",
    "            'thickness' : thickness,\n",
    "            'Na' : \"\",\n",
    "            'Nc' : \"\", \n",
    "\n",
    "            })"
   ]
  },
  {
   "cell_type": "code",
   "execution_count": 382,
   "metadata": {},
   "outputs": [],
   "source": [
    "Ice_thick_date_df = pd.DataFrame(Ice_thick_date)"
   ]
  },
  {
   "cell_type": "code",
   "execution_count": 383,
   "metadata": {},
   "outputs": [
    {
     "data": {
      "text/html": [
       "<div>\n",
       "<style scoped>\n",
       "    .dataframe tbody tr th:only-of-type {\n",
       "        vertical-align: middle;\n",
       "    }\n",
       "\n",
       "    .dataframe tbody tr th {\n",
       "        vertical-align: top;\n",
       "    }\n",
       "\n",
       "    .dataframe thead th {\n",
       "        text-align: right;\n",
       "    }\n",
       "</style>\n",
       "<table border=\"1\" class=\"dataframe\">\n",
       "  <thead>\n",
       "    <tr style=\"text-align: right;\">\n",
       "      <th></th>\n",
       "      <th>Sample</th>\n",
       "      <th>Date</th>\n",
       "      <th>n1</th>\n",
       "      <th>teta1</th>\n",
       "      <th>d</th>\n",
       "      <th>rate</th>\n",
       "      <th>thickness</th>\n",
       "      <th>Na</th>\n",
       "      <th>Nc</th>\n",
       "    </tr>\n",
       "  </thead>\n",
       "  <tbody>\n",
       "    <tr>\n",
       "      <th>0</th>\n",
       "      <td>ASW</td>\n",
       "      <td>2021_05_13</td>\n",
       "      <td>0.982035</td>\n",
       "      <td>20.381966</td>\n",
       "      <td>343.707107</td>\n",
       "      <td>0.983288</td>\n",
       "      <td>1179.945506</td>\n",
       "      <td></td>\n",
       "      <td></td>\n",
       "    </tr>\n",
       "  </tbody>\n",
       "</table>\n",
       "</div>"
      ],
      "text/plain": [
       "  Sample        Date        n1      teta1           d      rate    thickness  \\\n",
       "0    ASW  2021_05_13  0.982035  20.381966  343.707107  0.983288  1179.945506   \n",
       "\n",
       "  Na Nc  \n",
       "0        "
      ]
     },
     "execution_count": 383,
     "metadata": {},
     "output_type": "execute_result"
    }
   ],
   "source": [
    "Ice_thick_date_df"
   ]
  },
  {
   "cell_type": "code",
   "execution_count": 384,
   "metadata": {},
   "outputs": [],
   "source": [
    "Ice_thick_df = pd.read_csv('D:\\DATA-Processing\\PAC\\Ice_thickness.csv')"
   ]
  },
  {
   "cell_type": "code",
   "execution_count": 385,
   "metadata": {},
   "outputs": [
    {
     "name": "stdout",
     "output_type": "stream",
     "text": [
      "0    2020_09_15\n",
      "1    2020_09_16\n",
      "2    2020_09_17\n",
      "3    2020_09_21\n",
      "4    2020_09_28\n",
      "5    2020_10_22\n",
      "6    2020_11_16\n",
      "7    2020_11_19\n",
      "Name: Date, dtype: object\n"
     ]
    }
   ],
   "source": [
    "XP_Date = []\n",
    "\n",
    "XP_Date = str(Ice_thick_df['Date'])\n",
    "print(XP_Date)"
   ]
  },
  {
   "cell_type": "code",
   "execution_count": 386,
   "metadata": {},
   "outputs": [],
   "source": [
    "#if date in XP_Date:\n",
    "    #    print(\"Not appended\")\n",
    "#else:\n",
    "Ice_thick_date_df.to_csv('D:\\DATA-Processing\\PAC\\Ice_thickness.csv', mode='a', header=False, index=False)"
   ]
  },
  {
   "cell_type": "markdown",
   "metadata": {},
   "source": [
    "## Data Visualisation"
   ]
  },
  {
   "cell_type": "code",
   "execution_count": 387,
   "metadata": {},
   "outputs": [
    {
     "data": {
      "text/html": [
       "<div>\n",
       "<style scoped>\n",
       "    .dataframe tbody tr th:only-of-type {\n",
       "        vertical-align: middle;\n",
       "    }\n",
       "\n",
       "    .dataframe tbody tr th {\n",
       "        vertical-align: top;\n",
       "    }\n",
       "\n",
       "    .dataframe thead th {\n",
       "        text-align: right;\n",
       "    }\n",
       "</style>\n",
       "<table border=\"1\" class=\"dataframe\">\n",
       "  <thead>\n",
       "    <tr style=\"text-align: right;\">\n",
       "      <th></th>\n",
       "      <th>Sample</th>\n",
       "      <th>Date</th>\n",
       "      <th>n1</th>\n",
       "      <th>teta1</th>\n",
       "      <th>d</th>\n",
       "      <th>rate</th>\n",
       "      <th>thickness</th>\n",
       "      <th>Na</th>\n",
       "      <th>Nc</th>\n",
       "    </tr>\n",
       "  </thead>\n",
       "  <tbody>\n",
       "    <tr>\n",
       "      <th>0</th>\n",
       "      <td>ASW</td>\n",
       "      <td>2020_09_15</td>\n",
       "      <td>0.993048</td>\n",
       "      <td>20.146063</td>\n",
       "      <td>339.379075</td>\n",
       "      <td>0.755029</td>\n",
       "      <td>906.035346</td>\n",
       "      <td>4.810000e+17</td>\n",
       "      <td>5.590000e+17</td>\n",
       "    </tr>\n",
       "    <tr>\n",
       "      <th>1</th>\n",
       "      <td>ASW</td>\n",
       "      <td>2020_09_16</td>\n",
       "      <td>0.986981</td>\n",
       "      <td>20.275327</td>\n",
       "      <td>341.749008</td>\n",
       "      <td>0.896849</td>\n",
       "      <td>1076.218697</td>\n",
       "      <td>4.795654e+17</td>\n",
       "      <td>5.793533e+17</td>\n",
       "    </tr>\n",
       "    <tr>\n",
       "      <th>2</th>\n",
       "      <td>ASW</td>\n",
       "      <td>2020_09_17</td>\n",
       "      <td>1.013398</td>\n",
       "      <td>19.724534</td>\n",
       "      <td>331.677757</td>\n",
       "      <td>6.971830</td>\n",
       "      <td>836.619653</td>\n",
       "      <td>6.757415e+17</td>\n",
       "      <td>4.839162e+17</td>\n",
       "    </tr>\n",
       "    <tr>\n",
       "      <th>3</th>\n",
       "      <td>ASW</td>\n",
       "      <td>2020_09_21</td>\n",
       "      <td>1.012572</td>\n",
       "      <td>19.741297</td>\n",
       "      <td>331.983246</td>\n",
       "      <td>0.065403</td>\n",
       "      <td>784.835867</td>\n",
       "      <td>4.434018e+17</td>\n",
       "      <td>4.418921e+17</td>\n",
       "    </tr>\n",
       "    <tr>\n",
       "      <th>4</th>\n",
       "      <td>ASW</td>\n",
       "      <td>2020_09_28</td>\n",
       "      <td>1.011625</td>\n",
       "      <td>19.760549</td>\n",
       "      <td>332.334152</td>\n",
       "      <td>0.755904</td>\n",
       "      <td>907.084289</td>\n",
       "      <td>4.327905e+17</td>\n",
       "      <td>5.492510e+17</td>\n",
       "    </tr>\n",
       "    <tr>\n",
       "      <th>5</th>\n",
       "      <td>ASW</td>\n",
       "      <td>2020_10_22</td>\n",
       "      <td>1.185651</td>\n",
       "      <td>16.766143</td>\n",
       "      <td>278.705278</td>\n",
       "      <td>0.569413</td>\n",
       "      <td>683.295683</td>\n",
       "      <td>4.814449e+17</td>\n",
       "      <td>3.791857e+17</td>\n",
       "    </tr>\n",
       "    <tr>\n",
       "      <th>6</th>\n",
       "      <td>ASW</td>\n",
       "      <td>2020_11_16</td>\n",
       "      <td>0.969877</td>\n",
       "      <td>20.649048</td>\n",
       "      <td>348.623208</td>\n",
       "      <td>1.197077</td>\n",
       "      <td>1436.492762</td>\n",
       "      <td>4.843517e+17</td>\n",
       "      <td>4.927852e+17</td>\n",
       "    </tr>\n",
       "    <tr>\n",
       "      <th>7</th>\n",
       "      <td>ASW</td>\n",
       "      <td>2020_11_19</td>\n",
       "      <td>1.032910</td>\n",
       "      <td>19.336941</td>\n",
       "      <td>324.632254</td>\n",
       "      <td>1.064639</td>\n",
       "      <td>1341.444856</td>\n",
       "      <td>5.072321e+17</td>\n",
       "      <td>6.167617e+17</td>\n",
       "    </tr>\n",
       "  </tbody>\n",
       "</table>\n",
       "</div>"
      ],
      "text/plain": [
       "  Sample        Date        n1      teta1           d      rate    thickness  \\\n",
       "0    ASW  2020_09_15  0.993048  20.146063  339.379075  0.755029   906.035346   \n",
       "1    ASW  2020_09_16  0.986981  20.275327  341.749008  0.896849  1076.218697   \n",
       "2    ASW  2020_09_17  1.013398  19.724534  331.677757  6.971830   836.619653   \n",
       "3    ASW  2020_09_21  1.012572  19.741297  331.983246  0.065403   784.835867   \n",
       "4    ASW  2020_09_28  1.011625  19.760549  332.334152  0.755904   907.084289   \n",
       "5    ASW  2020_10_22  1.185651  16.766143  278.705278  0.569413   683.295683   \n",
       "6    ASW  2020_11_16  0.969877  20.649048  348.623208  1.197077  1436.492762   \n",
       "7    ASW  2020_11_19  1.032910  19.336941  324.632254  1.064639  1341.444856   \n",
       "\n",
       "             Na            Nc  \n",
       "0  4.810000e+17  5.590000e+17  \n",
       "1  4.795654e+17  5.793533e+17  \n",
       "2  6.757415e+17  4.839162e+17  \n",
       "3  4.434018e+17  4.418921e+17  \n",
       "4  4.327905e+17  5.492510e+17  \n",
       "5  4.814449e+17  3.791857e+17  \n",
       "6  4.843517e+17  4.927852e+17  \n",
       "7  5.072321e+17  6.167617e+17  "
      ]
     },
     "execution_count": 387,
     "metadata": {},
     "output_type": "execute_result"
    }
   ],
   "source": [
    "Ice_thick_df"
   ]
  },
  {
   "cell_type": "markdown",
   "metadata": {},
   "source": [
    "# Export Result in web-page"
   ]
  },
  {
   "cell_type": "code",
   "execution_count": 388,
   "metadata": {},
   "outputs": [],
   "source": [
    "f = open(\"D:\\DATA-Processing\\PAC\\{}/Samples/{}/{}_DP.html\".format(XP,date,date),'a')\n",
    "\n",
    "\n",
    "\n",
    "message = \"\"\"<html>\n",
    "<head></head>\n",
    "<body>\n",
    "\n",
    "\n",
    "\n",
    "<h1>Sample thickness </h1>\n",
    "\n",
    "<figure>\n",
    "<a href=\"Plots\\DR\\Thickness-calc_\"\"\"+str(date) + \"\"\"_2.png\" target=\"_blank\"><image src=\"Plots\\DR\\Thickness-calc_\"\"\"+str(date) + \"\"\"_2.png\" width=\"\"  Id=\"\"  alt=\"\"/></a>      \n",
    "<figcaption></figcaption>\n",
    "</figure>\n",
    "\n",
    "<p>Output</p>\n",
    "\n",
    "\n",
    "\n",
    "\n",
    "\n",
    "</body>\n",
    "</html>\"\"\"\n",
    "\n",
    "\n",
    "\n",
    "\n",
    "f.write(message)\n",
    "f.close()"
   ]
  },
  {
   "cell_type": "code",
   "execution_count": null,
   "metadata": {},
   "outputs": [],
   "source": []
  },
  {
   "cell_type": "code",
   "execution_count": null,
   "metadata": {},
   "outputs": [],
   "source": []
  }
 ],
 "metadata": {
  "kernelspec": {
   "display_name": "Python 3",
   "language": "python",
   "name": "python3"
  },
  "language_info": {
   "codemirror_mode": {
    "name": "ipython",
    "version": 3
   },
   "file_extension": ".py",
   "mimetype": "text/x-python",
   "name": "python",
   "nbconvert_exporter": "python",
   "pygments_lexer": "ipython3",
   "version": "3.8.3"
  }
 },
 "nbformat": 4,
 "nbformat_minor": 2
}
