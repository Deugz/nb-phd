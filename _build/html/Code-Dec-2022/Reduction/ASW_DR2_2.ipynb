{
 "cells": [
  {
   "cell_type": "markdown",
   "metadata": {},
   "source": [
    "# ASW Baseline correction II"
   ]
  },
  {
   "cell_type": "markdown",
   "metadata": {},
   "source": [
    " $\\color{red}{\\text{ Need to find litterature review where baseline correction within range is applied :)}}$\n",
    " \n"
   ]
  },
  {
   "cell_type": "code",
   "execution_count": null,
   "metadata": {},
   "outputs": [],
   "source": []
  },
  {
   "cell_type": "markdown",
   "metadata": {},
   "source": [
    "#### Find the right value to select for baseline correction"
   ]
  },
  {
   "cell_type": "markdown",
   "metadata": {},
   "source": [
    "- min 1: We want 3900 cm<sup>-1</sup> - id=6430 (taking a mean of +(6440) - 5(6420) cm<sup>-1</sup> )\n",
    "- min 2: We want 2850 cm<sup>-1</sup> - id=4252 (taking a mean of +(4262) - 5(4242) cm<sup>-1</sup> )\n",
    "\n",
    "- min 3: We want 2750 cm<sup>-1</sup> - id=4045 (taking a mean of +(4055) - 5(4035) cm<sup>-1</sup> )\n",
    "- min 4: We want 1950 cm<sup>-1</sup> - id=2385 (taking a mean of +(2395) - 5(2376) cm<sup>-1</sup> )\n",
    "\n",
    "- min 5: We want 1850 cm<sup>-1</sup> - id=2178 (taking a mean of +(2188) - 5(2168) cm<sup>-1</sup> )\n",
    "- min 6: We want 1050 cm<sup>-1</sup> - id=519 (taking a mean of +(529) - 5(509) cm<sup>-1</sup> )"
   ]
  },
  {
   "cell_type": "markdown",
   "metadata": {},
   "source": [
    "Find the index from wavenumber value"
   ]
  },
  {
   "cell_type": "code",
   "execution_count": null,
   "metadata": {},
   "outputs": [],
   "source": [
    "#All_RAW_df[(All_RAW_df['Wavenumber'] > 1045) & (All_RAW_df['Wavenumber'] < 1055)].index.tolist()"
   ]
  },
  {
   "cell_type": "markdown",
   "metadata": {},
   "source": [
    "## Sanity Check"
   ]
  },
  {
   "cell_type": "code",
   "execution_count": null,
   "metadata": {},
   "outputs": [],
   "source": [
    "All_RAW_df"
   ]
  },
  {
   "cell_type": "markdown",
   "metadata": {},
   "source": [
    "## Function definition"
   ]
  },
  {
   "cell_type": "code",
   "execution_count": null,
   "metadata": {},
   "outputs": [],
   "source": [
    "\n",
    "\n",
    "dataStats = pd.DataFrame.from_dict(\n",
    "  dict(min_1=All_RAW_df[6420:6440].mean(),\n",
    "       mini_1=All_RAW_df.index[6630],\n",
    "       min_2=All_RAW_df[4242:4262].mean(),\n",
    "       mini_2=All_RAW_df.index[4252],\n",
    "       \n",
    "       min_3=All_RAW_df[4035:4055].mean(),\n",
    "       mini_3=All_RAW_df.index[4045],\n",
    "       min_4=All_RAW_df[2376:2395].mean(),\n",
    "       mini_4=All_RAW_df.index[2385],\n",
    "       \n",
    "       min_5=All_RAW_df[2168:2188].mean(),\n",
    "       mini_5=All_RAW_df.index[2178],\n",
    "       min_6=All_RAW_df[509:529].mean(),\n",
    "       mini_6=All_RAW_df.index[519],\n",
    "    )    \n",
    ")\n",
    "\n",
    "print(dataStats)\n",
    "\n",
    "\n",
    "def computeLinearBackgroundU1(values, waveNumber, valueStats):\n",
    "    \n",
    "    stats = valueStats.loc[values.name, :]\n",
    "    gradient = ((stats.min_1 - stats.min_2)/(stats.mini_1 - stats.mini_2))\n",
    "    intercept = stats.min_1 - stats.mini_1*gradient\n",
    "    linearBackgroundU1 = (gradient * waveNumber.index) + intercept\n",
    "    return linearBackgroundU1\n",
    "\n",
    "def computeLinearBackgroundU2(values, waveNumber, valueStats):\n",
    "    \n",
    "    stats = valueStats.loc[values.name, :]\n",
    "    gradient = ((stats.min_3 - stats.min_4)/(stats.mini_3 - stats.mini_4))\n",
    "    intercept = stats.min_3 - stats.mini_3*gradient\n",
    "    linearBackgroundU2 = (gradient * waveNumber.index) + intercept\n",
    "    return linearBackgroundU2\n",
    "\n",
    "def computeLinearBackgroundU3(values, waveNumber, valueStats):\n",
    "    \n",
    "    stats = valueStats.loc[values.name, :]\n",
    "    gradient = ((stats.min_5 - stats.min_6)/(stats.mini_5 - stats.mini_6))\n",
    "    intercept = stats.min_5 - stats.mini_5*gradient\n",
    "    linearBackgroundU3 = (gradient * waveNumber.index) + intercept\n",
    "    return linearBackgroundU3\n",
    "\n",
    "backgrounds_A = DR1_A_df.T.iloc[0:].T.apply(computeLinearBackgroundU1, axis=0, args=(DR1_A_df.T.iloc[0], dataStats))\n",
    "backgrounds_B = DR1_B_df.T.iloc[0:].T.apply(computeLinearBackgroundU2, axis=0, args=(DR1_B_df.T.iloc[0], dataStats))\n",
    "backgrounds_C = DR1_C_df.T.iloc[0:].T.apply(computeLinearBackgroundU3, axis=0, args=(DR1_C_df.T.iloc[0], dataStats))\n"
   ]
  },
  {
   "cell_type": "code",
   "execution_count": null,
   "metadata": {},
   "outputs": [],
   "source": []
  },
  {
   "cell_type": "code",
   "execution_count": null,
   "metadata": {},
   "outputs": [],
   "source": [
    "dataA_BC_U = pd.DataFrame(DR1_A_df - backgrounds_A)\n",
    "dataB_BC_U = pd.DataFrame(DR1_B_df - backgrounds_B)\n",
    "dataC_BC_U = pd.DataFrame(DR1_C_df - backgrounds_C)"
   ]
  },
  {
   "cell_type": "markdown",
   "metadata": {},
   "source": [
    "## Concatenation"
   ]
  },
  {
   "cell_type": "code",
   "execution_count": null,
   "metadata": {},
   "outputs": [],
   "source": [
    "All_data_A = dataC_BC_U.append(dataB_BC_U).drop_duplicates().reset_index(drop=True)\n",
    "All_data_BC_II = All_data_A.append(dataA_BC_U).drop_duplicates().reset_index(drop=True)"
   ]
  },
  {
   "cell_type": "code",
   "execution_count": null,
   "metadata": {},
   "outputs": [],
   "source": [
    "All_data_BC_II"
   ]
  }
 ],
 "metadata": {
  "kernelspec": {
   "display_name": "Python 3",
   "language": "python",
   "name": "python3"
  },
  "language_info": {
   "codemirror_mode": {
    "name": "ipython",
    "version": 3
   },
   "file_extension": ".py",
   "mimetype": "text/x-python",
   "name": "python",
   "nbconvert_exporter": "python",
   "pygments_lexer": "ipython3",
   "version": "3.8.3"
  }
 },
 "nbformat": 4,
 "nbformat_minor": 4
}
