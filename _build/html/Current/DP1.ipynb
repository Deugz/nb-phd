{
 "cells": [
  {
   "cell_type": "markdown",
   "id": "8ec29385-1564-4d3d-a266-b741400f0137",
   "metadata": {},
   "source": [
    "# Data Processing 1 \n",
    "\n",
    "For all the sample we want to \n",
    "\n",
    "- Generate some plots by range \n",
    "- Clean the samples from unsmoothed scan\n",
    "- more and more \n",
    "\n",
    "\n",
    "- Substraction of scans per range\n",
    "\n",
    "\n",
    "## Libraries"
   ]
  },
  {
   "cell_type": "code",
   "execution_count": null,
   "id": "73c1495a-ec60-41d5-a0eb-b41e2065b5ad",
   "metadata": {},
   "outputs": [],
   "source": [
    "import numpy \n",
    "import math\n",
    "import matplotlib\n",
    "import matplotlib.pyplot as plt\n",
    "from matplotlib import cm\n",
    "import pandas as pd\n",
    "from glob import glob\n",
    "from functools import reduce\n",
    "import ipywidgets as widgets\n",
    "import matplotlib.gridspec as gridspec\n",
    "from ipywidgets import interact\n",
    "import re\n",
    "from cycler import cycler\n",
    "import seaborn as sns\n",
    "import matplotlib.gridspec as gridspec\n",
    "import pylab\n",
    "\n",
    "from lmfit.models import ExponentialModel, GaussianModel\n"
   ]
  },
  {
   "cell_type": "code",
   "execution_count": null,
   "id": "9abdded5-d2e3-4491-81f9-3c8f90bf0790",
   "metadata": {},
   "outputs": [],
   "source": [
    "%matplotlib"
   ]
  },
  {
   "cell_type": "markdown",
   "id": "aad28c78-7c0b-4a7c-a975-d636b798d777",
   "metadata": {},
   "source": [
    "## Input Parameters\n",
    "\n",
    "$\\color{red}{\\text{Implement manually !}}$"
   ]
  },
  {
   "cell_type": "code",
   "execution_count": null,
   "id": "119a3b9c-17dc-4b82-a3c4-72b5cff79998",
   "metadata": {},
   "outputs": [],
   "source": [
    "# 0.1 Date\n",
    "\n",
    "date = \"2020_09_16\"\n",
    "\n",
    "# 0.2 XP\n",
    "    # Can take value XP_1-1, XP_1-2 \n",
    "\n",
    "XP = \"XP_1-1\"\n",
    "\n",
    "# 0.3 Sample type\n",
    "    # Can take value ASW, C2H6, C2H6_ASW\n",
    "\n",
    "spl = \"ASW\"\n",
    "\n"
   ]
  },
  {
   "cell_type": "markdown",
   "id": "a9a9f422-bb91-4345-9f90-11ea74e57dd3",
   "metadata": {},
   "source": [
    "## Import\n",
    "\n",
    "DR1 / DR2 / XP_Ramp / Data_annex"
   ]
  },
  {
   "cell_type": "code",
   "execution_count": null,
   "id": "c51ef2a9-4094-414e-833c-006b32ea3f9a",
   "metadata": {},
   "outputs": [],
   "source": []
  },
  {
   "cell_type": "markdown",
   "id": "14c8a737-8498-4e0f-9832-5bf1b7e98a08",
   "metadata": {},
   "source": [
    "## Split Data into sub-temperature ranges\n",
    "\n",
    "The Data processing routine is performed per sample. \n",
    "\n",
    "A date is set as input\n",
    "\n",
    "from the previous data analysis, summarized in the following document below, we have identified 4 temeperature ranges where the sample undergo different physical processes.\n",
    "\n",
    "\n",
    "\n",
    "So the purpose here is to chop the data with respect to those ranges before to perform the Substraction\n",
    "\n",
    "Experimental ranges (in T):\n",
    "\n",
    "- Range 1: 20 - 100K\n",
    "- Range 2: 100 to 130K\n",
    "- Range 3: 130K - 140K\n",
    "- Range 4: Beyond 140K\n",
    "\n",
    "\n",
    "I want to extract the temperature ramp info from XP Ramp:\n"
   ]
  },
  {
   "cell_type": "code",
   "execution_count": null,
   "id": "1af0668a-9182-4e83-88dd-faff073ceaac",
   "metadata": {},
   "outputs": [],
   "source": []
  },
  {
   "cell_type": "code",
   "execution_count": null,
   "id": "b053d737-b926-4bfc-a622-caf8f4da2e16",
   "metadata": {},
   "outputs": [],
   "source": []
  }
 ],
 "metadata": {
  "kernelspec": {
   "display_name": "Python 3 (ipykernel)",
   "language": "python",
   "name": "python3"
  },
  "language_info": {
   "codemirror_mode": {
    "name": "ipython",
    "version": 3
   },
   "file_extension": ".py",
   "mimetype": "text/x-python",
   "name": "python",
   "nbconvert_exporter": "python",
   "pygments_lexer": "ipython3",
   "version": "3.9.13"
  }
 },
 "nbformat": 4,
 "nbformat_minor": 5
}
