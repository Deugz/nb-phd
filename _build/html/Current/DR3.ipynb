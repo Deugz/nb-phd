{
 "cells": [
  {
   "cell_type": "markdown",
   "id": "c04b9dbb-762d-4469-9213-2e7a55a8df80",
   "metadata": {},
   "source": [
    "# Data Reduction 3\n",
    "\n",
    "***\n",
    "**Integration / Normalisation**\n",
    "\n",
    "- 3 notebook for 20K samples (ASW - ASW_C2H6 - C2H6) + 1 notebook for higher T\n",
    "- Perform for all Samples (xx/xx/2023)\n",
    "***"
   ]
  },
  {
   "cell_type": "markdown",
   "id": "e19d358d-b234-4480-b9d7-ce4a60a9882c",
   "metadata": {},
   "source": [
    "## Imports"
   ]
  },
  {
   "cell_type": "code",
   "execution_count": null,
   "id": "9652aeda-596d-479d-a1a4-3ca7d249b614",
   "metadata": {},
   "outputs": [],
   "source": [
    "%matplotlib inline\n",
    "\n",
    "import numpy \n",
    "import math\n",
    "from math import isnan\n",
    "import matplotlib\n",
    "import matplotlib.pyplot as plt\n",
    "from matplotlib import cm\n",
    "import matplotlib.colors as mcolors\n",
    "import pandas as pd\n",
    "import glob\n",
    "from functools import reduce\n",
    "import ipywidgets as widgets\n",
    "import matplotlib.gridspec as gridspec\n",
    "from datetime import datetime\n",
    "from IPython.core.display import SVG\n",
    "import re\n",
    "import json"
   ]
  },
  {
   "cell_type": "markdown",
   "id": "36dfa9ea-3b18-4d49-9688-d8b6b59b3587",
   "metadata": {},
   "source": [
    "## Input Parameters\n",
    "\n",
    "$\\color{red}{\\text{Implement manually !}}$"
   ]
  },
  {
   "cell_type": "code",
   "execution_count": null,
   "id": "0cfebc75-0c44-40ab-9862-95b5c5c36618",
   "metadata": {},
   "outputs": [],
   "source": [
    "# 0.1 Date\n",
    "date = \"2021_03_08\"\n",
    "\n",
    "# 0.2 XP\n",
    "XP = \"XP_1-2\"\n",
    "\n",
    "# 0.3 Sample type\n",
    "spl = \"C2H6_ASW\"\n",
    "\n",
    "# 0.4 Deposition Temperature\n",
    "Tdep = \"20\"\n",
    "\n",
    "# Colormap normalisation\n",
    "\n",
    "# Be carefull because it may depend between the different samples\n",
    "\n",
    "Tmin = 20\n",
    "Tmax = 150\n",
    "\n",
    "\n",
    "# Is there any Isotherm ?\n",
    "\n",
    "Iso = False\n",
    "\n",
    "# How do I deal with this now ?"
   ]
  },
  {
   "cell_type": "markdown",
   "id": "a28c104b-8483-471b-a0d9-cdbca6c72006",
   "metadata": {},
   "source": [
    "## 3.1 <u>Integration</u> \n",
    "\n",
    "In the following we are going to integrate the spectra between two borns with the trapezoidal integration technique\n",
    "\n",
    "### Function definition"
   ]
  },
  {
   "cell_type": "code",
   "execution_count": null,
   "id": "06b0f5f3-0670-41f4-80a6-80f15e16e243",
   "metadata": {},
   "outputs": [],
   "source": [
    "# this function computes the inegral of the scan of index index, between borns 1 and 2 (in cm-1)\n",
    "\n",
    "def integration(index, data, wavelength, born_1, born_2):\n",
    "\n",
    "    nwl = len(wavelength) #number of wavelenght - spectra resolution\n",
    "\n",
    "    list_names =  list(data.columns.values.tolist())\n",
    "    \n",
    "    scan_place = 0\n",
    "    \n",
    "    for i in range(len(list_names)):\n",
    "        \n",
    "        name_corr = list_names[i].split('_')\n",
    "        \n",
    "        if int(name_corr[-1]) == index:\n",
    "    \n",
    "            scan_place = i\n",
    "    \n",
    "    scan = data.T.iloc[scan_place]\n",
    "        \n",
    "    index_born_1 = 0\n",
    "    index_born_2 = 0\n",
    "    \n",
    "    for iwl in range(nwl):\n",
    "        \n",
    "        if abs(wavelength[iwl] - born_1) < 0.5:\n",
    "            \n",
    "            index_born_1 = iwl\n",
    "    \n",
    "        elif abs(wavelength[iwl] - born_2) < 0.5:\n",
    "            \n",
    "            index_born_2 = iwl\n",
    "    \n",
    "    area = 0\n",
    "    \n",
    "    for iint in range(index_born_1, index_born_2):\n",
    "        \n",
    "        d_area = 0.5*(scan[iint]+scan[iint+1])*(wavelength[iint+1]-wavelength[iint])\n",
    "    \n",
    "        area = area + d_area\n",
    "        \n",
    "    return area"
   ]
  },
  {
   "cell_type": "markdown",
   "id": "fa786cfa-dd10-438d-abb1-9c799a5520f5",
   "metadata": {},
   "source": [
    "### 3.1.A Oh stretch"
   ]
  },
  {
   "cell_type": "code",
   "execution_count": null,
   "id": "6d23facf-2ebe-4f82-9614-b701aa37fee8",
   "metadata": {},
   "outputs": [],
   "source": [
    "#range A\n",
    "wavelengthA = dataA_BC.T.iloc[0]\n",
    "wavelengthA = wavelengthA.reset_index(drop=True)"
   ]
  },
  {
   "cell_type": "code",
   "execution_count": null,
   "id": "a7ce5252-1c3d-48a3-94b1-54e2b1a9ad69",
   "metadata": {},
   "outputs": [],
   "source": [
    "#wavelengthA"
   ]
  },
  {
   "cell_type": "code",
   "execution_count": null,
   "id": "7b6b2ab1-27b9-4e9a-98de-077e6daf3431",
   "metadata": {},
   "outputs": [],
   "source": [
    "#range A\n",
    "dataA_BC_I = dataA_BC.T.iloc[1:].T\n",
    "dataA_BC_I = dataA_BC_I.reset_index(drop=True)"
   ]
  },
  {
   "cell_type": "code",
   "execution_count": null,
   "id": "2d2b956a-4b7d-424a-86b4-5ba30be8766b",
   "metadata": {},
   "outputs": [],
   "source": [
    "dataA_BC_I"
   ]
  },
  {
   "cell_type": "code",
   "execution_count": null,
   "id": "7757de29-2635-438d-95a6-628aecf3d28d",
   "metadata": {},
   "outputs": [],
   "source": [
    "nscan = len(list(dataA_BC_I.columns.values.tolist()))\n",
    "\n",
    "areas = numpy.zeros(nscan)\n",
    "areasBCA = numpy.zeros(nscan)\n",
    "\n",
    "times = numpy.zeros(nscan)\n",
    "\n",
    "for iint in range(0, nscan):\n",
    "    \n",
    "    #areas[iint] = integration(iint+1, data, wavelength, 2900, 3900)\n",
    "    areasBCA[iint] = integration(iint+1, dataA_BC_I, wavelengthA, 2800, 4000)\n",
    "    #times[iint] = 15*iint\n",
    "    "
   ]
  },
  {
   "cell_type": "code",
   "execution_count": null,
   "id": "f3b7f093-b6ca-4b53-a2f4-65f3d1905112",
   "metadata": {},
   "outputs": [],
   "source": [
    "areasBCA"
   ]
  },
  {
   "cell_type": "markdown",
   "id": "f317f52a-8858-41cf-86d7-1c8ccc4d1f3a",
   "metadata": {},
   "source": [
    "### 3.1.B Bending Modes"
   ]
  },
  {
   "cell_type": "code",
   "execution_count": null,
   "id": "5a2133c9-8ead-4c03-a783-ae430d8ccec0",
   "metadata": {},
   "outputs": [],
   "source": [
    "#range C (think to supress libration mode contribution!)\n",
    "wavelengthC = dataC_BC_U.T.iloc[0]\n",
    "wavelengthC = wavelengthC.reset_index(drop=True)"
   ]
  },
  {
   "cell_type": "code",
   "execution_count": null,
   "id": "131d1a0d-6203-4a07-ae75-a4f2cf6d332e",
   "metadata": {},
   "outputs": [],
   "source": [
    "wavelengthC"
   ]
  },
  {
   "cell_type": "code",
   "execution_count": null,
   "id": "011286fb-f486-4b58-b9a4-1662f844cf5a",
   "metadata": {},
   "outputs": [],
   "source": [
    "#range C\n",
    "dataC_BC_I = dataC_BC_U.T.iloc[1:].T\n",
    "dataC_BC_I = dataC_BC_I.reset_index(drop=True)"
   ]
  },
  {
   "cell_type": "code",
   "execution_count": null,
   "id": "a3b1e0de-29ca-4a4a-8474-e9deda45d125",
   "metadata": {},
   "outputs": [],
   "source": [
    "dataC_BC_I"
   ]
  },
  {
   "cell_type": "code",
   "execution_count": null,
   "id": "50a40606-0dc7-4a99-b9cd-2b2685b2abe1",
   "metadata": {},
   "outputs": [],
   "source": [
    "nscan = len(list(dataC_BC_I.columns.values.tolist()))\n",
    "\n",
    "areas = numpy.zeros(nscan)\n",
    "areasBCC = numpy.zeros(nscan)\n",
    "\n",
    "times = numpy.zeros(nscan)\n",
    "\n",
    "for iint in range(0, nscan):\n",
    "    \n",
    "    #areas[iint] = integration(iint+1, data, wavelength, 2900, 3900)\n",
    "    areasBCC[iint] = integration(iint+1, dataC_BC_I, wavelengthC, 1040, 1900)\n",
    "    #times[iint] = 15*iint\n",
    "    "
   ]
  },
  {
   "cell_type": "code",
   "execution_count": null,
   "id": "f33c7f04-138b-4135-88a5-99461ced87bc",
   "metadata": {},
   "outputs": [],
   "source": [
    "areasBCC"
   ]
  },
  {
   "cell_type": "markdown",
   "id": "006fdacc-ab6b-412f-b1a5-8532809d8db9",
   "metadata": {},
   "source": [
    "### 3.1.4 Clean "
   ]
  },
  {
   "cell_type": "code",
   "execution_count": null,
   "id": "f1057efa-721e-4724-a4fb-2dd352989176",
   "metadata": {},
   "outputs": [],
   "source": [
    "#range A\n",
    "\n",
    "areasBCA_df = pd.DataFrame({ 'File number': dataA_BC_I.iloc[0,:], 'Int_A': areasBCA[:]})\n",
    "areasBCA_df = areasBCA_df.T.iloc[1:].T\n",
    "\n",
    "areasBCA_df = areasBCA_df.reset_index()\n",
    "areasBCA_df['Name'] = areasBCA_df['index']\n",
    "areasBCA_df= areasBCA_df.T.iloc[1:].T\n",
    "\n",
    "#range C\n",
    "\n",
    "areasBCC_df = pd.DataFrame({ 'File number': dataC_BC_I.iloc[0,:], 'Int_C': areasBCC[:]})\n",
    "areasBCC_df = areasBCC_df.T.iloc[1:].T\n",
    "\n",
    "areasBCC_df = areasBCC_df.reset_index()\n",
    "areasBCC_df['Name'] = areasBCC_df['index']\n",
    "areasBCC_df= areasBCC_df.T.iloc[1:].T"
   ]
  },
  {
   "cell_type": "code",
   "execution_count": null,
   "id": "5aee00f0-7702-4878-9b92-9ffdce97e7d3",
   "metadata": {},
   "outputs": [],
   "source": [
    "#areasBCA_df\n",
    "#areasBCC_df"
   ]
  },
  {
   "cell_type": "markdown",
   "id": "d68cbc2c-1bab-4faa-9855-573929c449fb",
   "metadata": {},
   "source": [
    "### 3.1.5 Append to data Annex"
   ]
  },
  {
   "cell_type": "code",
   "execution_count": null,
   "id": "dadc5fef-e83c-41fc-93cc-0350a1fc6f0b",
   "metadata": {},
   "outputs": [],
   "source": [
    "data_anex_df = pd.merge(data_anex_df, areasBCA_df, on=\"Name\")\n",
    "data_anex_df = pd.merge(data_anex_df, areasBCC_df, on=\"Name\")\n"
   ]
  },
  {
   "cell_type": "code",
   "execution_count": null,
   "id": "3451651b-7f32-45e6-b88c-67a989a504cd",
   "metadata": {},
   "outputs": [],
   "source": [
    "#data_anex_df"
   ]
  },
  {
   "cell_type": "markdown",
   "id": "afb980fe-e066-4c68-81e1-a8d3483b2cbc",
   "metadata": {},
   "source": [
    "### 3.1.6 Plotting\n",
    "\n",
    "#### Dict values"
   ]
  },
  {
   "cell_type": "code",
   "execution_count": null,
   "id": "8613ff3e-e620-4999-af0d-b31a4b9e95fe",
   "metadata": {},
   "outputs": [],
   "source": [
    "fig= plt.figure(figsize=(8,6))\n",
    "\n",
    "for keys, values in Tdictionary.items():\n",
    "\n",
    "    plt.plot(keys, data_anex_df.iloc[values,28], '+', mew=3, ms=12, c=cm.jet(values/nscan),label= str(keys)+\" - \"+str(values+1)+\" - \"+str(int(data_anex_df.iloc[values,28])))    \n",
    "\n",
    "plt.title('{0} DR3 Integration '.format(date))\n",
    "#plt.axis([3210,3270])\n",
    "plt.xlabel('Temperature (K)').set_fontsize(13)\n",
    "plt.ylabel('OH stretch Integration (AU)').set_fontsize(13)\n",
    "#ax = fig.gca()\n",
    "#plt.grid()\n",
    "plt.legend()\n",
    "\n",
    "\n",
    "#plt.savefig('D:\\DATA-Processing\\PAC\\{}/Samples/{}/Plots/DR/DR2_{}_PeakA-Integration.png'.format(XP, date, date))\n",
    "\n",
    "plt.show()"
   ]
  },
  {
   "cell_type": "markdown",
   "id": "25bc2e03-b92b-45cf-af4f-b451070dc6f2",
   "metadata": {},
   "source": [
    "#### Dict values"
   ]
  },
  {
   "cell_type": "code",
   "execution_count": null,
   "id": "a1244a72-ba2a-4040-825f-32db28696ac8",
   "metadata": {},
   "outputs": [],
   "source": [
    "if Iso == True:   \n",
    "    \n",
    "    fig= plt.figure(figsize=(8,6))\n",
    "\n",
    "    for keys, values in Isodic1.items():\n",
    "\n",
    "        plt.plot(keys, data_anex_df.iloc[values,28], '+', mew=3, ms=12, c=cm.jet(values/nscan),label= str(keys)+\" - \"+str(values+1)+\" - \"+str(int(data_anex_df.iloc[values,28])))    \n",
    "\n",
    "    plt.title('{0} DR3 Integration Iso {1}  '.format(date, Tiso1))\n",
    "    #plt.axis([3210,3270])\n",
    "    plt.xlabel('Time (h)').set_fontsize(13)\n",
    "    plt.ylabel('OH stretch Integration (AU)').set_fontsize(13)\n",
    "    ax = fig.gca()\n",
    "    ax.xaxis.set_major_locator(plt.MaxNLocator(10))  \n",
    "    #plt.grid()\n",
    "    #plt.legend()\n",
    "\n",
    "\n",
    "    plt.savefig('D:\\DATA-Processing\\PAC\\{}/Samples/{}/Plots/DR/DR2_{}_PeakA-Integration_Iso_{}.png'.format(XP, date, date, Tiso1))\n",
    "\n",
    "    plt.show()"
   ]
  },
  {
   "cell_type": "markdown",
   "id": "a2078571-9c97-41a3-b519-7713bc838f1e",
   "metadata": {},
   "source": [
    "## 3.2 <u>Column Density Calculation </u>\n",
    "\n",
    "### 3.2.1 Theory\n",
    "\n",
    "To do"
   ]
  },
  {
   "cell_type": "code",
   "execution_count": null,
   "id": "02357850-868f-41ff-a76e-b7e7df70f6b4",
   "metadata": {},
   "outputs": [],
   "source": []
  },
  {
   "cell_type": "markdown",
   "id": "c16e5176-b5bd-4ca3-8442-4f31af3b07de",
   "metadata": {},
   "source": [
    "### 3.2.2 Normalisation factor\n",
    "\n",
    "Dep_val_A correspond to the first value found in the column Int_A or C. This corrspond to the integration for from the deposition for all the samples"
   ]
  },
  {
   "cell_type": "code",
   "execution_count": null,
   "id": "50451691-66bc-4c3d-b0f4-f2e8168442ad",
   "metadata": {},
   "outputs": [],
   "source": [
    "Dep_val_A = data_anex_df['Int_A'].values[0]\n",
    "\n",
    "Dep_val_C = data_anex_df['Int_C'].values[0]"
   ]
  },
  {
   "cell_type": "code",
   "execution_count": null,
   "id": "5ac97914-6d4c-43e3-b978-446bc0114efd",
   "metadata": {},
   "outputs": [],
   "source": [
    "#Dep_val_A \n",
    "#Dep_val_C"
   ]
  },
  {
   "cell_type": "markdown",
   "id": "f84eb21b-a003-43bf-ab27-b54b6f548801",
   "metadata": {},
   "source": [
    "### 3.3 Optical depth Calcul\n",
    "\n",
    "### 3.3.A Oh stretch\n",
    "\n",
    "Aa taken from ref ... Hagen 1981\n",
    "\n",
    "Find more recent value"
   ]
  },
  {
   "cell_type": "code",
   "execution_count": null,
   "id": "2c6f6fc6-a98a-45e1-83cf-16178326051a",
   "metadata": {},
   "outputs": [],
   "source": [
    "Aa = 2 * 10**(-16)"
   ]
  },
  {
   "cell_type": "code",
   "execution_count": null,
   "id": "6e6253ad-220d-4afe-8688-0ec66d694445",
   "metadata": {},
   "outputs": [],
   "source": [
    "NA = Dep_val_A / Aa"
   ]
  },
  {
   "cell_type": "code",
   "execution_count": null,
   "id": "d3802b5d-cf46-4233-8ccf-53e6b0dac66f",
   "metadata": {},
   "outputs": [],
   "source": [
    "#NA"
   ]
  },
  {
   "cell_type": "markdown",
   "id": "9b116699-fd82-4c19-8d61-8ee0edbe9a4d",
   "metadata": {},
   "source": [
    "### 3.3.B Oh bend"
   ]
  },
  {
   "cell_type": "code",
   "execution_count": null,
   "id": "0352999a-f594-41ea-b044-c21bcc8cdcce",
   "metadata": {},
   "outputs": [],
   "source": [
    "Ac = 1.2 * 10**(-17)"
   ]
  },
  {
   "cell_type": "code",
   "execution_count": null,
   "id": "6caf62d4-e75c-430f-b4ef-01e063af97c6",
   "metadata": {},
   "outputs": [],
   "source": [
    "NC = Dep_val_C / Ac"
   ]
  },
  {
   "cell_type": "code",
   "execution_count": null,
   "id": "22af6e5d-2cd5-4a67-a65b-d3286279d1c8",
   "metadata": {},
   "outputs": [],
   "source": [
    "#NC"
   ]
  },
  {
   "cell_type": "markdown",
   "id": "05f4ba8c-c15a-43f8-89c0-fb1a108d57e5",
   "metadata": {},
   "source": [
    "### 3.3.C Comparison and analysis"
   ]
  },
  {
   "cell_type": "code",
   "execution_count": null,
   "id": "c018567d-3486-4d23-afa8-ba1c0ba22db6",
   "metadata": {},
   "outputs": [],
   "source": [
    "comp = NA/NC * 100"
   ]
  },
  {
   "cell_type": "code",
   "execution_count": null,
   "id": "ae425079-bd21-4ec5-912c-6ebaf1547b26",
   "metadata": {},
   "outputs": [],
   "source": [
    "#comp"
   ]
  },
  {
   "cell_type": "markdown",
   "id": "b1576324-acff-4742-a8a3-e872427df015",
   "metadata": {},
   "source": [
    "### 3.3.E Append to Ice_thickness_df\n",
    "\n",
    "Prior to the Reduction analysis, the laser-diode thickness notebook should have been performed and a csv being producing with he inputs. We will append the previously obtained data into this csv"
   ]
  },
  {
   "cell_type": "code",
   "execution_count": null,
   "id": "84929b34-1840-4b14-985e-081f15df9811",
   "metadata": {},
   "outputs": [],
   "source": [
    "Ice_thickness_df = pd.read_csv('D:\\DATA-Processing\\PAC\\Ice_thickness.csv')"
   ]
  },
  {
   "cell_type": "code",
   "execution_count": null,
   "id": "d5414a82-579d-4124-a3f1-6496c1deebd8",
   "metadata": {},
   "outputs": [],
   "source": [
    "#Ice_thickness_df"
   ]
  },
  {
   "cell_type": "code",
   "execution_count": null,
   "id": "268d4de2-ddfc-4b0f-9ab0-7170d9d16c6d",
   "metadata": {},
   "outputs": [],
   "source": [
    "Ice_thickness_df.loc[Ice_thickness_df[\"Date\"] == date, 'Na'] = NA \n",
    "Ice_thickness_df.loc[Ice_thickness_df[\"Date\"] == date, 'Nc'] = NC "
   ]
  },
  {
   "cell_type": "code",
   "execution_count": null,
   "id": "0367e73f-a5b8-4773-937b-a7b65f9624f2",
   "metadata": {},
   "outputs": [],
   "source": [
    "#Ice_thickness_df"
   ]
  },
  {
   "cell_type": "code",
   "execution_count": null,
   "id": "c33ce07d-89f9-4fec-ba4c-cf045de9daf9",
   "metadata": {},
   "outputs": [],
   "source": [
    "Ice_thickness_df.to_csv('D:\\DATA-Processing\\PAC\\Ice_thickness.csv', index=False)"
   ]
  },
  {
   "cell_type": "markdown",
   "id": "729a6b00-b82a-49c0-b0db-d7b71041daea",
   "metadata": {},
   "source": [
    "## 3.3 <u> Normalisation </u>\n",
    "\n",
    "2 different normalisations\n",
    "- The 20K sample can be normalised with the first scan (ie the deposition)\n",
    "- The sample deposited at the higher T needs to be with normalised with respect to the Integration from the normalized scan (3.3?)  \n",
    "\n",
    "### 20K depositions\n",
    "\n",
    "For 20K deposition no problem, we take the Integration value of the deposition and normalised through it\n",
    "\n",
    "Insert if statement: if TRamp[:3] not Nan continue otherwise don`t perform normalisation"
   ]
  },
  {
   "cell_type": "code",
   "execution_count": null,
   "id": "e697fc2c-7256-46da-83d9-782b51dca465",
   "metadata": {},
   "outputs": [],
   "source": [
    "#Dep_val_A"
   ]
  },
  {
   "cell_type": "markdown",
   "id": "f0e441cf-9428-412f-b0f4-8ae9941997c4",
   "metadata": {},
   "source": [
    " $\\color{red}{\\text{Here we need to have a if statement that say that if the sample is deposited at 20K - norm factor = 100 / Dep_val_A, else, another notebook is run to get the Norm factor at the temperature of interest!}}$"
   ]
  },
  {
   "cell_type": "code",
   "execution_count": null,
   "id": "c6124ac6-dbb9-4f52-b9f3-0f04b4c0aa8e",
   "metadata": {},
   "outputs": [],
   "source": [
    "if Tdep == \"20\":\n",
    "\n",
    "    \n",
    "    NormFactor = 100 / Dep_val_A\n",
    "    print(NormFactor)\n",
    "    \n",
    "else:\n",
    "\n",
    "    %run -i \"HighTreduction.py\"\n",
    "    print(mean_X)\n",
    "    NormFactor = mean_X / Dep_val_A"
   ]
  },
  {
   "cell_type": "code",
   "execution_count": null,
   "id": "64c0c7da-8b84-4e74-8a93-4ed8c9cb9969",
   "metadata": {},
   "outputs": [],
   "source": [
    "#NormFactor"
   ]
  },
  {
   "cell_type": "markdown",
   "id": "cbf3efce-abe2-4834-80c2-6510344e8ebe",
   "metadata": {},
   "source": [
    " $\\color{red}{\\text{Append Norm factor into sample thick csv}}$"
   ]
  },
  {
   "cell_type": "code",
   "execution_count": null,
   "id": "7687b0ee-454e-4f5b-be0e-f9d017a1b08c",
   "metadata": {},
   "outputs": [],
   "source": [
    "dataA_N = dataA_BC_I * NormFactor"
   ]
  },
  {
   "cell_type": "markdown",
   "id": "b9ea640b-d513-4694-9329-d0e0d6b72732",
   "metadata": {},
   "source": [
    "Saanity Check:\n",
    "    \n",
    "- Insert wavenumber (before export)"
   ]
  },
  {
   "cell_type": "code",
   "execution_count": null,
   "id": "4f8d7342-428e-441f-a077-4d28740e9008",
   "metadata": {},
   "outputs": [],
   "source": [
    "dataA_N.insert(loc = 0,\n",
    "          column = 'Wavenumber',\n",
    "          value =  wavelengthA)\n",
    "\n",
    "dataA_N"
   ]
  },
  {
   "cell_type": "markdown",
   "id": "a3a17285-6cf3-4ebe-8faf-7031bb7ba571",
   "metadata": {},
   "source": [
    "## Export as csv"
   ]
  },
  {
   "cell_type": "code",
   "execution_count": null,
   "id": "bb1afe56-4498-4dfd-bcb5-20a9aebe3907",
   "metadata": {},
   "outputs": [],
   "source": [
    "dataA_N.to_csv(\"D:\\DATA-Processing\\PAC\\{}/Samples/{}/Data/DR/DR3_{}_A.csv\".format(XP,date,date))"
   ]
  },
  {
   "cell_type": "markdown",
   "id": "2cbcd3e9-1088-4a81-b6fb-4d7e94d2a76c",
   "metadata": {},
   "source": [
    "## 3.4 <u>Integration II</u> \n",
    "\n",
    "Purpose here is to integrate the normalised scan so we can have integration value for scans at higher temperature to use as normalisation value for scans deposited at higherrt temperature"
   ]
  },
  {
   "cell_type": "code",
   "execution_count": null,
   "id": "e3a7d076-6525-445e-afe5-5cae5aba8951",
   "metadata": {},
   "outputs": [],
   "source": [
    "#dataA_N"
   ]
  },
  {
   "cell_type": "markdown",
   "id": "3b583a18-6c31-4783-9913-566f0c43f33d",
   "metadata": {},
   "source": [
    "Supress wavenumber"
   ]
  },
  {
   "cell_type": "code",
   "execution_count": null,
   "id": "ca7de24d-92bf-41c0-9eab-2fc450ad9b56",
   "metadata": {},
   "outputs": [],
   "source": [
    "dataA_N = dataA_N.T.iloc[1:].T\n",
    "\n",
    "#dataA_N"
   ]
  },
  {
   "cell_type": "code",
   "execution_count": null,
   "id": "e84bf251-8193-42df-99f9-4875430a9a08",
   "metadata": {},
   "outputs": [],
   "source": [
    "nscan = len(list(dataA_N.columns.values.tolist()))\n",
    "\n",
    "areas = numpy.zeros(nscan)\n",
    "areasBCA2 = numpy.zeros(nscan)\n",
    "\n",
    "times = numpy.zeros(nscan)\n",
    "\n",
    "for iint in range(0, nscan):\n",
    "    \n",
    "    #areas[iint] = integration(iint+1, data, wavelength, 2900, 3900)\n",
    "    areasBCA2[iint] = integration(iint+1, dataA_N, wavelengthA, 2800, 4000)\n",
    "    #times[iint] = 15*iint\n",
    "    "
   ]
  },
  {
   "cell_type": "code",
   "execution_count": null,
   "id": "5dee393e-ccb2-485d-9c9e-b2be0d1e01ee",
   "metadata": {},
   "outputs": [],
   "source": [
    "areasBCA2"
   ]
  },
  {
   "cell_type": "code",
   "execution_count": null,
   "id": "c81d7692-79dc-4785-aeee-750064edbb90",
   "metadata": {},
   "outputs": [],
   "source": [
    "areasBCA2_df = pd.DataFrame({ 'File number': dataA_BC_I.iloc[0,:], 'Int_N_A': areasBCA2[:]})\n",
    "areasBCA2_df = areasBCA2_df.T.iloc[1:].T\n",
    "areasBCA2_df = areasBCA2_df.reset_index()\n",
    "areasBCA2_df['Name'] = areasBCA2_df['index']\n",
    "areasBCA2_df= areasBCA2_df.T.iloc[1:].T"
   ]
  },
  {
   "cell_type": "code",
   "execution_count": null,
   "id": "9e307fc7-5136-49a3-a472-489e78966fa5",
   "metadata": {},
   "outputs": [],
   "source": [
    "#areasBCA2_df"
   ]
  },
  {
   "cell_type": "code",
   "execution_count": null,
   "id": "1d595ab9-4a6f-4ac8-9fa5-4cf9a3c6623f",
   "metadata": {},
   "outputs": [],
   "source": [
    "data_anex_df = pd.merge(data_anex_df, areasBCA2_df, on=\"Name\")"
   ]
  },
  {
   "cell_type": "markdown",
   "id": "586c11c6-7b44-4cee-b641-914807cf3998",
   "metadata": {},
   "source": [
    "### High Temperature deposition\n",
    "\n",
    "For the higher temperature deposited, normalising through the deposition would not allowed a good comparison with the sample deposited at 20K. Hence, we will make an average of the normalised value (from Integration II) at the temperature of interest and use this value as a normalisation factor.<br>\n",
    "\n",
    "We will use a separate notebook to to that that will run separately if need be"
   ]
  },
  {
   "cell_type": "markdown",
   "id": "4b017538-d18a-4c2d-9978-d1e8d80e5743",
   "metadata": {},
   "source": [
    "## Export data_Anex as csv"
   ]
  },
  {
   "cell_type": "code",
   "execution_count": null,
   "id": "49cd7be5-9b25-40b3-889b-045fd4272bc5",
   "metadata": {},
   "outputs": [],
   "source": [
    "data_anex_df.to_csv(\"D:\\DATA-Processing\\PAC\\{}/Samples/{}/Data/DR/{}_data_annex.csv\".format(XP,date,date), index=False)"
   ]
  },
  {
   "cell_type": "markdown",
   "id": "ed1cb6b8-2a77-41b0-b206-b21be69e12cf",
   "metadata": {},
   "source": [
    "***\n",
    "\n",
    "<img style=\"float: right;\" src=\"..\\..\\Docs\\Logo_work_in_progress.svg\" alt=\"logo\" width=\"160px\"/>\n",
    "\n",
    "## About this notebook\n",
    "\n",
    "**Updated On:** 2023-03-15 \n",
    "\n",
    "\n",
    "**Author:** Vincent Deguin, PhD Student.\n",
    "<br>\n",
    " **Contact:** vincent.deguin@open.ac.uk  "
   ]
  },
  {
   "cell_type": "code",
   "execution_count": null,
   "id": "1c1a9c73-6ae4-426b-b264-896315c9af4d",
   "metadata": {},
   "outputs": [],
   "source": []
  }
 ],
 "metadata": {
  "kernelspec": {
   "display_name": "Python 3 (ipykernel)",
   "language": "python",
   "name": "python3"
  },
  "language_info": {
   "codemirror_mode": {
    "name": "ipython",
    "version": 3
   },
   "file_extension": ".py",
   "mimetype": "text/x-python",
   "name": "python",
   "nbconvert_exporter": "python",
   "pygments_lexer": "ipython3",
   "version": "3.9.13"
  }
 },
 "nbformat": 4,
 "nbformat_minor": 5
}
