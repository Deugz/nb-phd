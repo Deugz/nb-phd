{
 "cells": [
  {
   "cell_type": "markdown",
   "id": "c04b9dbb-762d-4469-9213-2e7a55a8df80",
   "metadata": {
    "user_expressions": []
   },
   "source": [
    "# Data Reduction 3\n",
    "\n",
    "***\n",
    "**Integration / Normalisation**\n",
    "\n",
    "- 3 notebook for 20K samples (ASW - ASW_C2H6 - C2H6) + 1 notebook for higher T\n",
    "- Perform for all Samples (xx/xx/2023)\n",
    "***"
   ]
  },
  {
   "cell_type": "markdown",
   "id": "e19d358d-b234-4480-b9d7-ce4a60a9882c",
   "metadata": {
    "user_expressions": []
   },
   "source": [
    "## Imports"
   ]
  },
  {
   "cell_type": "code",
   "execution_count": 112,
   "id": "9652aeda-596d-479d-a1a4-3ca7d249b614",
   "metadata": {},
   "outputs": [],
   "source": [
    "%matplotlib inline\n",
    "\n",
    "import numpy \n",
    "import math\n",
    "from math import isnan\n",
    "import matplotlib\n",
    "import matplotlib.pyplot as plt\n",
    "from matplotlib import cm\n",
    "import matplotlib.colors as mcolors\n",
    "import pandas as pd\n",
    "import glob\n",
    "from functools import reduce\n",
    "import ipywidgets as widgets\n",
    "import matplotlib.gridspec as gridspec\n",
    "from datetime import datetime\n",
    "from IPython.core.display import SVG\n",
    "import re\n",
    "import json"
   ]
  },
  {
   "cell_type": "markdown",
   "id": "36dfa9ea-3b18-4d49-9688-d8b6b59b3587",
   "metadata": {
    "user_expressions": []
   },
   "source": [
    "## Input Parameters\n",
    "\n",
    "$\\color{red}{\\text{Implement manually !}}$"
   ]
  },
  {
   "cell_type": "code",
   "execution_count": 113,
   "id": "0cfebc75-0c44-40ab-9862-95b5c5c36618",
   "metadata": {},
   "outputs": [],
   "source": [
    "# 0.1 Date\n",
    "date = \"2020_09_15\"\n",
    "\n",
    "# 0.2 XP\n",
    "XP = \"XP_1-1\"\n",
    "\n",
    "# 0.3 Sample type\n",
    "spl = \"ASW\"\n",
    "\n",
    "# 0.4 Deposition Temperature\n",
    "Tdep = \"20\"\n",
    "\n",
    "# Colormap normalisation\n",
    "\n",
    "# Be carefull because it may depend between the different samples\n",
    "\n",
    "Tmin = 20\n",
    "Tmax = 150\n",
    "\n",
    "\n",
    "# Is there any Isotherm ?\n",
    "\n",
    "Iso = False\n",
    "\n",
    "# How do I deal with this now ?"
   ]
  },
  {
   "cell_type": "markdown",
   "id": "e78e1650-f431-42ae-be5f-d2f47edc8d13",
   "metadata": {
    "user_expressions": []
   },
   "source": [
    "# Load Data\n",
    "\n",
    "Need to import DR2 Data and resplit into different range\n",
    "\n",
    "Imprt data annex as well"
   ]
  },
  {
   "cell_type": "code",
   "execution_count": 114,
   "id": "4ad66163-d3b3-4953-bb7b-bb3a121a43d3",
   "metadata": {},
   "outputs": [],
   "source": [
    "# All_RAW_df\n",
    "\n",
    "All_DR2_df = pd.read_csv(\"..\\..\\Data\\DATA_PROCESSING\\{}\\Data\\DR2_{}_All-scans.csv\".format(date,date))\n",
    "\n",
    "All_DR2_df = All_DR2_df.iloc[:,1:]\n",
    "\n",
    "# data_annex\n",
    "\n",
    "data_annex_df = pd.read_csv(\"..\\..\\Data\\DATA_PROCESSING\\{}\\Data\\DR2_{}_data_annex.csv\".format(date,date))\n",
    "\n",
    "data_annex_df = data_annex_df.iloc[:,1:]\n",
    "\n",
    "# XP_list_test\n",
    "\n",
    "XP_Ramp_df = pd.read_csv('..\\..\\Data\\XP_list_test.csv')\n",
    "\n",
    "XP_Ramp_df_date = XP_Ramp_df.loc[XP_Ramp_df['Date'] == date]\n",
    "XP_Ramp_df_date2 = XP_Ramp_df_date.set_index(\"Date\")\n",
    "#XP_Ramp_df_date2\n",
    "XP_Ramp_df_T = XP_Ramp_df_date2.T\n",
    "#XP_Ramp_df_T\n",
    "XP_Ramp_df_T_f = XP_Ramp_df_T.iloc[1: , :]\n",
    "#XP_Ramp_df_T_f\n",
    "XP_Ramp_df_T_f2=XP_Ramp_df_T_f.dropna()\n",
    "XP_Ramp_df_T_f2\n",
    "\n",
    "# Produce dictionnary\n",
    "\n",
    "Tdictionary = dict(zip(XP_Ramp_df_T_f2.index, XP_Ramp_df_T_f2[date]))"
   ]
  },
  {
   "cell_type": "markdown",
   "id": "29cb2bf5-4437-4d4f-b6b7-2df8c89d9951",
   "metadata": {
    "user_expressions": []
   },
   "source": [
    "## Data Cleaning\n",
    "\n",
    "### Chopping"
   ]
  },
  {
   "cell_type": "code",
   "execution_count": 115,
   "id": "bba9511e-1d69-4735-abb1-378e9eee4a97",
   "metadata": {},
   "outputs": [],
   "source": [
    "# OH Stretch\n",
    "\n",
    "dataA_BC = All_DR2_df[4150:6639]\n",
    "#DR1_A_df\n",
    "\n",
    "# Combination Bands\n",
    "\n",
    "dataB_BC = All_DR2_df[2282:4150]\n",
    "#DR1_B_df\n",
    "\n",
    "# Bending Modes\n",
    "\n",
    "dataC_BC = All_DR2_df[0:2282]\n",
    "\n",
    "dataC_BC_U = dataC_BC.drop(dataC_BC.index[0:498])\n",
    "#DR1_C_df"
   ]
  },
  {
   "cell_type": "code",
   "execution_count": 116,
   "id": "9728b9eb-4da8-4b13-a284-516966007bc8",
   "metadata": {},
   "outputs": [
    {
     "data": {
      "text/html": [
       "<div>\n",
       "<style scoped>\n",
       "    .dataframe tbody tr th:only-of-type {\n",
       "        vertical-align: middle;\n",
       "    }\n",
       "\n",
       "    .dataframe tbody tr th {\n",
       "        vertical-align: top;\n",
       "    }\n",
       "\n",
       "    .dataframe thead th {\n",
       "        text-align: right;\n",
       "    }\n",
       "</style>\n",
       "<table border=\"1\" class=\"dataframe\">\n",
       "  <thead>\n",
       "    <tr style=\"text-align: right;\">\n",
       "      <th></th>\n",
       "      <th>Wavenumber</th>\n",
       "      <th>ASW_2020_09_15_1</th>\n",
       "      <th>ASW_2020_09_15_2</th>\n",
       "      <th>ASW_2020_09_15_3</th>\n",
       "      <th>ASW_2020_09_15_4</th>\n",
       "    </tr>\n",
       "  </thead>\n",
       "  <tbody>\n",
       "    <tr>\n",
       "      <th>4150</th>\n",
       "      <td>2800.660</td>\n",
       "      <td>-0.000132</td>\n",
       "      <td>0.000136</td>\n",
       "      <td>0.000351</td>\n",
       "      <td>0.000303</td>\n",
       "    </tr>\n",
       "    <tr>\n",
       "      <th>4151</th>\n",
       "      <td>2801.142</td>\n",
       "      <td>-0.000193</td>\n",
       "      <td>-0.000019</td>\n",
       "      <td>0.000000</td>\n",
       "      <td>0.000090</td>\n",
       "    </tr>\n",
       "    <tr>\n",
       "      <th>4152</th>\n",
       "      <td>2801.624</td>\n",
       "      <td>-0.000125</td>\n",
       "      <td>0.000169</td>\n",
       "      <td>0.000470</td>\n",
       "      <td>0.000409</td>\n",
       "    </tr>\n",
       "    <tr>\n",
       "      <th>4153</th>\n",
       "      <td>2802.106</td>\n",
       "      <td>-0.000179</td>\n",
       "      <td>0.000047</td>\n",
       "      <td>0.000165</td>\n",
       "      <td>0.000248</td>\n",
       "    </tr>\n",
       "    <tr>\n",
       "      <th>4154</th>\n",
       "      <td>2802.589</td>\n",
       "      <td>-0.000105</td>\n",
       "      <td>0.000314</td>\n",
       "      <td>0.000669</td>\n",
       "      <td>0.000454</td>\n",
       "    </tr>\n",
       "    <tr>\n",
       "      <th>...</th>\n",
       "      <td>...</td>\n",
       "      <td>...</td>\n",
       "      <td>...</td>\n",
       "      <td>...</td>\n",
       "      <td>...</td>\n",
       "    </tr>\n",
       "    <tr>\n",
       "      <th>6634</th>\n",
       "      <td>3998.257</td>\n",
       "      <td>0.000151</td>\n",
       "      <td>0.000688</td>\n",
       "      <td>0.000876</td>\n",
       "      <td>0.000556</td>\n",
       "    </tr>\n",
       "    <tr>\n",
       "      <th>6635</th>\n",
       "      <td>3998.739</td>\n",
       "      <td>0.000183</td>\n",
       "      <td>0.000399</td>\n",
       "      <td>0.000554</td>\n",
       "      <td>0.000626</td>\n",
       "    </tr>\n",
       "    <tr>\n",
       "      <th>6636</th>\n",
       "      <td>3999.221</td>\n",
       "      <td>0.000101</td>\n",
       "      <td>0.000000</td>\n",
       "      <td>0.000000</td>\n",
       "      <td>0.000436</td>\n",
       "    </tr>\n",
       "    <tr>\n",
       "      <th>6637</th>\n",
       "      <td>3999.703</td>\n",
       "      <td>0.000105</td>\n",
       "      <td>0.000750</td>\n",
       "      <td>0.000746</td>\n",
       "      <td>0.000190</td>\n",
       "    </tr>\n",
       "    <tr>\n",
       "      <th>6638</th>\n",
       "      <td>4000.185</td>\n",
       "      <td>0.000120</td>\n",
       "      <td>0.001481</td>\n",
       "      <td>0.001575</td>\n",
       "      <td>0.000033</td>\n",
       "    </tr>\n",
       "  </tbody>\n",
       "</table>\n",
       "<p>2489 rows × 5 columns</p>\n",
       "</div>"
      ],
      "text/plain": [
       "      Wavenumber  ASW_2020_09_15_1  ASW_2020_09_15_2  ASW_2020_09_15_3  \\\n",
       "4150    2800.660         -0.000132          0.000136          0.000351   \n",
       "4151    2801.142         -0.000193         -0.000019          0.000000   \n",
       "4152    2801.624         -0.000125          0.000169          0.000470   \n",
       "4153    2802.106         -0.000179          0.000047          0.000165   \n",
       "4154    2802.589         -0.000105          0.000314          0.000669   \n",
       "...          ...               ...               ...               ...   \n",
       "6634    3998.257          0.000151          0.000688          0.000876   \n",
       "6635    3998.739          0.000183          0.000399          0.000554   \n",
       "6636    3999.221          0.000101          0.000000          0.000000   \n",
       "6637    3999.703          0.000105          0.000750          0.000746   \n",
       "6638    4000.185          0.000120          0.001481          0.001575   \n",
       "\n",
       "      ASW_2020_09_15_4  \n",
       "4150          0.000303  \n",
       "4151          0.000090  \n",
       "4152          0.000409  \n",
       "4153          0.000248  \n",
       "4154          0.000454  \n",
       "...                ...  \n",
       "6634          0.000556  \n",
       "6635          0.000626  \n",
       "6636          0.000436  \n",
       "6637          0.000190  \n",
       "6638          0.000033  \n",
       "\n",
       "[2489 rows x 5 columns]"
      ]
     },
     "execution_count": 116,
     "metadata": {},
     "output_type": "execute_result"
    }
   ],
   "source": [
    "dataA_BC"
   ]
  },
  {
   "cell_type": "markdown",
   "id": "a28c104b-8483-471b-a0d9-cdbca6c72006",
   "metadata": {
    "user_expressions": []
   },
   "source": [
    "## 3.1 <u>Integration</u> \n",
    "\n",
    "In the following we are going to integrate the spectra between two borns with the trapezoidal integration technique\n",
    "\n",
    "### Function definition"
   ]
  },
  {
   "cell_type": "code",
   "execution_count": 117,
   "id": "06b0f5f3-0670-41f4-80a6-80f15e16e243",
   "metadata": {},
   "outputs": [],
   "source": [
    "# this function computes the inegral of the scan of index index, between borns 1 and 2 (in cm-1)\n",
    "\n",
    "def integration(index, data, wavelength, born_1, born_2):\n",
    "\n",
    "    nwl = len(wavelength) #number of wavelenght - spectra resolution\n",
    "\n",
    "    list_names =  list(data.columns.values.tolist())\n",
    "    \n",
    "    scan_place = 0\n",
    "    \n",
    "    for i in range(len(list_names)):\n",
    "        \n",
    "        name_corr = list_names[i].split('_')\n",
    "        \n",
    "        if int(name_corr[-1]) == index:\n",
    "    \n",
    "            scan_place = i\n",
    "    \n",
    "    scan = data.T.iloc[scan_place]\n",
    "        \n",
    "    index_born_1 = 0\n",
    "    index_born_2 = 0\n",
    "    \n",
    "    for iwl in range(nwl):\n",
    "        \n",
    "        if abs(wavelength[iwl] - born_1) < 0.5:\n",
    "            \n",
    "            index_born_1 = iwl\n",
    "    \n",
    "        elif abs(wavelength[iwl] - born_2) < 0.5:\n",
    "            \n",
    "            index_born_2 = iwl\n",
    "    \n",
    "    area = 0\n",
    "    \n",
    "    for iint in range(index_born_1, index_born_2):\n",
    "        \n",
    "        d_area = 0.5*(scan[iint]+scan[iint+1])*(wavelength[iint+1]-wavelength[iint])\n",
    "    \n",
    "        area = area + d_area\n",
    "        \n",
    "    return area"
   ]
  },
  {
   "cell_type": "markdown",
   "id": "fa786cfa-dd10-438d-abb1-9c799a5520f5",
   "metadata": {
    "user_expressions": []
   },
   "source": [
    "### 3.1.A Oh stretch"
   ]
  },
  {
   "cell_type": "code",
   "execution_count": 118,
   "id": "6d23facf-2ebe-4f82-9614-b701aa37fee8",
   "metadata": {},
   "outputs": [],
   "source": [
    "#range A\n",
    "wavelengthA = dataA_BC.T.iloc[0]\n",
    "wavelengthA = wavelengthA.reset_index(drop=True)"
   ]
  },
  {
   "cell_type": "code",
   "execution_count": 119,
   "id": "a7ce5252-1c3d-48a3-94b1-54e2b1a9ad69",
   "metadata": {},
   "outputs": [],
   "source": [
    "#wavelengthA"
   ]
  },
  {
   "cell_type": "code",
   "execution_count": 120,
   "id": "7b6b2ab1-27b9-4e9a-98de-077e6daf3431",
   "metadata": {},
   "outputs": [],
   "source": [
    "#range A\n",
    "dataA_BC_I = dataA_BC.T.iloc[1:].T\n",
    "dataA_BC_I = dataA_BC_I.reset_index(drop=True)"
   ]
  },
  {
   "cell_type": "code",
   "execution_count": 121,
   "id": "2d2b956a-4b7d-424a-86b4-5ba30be8766b",
   "metadata": {},
   "outputs": [
    {
     "data": {
      "text/html": [
       "<div>\n",
       "<style scoped>\n",
       "    .dataframe tbody tr th:only-of-type {\n",
       "        vertical-align: middle;\n",
       "    }\n",
       "\n",
       "    .dataframe tbody tr th {\n",
       "        vertical-align: top;\n",
       "    }\n",
       "\n",
       "    .dataframe thead th {\n",
       "        text-align: right;\n",
       "    }\n",
       "</style>\n",
       "<table border=\"1\" class=\"dataframe\">\n",
       "  <thead>\n",
       "    <tr style=\"text-align: right;\">\n",
       "      <th></th>\n",
       "      <th>ASW_2020_09_15_1</th>\n",
       "      <th>ASW_2020_09_15_2</th>\n",
       "      <th>ASW_2020_09_15_3</th>\n",
       "      <th>ASW_2020_09_15_4</th>\n",
       "    </tr>\n",
       "  </thead>\n",
       "  <tbody>\n",
       "    <tr>\n",
       "      <th>0</th>\n",
       "      <td>-0.000132</td>\n",
       "      <td>0.000136</td>\n",
       "      <td>0.000351</td>\n",
       "      <td>0.000303</td>\n",
       "    </tr>\n",
       "    <tr>\n",
       "      <th>1</th>\n",
       "      <td>-0.000193</td>\n",
       "      <td>-0.000019</td>\n",
       "      <td>0.000000</td>\n",
       "      <td>0.000090</td>\n",
       "    </tr>\n",
       "    <tr>\n",
       "      <th>2</th>\n",
       "      <td>-0.000125</td>\n",
       "      <td>0.000169</td>\n",
       "      <td>0.000470</td>\n",
       "      <td>0.000409</td>\n",
       "    </tr>\n",
       "    <tr>\n",
       "      <th>3</th>\n",
       "      <td>-0.000179</td>\n",
       "      <td>0.000047</td>\n",
       "      <td>0.000165</td>\n",
       "      <td>0.000248</td>\n",
       "    </tr>\n",
       "    <tr>\n",
       "      <th>4</th>\n",
       "      <td>-0.000105</td>\n",
       "      <td>0.000314</td>\n",
       "      <td>0.000669</td>\n",
       "      <td>0.000454</td>\n",
       "    </tr>\n",
       "    <tr>\n",
       "      <th>...</th>\n",
       "      <td>...</td>\n",
       "      <td>...</td>\n",
       "      <td>...</td>\n",
       "      <td>...</td>\n",
       "    </tr>\n",
       "    <tr>\n",
       "      <th>2484</th>\n",
       "      <td>0.000151</td>\n",
       "      <td>0.000688</td>\n",
       "      <td>0.000876</td>\n",
       "      <td>0.000556</td>\n",
       "    </tr>\n",
       "    <tr>\n",
       "      <th>2485</th>\n",
       "      <td>0.000183</td>\n",
       "      <td>0.000399</td>\n",
       "      <td>0.000554</td>\n",
       "      <td>0.000626</td>\n",
       "    </tr>\n",
       "    <tr>\n",
       "      <th>2486</th>\n",
       "      <td>0.000101</td>\n",
       "      <td>0.000000</td>\n",
       "      <td>0.000000</td>\n",
       "      <td>0.000436</td>\n",
       "    </tr>\n",
       "    <tr>\n",
       "      <th>2487</th>\n",
       "      <td>0.000105</td>\n",
       "      <td>0.000750</td>\n",
       "      <td>0.000746</td>\n",
       "      <td>0.000190</td>\n",
       "    </tr>\n",
       "    <tr>\n",
       "      <th>2488</th>\n",
       "      <td>0.000120</td>\n",
       "      <td>0.001481</td>\n",
       "      <td>0.001575</td>\n",
       "      <td>0.000033</td>\n",
       "    </tr>\n",
       "  </tbody>\n",
       "</table>\n",
       "<p>2489 rows × 4 columns</p>\n",
       "</div>"
      ],
      "text/plain": [
       "      ASW_2020_09_15_1  ASW_2020_09_15_2  ASW_2020_09_15_3  ASW_2020_09_15_4\n",
       "0            -0.000132          0.000136          0.000351          0.000303\n",
       "1            -0.000193         -0.000019          0.000000          0.000090\n",
       "2            -0.000125          0.000169          0.000470          0.000409\n",
       "3            -0.000179          0.000047          0.000165          0.000248\n",
       "4            -0.000105          0.000314          0.000669          0.000454\n",
       "...                ...               ...               ...               ...\n",
       "2484          0.000151          0.000688          0.000876          0.000556\n",
       "2485          0.000183          0.000399          0.000554          0.000626\n",
       "2486          0.000101          0.000000          0.000000          0.000436\n",
       "2487          0.000105          0.000750          0.000746          0.000190\n",
       "2488          0.000120          0.001481          0.001575          0.000033\n",
       "\n",
       "[2489 rows x 4 columns]"
      ]
     },
     "execution_count": 121,
     "metadata": {},
     "output_type": "execute_result"
    }
   ],
   "source": [
    "dataA_BC_I"
   ]
  },
  {
   "cell_type": "code",
   "execution_count": 122,
   "id": "7757de29-2635-438d-95a6-628aecf3d28d",
   "metadata": {},
   "outputs": [],
   "source": [
    "nscan = len(list(dataA_BC_I.columns.values.tolist()))\n",
    "\n",
    "areas = numpy.zeros(nscan)\n",
    "areasBCA = numpy.zeros(nscan)\n",
    "\n",
    "times = numpy.zeros(nscan)\n",
    "\n",
    "for iint in range(0, nscan):\n",
    "    \n",
    "    #areas[iint] = integration(iint+1, data, wavelength, 2900, 3900)\n",
    "    areasBCA[iint] = integration(iint+1, dataA_BC_I, wavelengthA, 2800, 4000)\n",
    "    #times[iint] = 15*iint\n",
    "    "
   ]
  },
  {
   "cell_type": "code",
   "execution_count": 123,
   "id": "f3b7f093-b6ca-4b53-a2f4-65f3d1905112",
   "metadata": {},
   "outputs": [
    {
     "data": {
      "text/plain": [
       "array([ 96.29207835, 111.47014325, 112.35891814,  53.70079377])"
      ]
     },
     "execution_count": 123,
     "metadata": {},
     "output_type": "execute_result"
    }
   ],
   "source": [
    "areasBCA"
   ]
  },
  {
   "cell_type": "markdown",
   "id": "f317f52a-8858-41cf-86d7-1c8ccc4d1f3a",
   "metadata": {
    "user_expressions": []
   },
   "source": [
    "### 3.1.B Bending Modes"
   ]
  },
  {
   "cell_type": "code",
   "execution_count": 124,
   "id": "5a2133c9-8ead-4c03-a783-ae430d8ccec0",
   "metadata": {},
   "outputs": [],
   "source": [
    "#range C (think to supress libration mode contribution!)\n",
    "wavelengthC = dataC_BC_U.T.iloc[0]\n",
    "wavelengthC = wavelengthC.reset_index(drop=True)"
   ]
  },
  {
   "cell_type": "code",
   "execution_count": 125,
   "id": "131d1a0d-6203-4a07-ae75-a4f2cf6d332e",
   "metadata": {},
   "outputs": [
    {
     "data": {
      "text/plain": [
       "0       1039.942\n",
       "1       1040.424\n",
       "2       1040.906\n",
       "3       1041.389\n",
       "4       1041.871\n",
       "          ...   \n",
       "1779    1897.641\n",
       "1780    1898.123\n",
       "1781    1898.605\n",
       "1782    1899.088\n",
       "1783    1899.570\n",
       "Name: Wavenumber, Length: 1784, dtype: float64"
      ]
     },
     "execution_count": 125,
     "metadata": {},
     "output_type": "execute_result"
    }
   ],
   "source": [
    "wavelengthC"
   ]
  },
  {
   "cell_type": "code",
   "execution_count": 126,
   "id": "011286fb-f486-4b58-b9a4-1662f844cf5a",
   "metadata": {},
   "outputs": [],
   "source": [
    "#range C\n",
    "dataC_BC_I = dataC_BC_U.T.iloc[1:].T\n",
    "dataC_BC_I = dataC_BC_I.reset_index(drop=True)"
   ]
  },
  {
   "cell_type": "code",
   "execution_count": 127,
   "id": "a3b1e0de-29ca-4a4a-8474-e9deda45d125",
   "metadata": {},
   "outputs": [
    {
     "data": {
      "text/html": [
       "<div>\n",
       "<style scoped>\n",
       "    .dataframe tbody tr th:only-of-type {\n",
       "        vertical-align: middle;\n",
       "    }\n",
       "\n",
       "    .dataframe tbody tr th {\n",
       "        vertical-align: top;\n",
       "    }\n",
       "\n",
       "    .dataframe thead th {\n",
       "        text-align: right;\n",
       "    }\n",
       "</style>\n",
       "<table border=\"1\" class=\"dataframe\">\n",
       "  <thead>\n",
       "    <tr style=\"text-align: right;\">\n",
       "      <th></th>\n",
       "      <th>ASW_2020_09_15_1</th>\n",
       "      <th>ASW_2020_09_15_2</th>\n",
       "      <th>ASW_2020_09_15_3</th>\n",
       "      <th>ASW_2020_09_15_4</th>\n",
       "    </tr>\n",
       "  </thead>\n",
       "  <tbody>\n",
       "    <tr>\n",
       "      <th>0</th>\n",
       "      <td>0.000193</td>\n",
       "      <td>1.523235e-03</td>\n",
       "      <td>0.003253</td>\n",
       "      <td>2.753807e-04</td>\n",
       "    </tr>\n",
       "    <tr>\n",
       "      <th>1</th>\n",
       "      <td>0.000331</td>\n",
       "      <td>5.166573e-04</td>\n",
       "      <td>0.002361</td>\n",
       "      <td>2.507645e-04</td>\n",
       "    </tr>\n",
       "    <tr>\n",
       "      <th>2</th>\n",
       "      <td>0.000358</td>\n",
       "      <td>1.360469e-03</td>\n",
       "      <td>0.003796</td>\n",
       "      <td>3.325964e-04</td>\n",
       "    </tr>\n",
       "    <tr>\n",
       "      <th>3</th>\n",
       "      <td>0.000436</td>\n",
       "      <td>2.549009e-04</td>\n",
       "      <td>0.001724</td>\n",
       "      <td>3.245892e-04</td>\n",
       "    </tr>\n",
       "    <tr>\n",
       "      <th>4</th>\n",
       "      <td>0.000398</td>\n",
       "      <td>1.101433e-03</td>\n",
       "      <td>0.003059</td>\n",
       "      <td>3.797860e-04</td>\n",
       "    </tr>\n",
       "    <tr>\n",
       "      <th>...</th>\n",
       "      <td>...</td>\n",
       "      <td>...</td>\n",
       "      <td>...</td>\n",
       "      <td>...</td>\n",
       "    </tr>\n",
       "    <tr>\n",
       "      <th>1779</th>\n",
       "      <td>0.000098</td>\n",
       "      <td>7.667428e-04</td>\n",
       "      <td>0.000443</td>\n",
       "      <td>6.985174e-04</td>\n",
       "    </tr>\n",
       "    <tr>\n",
       "      <th>1780</th>\n",
       "      <td>0.000131</td>\n",
       "      <td>8.584186e-04</td>\n",
       "      <td>0.001026</td>\n",
       "      <td>1.369116e-03</td>\n",
       "    </tr>\n",
       "    <tr>\n",
       "      <th>1781</th>\n",
       "      <td>0.000045</td>\n",
       "      <td>3.926974e-04</td>\n",
       "      <td>0.000037</td>\n",
       "      <td>-4.336809e-19</td>\n",
       "    </tr>\n",
       "    <tr>\n",
       "      <th>1782</th>\n",
       "      <td>0.000059</td>\n",
       "      <td>3.875322e-04</td>\n",
       "      <td>0.000835</td>\n",
       "      <td>9.535338e-04</td>\n",
       "    </tr>\n",
       "    <tr>\n",
       "      <th>1783</th>\n",
       "      <td>0.000000</td>\n",
       "      <td>-4.336809e-19</td>\n",
       "      <td>0.000575</td>\n",
       "      <td>3.206036e-04</td>\n",
       "    </tr>\n",
       "  </tbody>\n",
       "</table>\n",
       "<p>1784 rows × 4 columns</p>\n",
       "</div>"
      ],
      "text/plain": [
       "      ASW_2020_09_15_1  ASW_2020_09_15_2  ASW_2020_09_15_3  ASW_2020_09_15_4\n",
       "0             0.000193      1.523235e-03          0.003253      2.753807e-04\n",
       "1             0.000331      5.166573e-04          0.002361      2.507645e-04\n",
       "2             0.000358      1.360469e-03          0.003796      3.325964e-04\n",
       "3             0.000436      2.549009e-04          0.001724      3.245892e-04\n",
       "4             0.000398      1.101433e-03          0.003059      3.797860e-04\n",
       "...                ...               ...               ...               ...\n",
       "1779          0.000098      7.667428e-04          0.000443      6.985174e-04\n",
       "1780          0.000131      8.584186e-04          0.001026      1.369116e-03\n",
       "1781          0.000045      3.926974e-04          0.000037     -4.336809e-19\n",
       "1782          0.000059      3.875322e-04          0.000835      9.535338e-04\n",
       "1783          0.000000     -4.336809e-19          0.000575      3.206036e-04\n",
       "\n",
       "[1784 rows x 4 columns]"
      ]
     },
     "execution_count": 127,
     "metadata": {},
     "output_type": "execute_result"
    }
   ],
   "source": [
    "dataC_BC_I"
   ]
  },
  {
   "cell_type": "code",
   "execution_count": 128,
   "id": "50a40606-0dc7-4a99-b9cd-2b2685b2abe1",
   "metadata": {},
   "outputs": [],
   "source": [
    "nscan = len(list(dataC_BC_I.columns.values.tolist()))\n",
    "\n",
    "areas = numpy.zeros(nscan)\n",
    "areasBCC = numpy.zeros(nscan)\n",
    "\n",
    "times = numpy.zeros(nscan)\n",
    "\n",
    "for iint in range(0, nscan):\n",
    "    \n",
    "    #areas[iint] = integration(iint+1, data, wavelength, 2900, 3900)\n",
    "    areasBCC[iint] = integration(iint+1, dataC_BC_I, wavelengthC, 1040, 1900)\n",
    "    #times[iint] = 15*iint\n",
    "    "
   ]
  },
  {
   "cell_type": "code",
   "execution_count": 129,
   "id": "f33c7f04-138b-4135-88a5-99461ced87bc",
   "metadata": {},
   "outputs": [
    {
     "data": {
      "text/plain": [
       "array([6.70362203, 7.6222642 , 8.42393636, 4.0100989 ])"
      ]
     },
     "execution_count": 129,
     "metadata": {},
     "output_type": "execute_result"
    }
   ],
   "source": [
    "areasBCC"
   ]
  },
  {
   "cell_type": "markdown",
   "id": "006fdacc-ab6b-412f-b1a5-8532809d8db9",
   "metadata": {
    "user_expressions": []
   },
   "source": [
    "### 3.1.4 Clean "
   ]
  },
  {
   "cell_type": "code",
   "execution_count": 130,
   "id": "f1057efa-721e-4724-a4fb-2dd352989176",
   "metadata": {},
   "outputs": [],
   "source": [
    "#range A\n",
    "\n",
    "areasBCA_df = pd.DataFrame({ 'File number': dataA_BC_I.iloc[0,:], 'Int_A': areasBCA[:]})\n",
    "areasBCA_df = areasBCA_df.T.iloc[1:].T\n",
    "\n",
    "areasBCA_df = areasBCA_df.reset_index()\n",
    "areasBCA_df['Name'] = areasBCA_df['index']\n",
    "areasBCA_df= areasBCA_df.T.iloc[1:].T\n",
    "\n",
    "#range C\n",
    "\n",
    "areasBCC_df = pd.DataFrame({ 'File number': dataC_BC_I.iloc[0,:], 'Int_C': areasBCC[:]})\n",
    "areasBCC_df = areasBCC_df.T.iloc[1:].T\n",
    "\n",
    "areasBCC_df = areasBCC_df.reset_index()\n",
    "areasBCC_df['Name'] = areasBCC_df['index']\n",
    "areasBCC_df= areasBCC_df.T.iloc[1:].T"
   ]
  },
  {
   "cell_type": "code",
   "execution_count": 131,
   "id": "5aee00f0-7702-4878-9b92-9ffdce97e7d3",
   "metadata": {},
   "outputs": [],
   "source": [
    "#areasBCA_df\n",
    "#areasBCC_df"
   ]
  },
  {
   "cell_type": "markdown",
   "id": "d68cbc2c-1bab-4faa-9855-573929c449fb",
   "metadata": {
    "user_expressions": []
   },
   "source": [
    "### 3.1.5 Append to data Annex"
   ]
  },
  {
   "cell_type": "code",
   "execution_count": 132,
   "id": "dadc5fef-e83c-41fc-93cc-0350a1fc6f0b",
   "metadata": {},
   "outputs": [],
   "source": [
    "data_annex_df = pd.merge(data_annex_df, areasBCA_df, on=\"Name\")\n",
    "data_annex_df = pd.merge(data_annex_df, areasBCC_df, on=\"Name\")\n"
   ]
  },
  {
   "cell_type": "code",
   "execution_count": 133,
   "id": "3451651b-7f32-45e6-b88c-67a989a504cd",
   "metadata": {},
   "outputs": [
    {
     "data": {
      "text/html": [
       "<div>\n",
       "<style scoped>\n",
       "    .dataframe tbody tr th:only-of-type {\n",
       "        vertical-align: middle;\n",
       "    }\n",
       "\n",
       "    .dataframe tbody tr th {\n",
       "        vertical-align: top;\n",
       "    }\n",
       "\n",
       "    .dataframe thead th {\n",
       "        text-align: right;\n",
       "    }\n",
       "</style>\n",
       "<table border=\"1\" class=\"dataframe\">\n",
       "  <thead>\n",
       "    <tr style=\"text-align: right;\">\n",
       "      <th></th>\n",
       "      <th>Name</th>\n",
       "      <th>min1</th>\n",
       "      <th>index1</th>\n",
       "      <th>min2</th>\n",
       "      <th>index2</th>\n",
       "      <th>min3</th>\n",
       "      <th>index3</th>\n",
       "      <th>min4</th>\n",
       "      <th>index4</th>\n",
       "      <th>min5</th>\n",
       "      <th>...</th>\n",
       "      <th>maxA0</th>\n",
       "      <th>maxA0w</th>\n",
       "      <th>maxBi</th>\n",
       "      <th>maxB</th>\n",
       "      <th>maxBw</th>\n",
       "      <th>maxCi</th>\n",
       "      <th>maxC</th>\n",
       "      <th>maxCw</th>\n",
       "      <th>Int_A</th>\n",
       "      <th>Int_C</th>\n",
       "    </tr>\n",
       "  </thead>\n",
       "  <tbody>\n",
       "    <tr>\n",
       "      <th>0</th>\n",
       "      <td>ASW_2020_09_15_1</td>\n",
       "      <td>-0.017293</td>\n",
       "      <td>6630</td>\n",
       "      <td>-0.009476</td>\n",
       "      <td>4293</td>\n",
       "      <td>-0.009151</td>\n",
       "      <td>4147</td>\n",
       "      <td>0.001203</td>\n",
       "      <td>2482</td>\n",
       "      <td>0.001967</td>\n",
       "      <td>...</td>\n",
       "      <td>0.277977</td>\n",
       "      <td>3270.249</td>\n",
       "      <td>2936</td>\n",
       "      <td>0.008422</td>\n",
       "      <td>2215.361</td>\n",
       "      <td>1777</td>\n",
       "      <td>0.022221</td>\n",
       "      <td>1656.579</td>\n",
       "      <td>96.292078</td>\n",
       "      <td>6.703622</td>\n",
       "    </tr>\n",
       "    <tr>\n",
       "      <th>1</th>\n",
       "      <td>ASW_2020_09_15_2</td>\n",
       "      <td>-0.017489</td>\n",
       "      <td>6636</td>\n",
       "      <td>-0.008995</td>\n",
       "      <td>4161</td>\n",
       "      <td>-0.009001</td>\n",
       "      <td>4132</td>\n",
       "      <td>0.002430</td>\n",
       "      <td>2480</td>\n",
       "      <td>0.003482</td>\n",
       "      <td>...</td>\n",
       "      <td>0.395890</td>\n",
       "      <td>3246.143</td>\n",
       "      <td>2976</td>\n",
       "      <td>0.012062</td>\n",
       "      <td>2234.646</td>\n",
       "      <td>1754</td>\n",
       "      <td>0.021662</td>\n",
       "      <td>1645.490</td>\n",
       "      <td>111.470143</td>\n",
       "      <td>7.622264</td>\n",
       "    </tr>\n",
       "    <tr>\n",
       "      <th>2</th>\n",
       "      <td>ASW_2020_09_15_3</td>\n",
       "      <td>-0.017849</td>\n",
       "      <td>6636</td>\n",
       "      <td>-0.009715</td>\n",
       "      <td>4151</td>\n",
       "      <td>-0.009664</td>\n",
       "      <td>4132</td>\n",
       "      <td>0.001595</td>\n",
       "      <td>2463</td>\n",
       "      <td>0.003063</td>\n",
       "      <td>...</td>\n",
       "      <td>0.400649</td>\n",
       "      <td>3233.125</td>\n",
       "      <td>2974</td>\n",
       "      <td>0.012331</td>\n",
       "      <td>2233.682</td>\n",
       "      <td>1691</td>\n",
       "      <td>0.021226</td>\n",
       "      <td>1615.116</td>\n",
       "      <td>112.358918</td>\n",
       "      <td>8.423936</td>\n",
       "    </tr>\n",
       "    <tr>\n",
       "      <th>3</th>\n",
       "      <td>ASW_2020_09_15_4</td>\n",
       "      <td>-0.006971</td>\n",
       "      <td>6630</td>\n",
       "      <td>-0.004298</td>\n",
       "      <td>4149</td>\n",
       "      <td>-0.004222</td>\n",
       "      <td>4120</td>\n",
       "      <td>0.002220</td>\n",
       "      <td>2473</td>\n",
       "      <td>0.002968</td>\n",
       "      <td>...</td>\n",
       "      <td>0.203090</td>\n",
       "      <td>3228.304</td>\n",
       "      <td>2976</td>\n",
       "      <td>0.006884</td>\n",
       "      <td>2234.646</td>\n",
       "      <td>1574</td>\n",
       "      <td>0.013023</td>\n",
       "      <td>1558.708</td>\n",
       "      <td>53.700794</td>\n",
       "      <td>4.010099</td>\n",
       "    </tr>\n",
       "  </tbody>\n",
       "</table>\n",
       "<p>4 rows × 30 columns</p>\n",
       "</div>"
      ],
      "text/plain": [
       "               Name      min1  index1      min2  index2      min3  index3  \\\n",
       "0  ASW_2020_09_15_1 -0.017293    6630 -0.009476    4293 -0.009151    4147   \n",
       "1  ASW_2020_09_15_2 -0.017489    6636 -0.008995    4161 -0.009001    4132   \n",
       "2  ASW_2020_09_15_3 -0.017849    6636 -0.009715    4151 -0.009664    4132   \n",
       "3  ASW_2020_09_15_4 -0.006971    6630 -0.004298    4149 -0.004222    4120   \n",
       "\n",
       "       min4  index4      min5  ...     maxA0    maxA0w  maxBi      maxB  \\\n",
       "0  0.001203    2482  0.001967  ...  0.277977  3270.249   2936  0.008422   \n",
       "1  0.002430    2480  0.003482  ...  0.395890  3246.143   2976  0.012062   \n",
       "2  0.001595    2463  0.003063  ...  0.400649  3233.125   2974  0.012331   \n",
       "3  0.002220    2473  0.002968  ...  0.203090  3228.304   2976  0.006884   \n",
       "\n",
       "      maxBw  maxCi      maxC     maxCw       Int_A     Int_C  \n",
       "0  2215.361   1777  0.022221  1656.579   96.292078  6.703622  \n",
       "1  2234.646   1754  0.021662  1645.490  111.470143  7.622264  \n",
       "2  2233.682   1691  0.021226  1615.116  112.358918  8.423936  \n",
       "3  2234.646   1574  0.013023  1558.708   53.700794  4.010099  \n",
       "\n",
       "[4 rows x 30 columns]"
      ]
     },
     "execution_count": 133,
     "metadata": {},
     "output_type": "execute_result"
    }
   ],
   "source": [
    "data_annex_df"
   ]
  },
  {
   "cell_type": "markdown",
   "id": "afb980fe-e066-4c68-81e1-a8d3483b2cbc",
   "metadata": {
    "user_expressions": []
   },
   "source": [
    "### 3.1.6 Plotting\n",
    "\n",
    "#### Dict values"
   ]
  },
  {
   "cell_type": "code",
   "execution_count": 134,
   "id": "8613ff3e-e620-4999-af0d-b31a4b9e95fe",
   "metadata": {},
   "outputs": [
    {
     "data": {
      "image/png": "[encoded data removed]",
      "text/plain": [
       "<Figure size 800x600 with 1 Axes>"
      ]
     },
     "metadata": {},
     "output_type": "display_data"
    }
   ],
   "source": [
    "fig= plt.figure(figsize=(8,6))\n",
    "\n",
    "for keys, values in Tdictionary.items():\n",
    "    \n",
    "    #temp = int(keys)\n",
    "    scan = json.loads(values)\n",
    "\n",
    "    normalize = mcolors.Normalize(vmin=Tmin, vmax=Tmax)\n",
    "    colormap = cm.jet\n",
    "    \n",
    "    for i in scan:\n",
    "\n",
    "\n",
    "        plt.plot(keys, data_annex_df.iloc[i-1,28], '+', mew=3, ms=12, c=cm.jet(i/nscan),label= str(keys)+\" - \"+str(i)+\" - \"+str(int(data_annex_df.iloc[i-1,28])))    \n",
    "\n",
    "plt.title('{0} DR3 Integration '.format(date))\n",
    "#plt.axis([3210,3270])\n",
    "plt.xlabel('Temperature (K)').set_fontsize(13)\n",
    "plt.ylabel('OH stretch Integration (AU)').set_fontsize(13)\n",
    "plt.xticks(fontsize=14)\n",
    "plt.yticks(fontsize=14)\n",
    "#ax = fig.gca()\n",
    "#plt.grid()\n",
    "plt.legend()\n",
    "plt.legend(loc='center left', bbox_to_anchor=(1, 0.5))\n",
    "\n",
    "\n",
    "plt.savefig('..\\..\\Data\\DATA_PROCESSING\\{}\\Plots\\DR2_{}_PeakA-Integration.png'.format(date, date))\n",
    "\n",
    "plt.show()"
   ]
  },
  {
   "cell_type": "markdown",
   "id": "25bc2e03-b92b-45cf-af4f-b451070dc6f2",
   "metadata": {
    "user_expressions": []
   },
   "source": [
    "#### Dict values"
   ]
  },
  {
   "cell_type": "code",
   "execution_count": 135,
   "id": "a1244a72-ba2a-4040-825f-32db28696ac8",
   "metadata": {},
   "outputs": [],
   "source": [
    "if Iso == True:   \n",
    "    \n",
    "    fig= plt.figure(figsize=(8,6))\n",
    "\n",
    "    for keys, values in Isodic1.items():\n",
    "\n",
    "        plt.plot(keys, data_anex_df.iloc[values,28], '+', mew=3, ms=12, c=cm.jet(values/nscan),label= str(keys)+\" - \"+str(values+1)+\" - \"+str(int(data_anex_df.iloc[values,28])))    \n",
    "\n",
    "    plt.title('{0} DR3 Integration Iso {1}  '.format(date, Tiso1))\n",
    "    #plt.axis([3210,3270])\n",
    "    plt.xlabel('Time (h)').set_fontsize(13)\n",
    "    plt.ylabel('OH stretch Integration (AU)').set_fontsize(13)\n",
    "    ax = fig.gca()\n",
    "    ax.xaxis.set_major_locator(plt.MaxNLocator(10))  \n",
    "    #plt.grid()\n",
    "    #plt.legend()\n",
    "\n",
    "\n",
    "    plt.savefig('D:\\DATA-Processing\\PAC\\{}/Samples/{}/Plots/DR/DR2_{}_PeakA-Integration_Iso_{}.png'.format(XP, date, date, Tiso1))\n",
    "\n",
    "    plt.show()"
   ]
  },
  {
   "cell_type": "markdown",
   "id": "a2078571-9c97-41a3-b519-7713bc838f1e",
   "metadata": {
    "user_expressions": []
   },
   "source": [
    "## 3.2 <u>Column Density Calculation </u>\n",
    "\n",
    "### 3.2.1 Theory\n",
    "\n",
    "To do"
   ]
  },
  {
   "cell_type": "code",
   "execution_count": null,
   "id": "02357850-868f-41ff-a76e-b7e7df70f6b4",
   "metadata": {},
   "outputs": [],
   "source": []
  },
  {
   "cell_type": "markdown",
   "id": "c16e5176-b5bd-4ca3-8442-4f31af3b07de",
   "metadata": {
    "user_expressions": []
   },
   "source": [
    "### 3.2.2 Normalisation factor\n",
    "\n",
    "Dep_val_A correspond to the first value found in the column Int_A or C. This corrspond to the integration for from the deposition for all the samples"
   ]
  },
  {
   "cell_type": "code",
   "execution_count": 86,
   "id": "50451691-66bc-4c3d-b0f4-f2e8168442ad",
   "metadata": {},
   "outputs": [],
   "source": [
    "Dep_val_A = data_annex_df['Int_A'].values[0]\n",
    "\n",
    "Dep_val_C = data_annex_df['Int_C'].values[0]"
   ]
  },
  {
   "cell_type": "code",
   "execution_count": 87,
   "id": "5ac97914-6d4c-43e3-b978-446bc0114efd",
   "metadata": {},
   "outputs": [],
   "source": [
    "#Dep_val_A \n",
    "#Dep_val_C"
   ]
  },
  {
   "cell_type": "markdown",
   "id": "f84eb21b-a003-43bf-ab27-b54b6f548801",
   "metadata": {
    "user_expressions": []
   },
   "source": [
    "### 3.3 Optical depth Calcul\n",
    "\n",
    "### 3.3.A Oh stretch\n",
    "\n",
    "Aa taken from ref ... Hagen 1981\n",
    "\n",
    "Find more recent value"
   ]
  },
  {
   "cell_type": "code",
   "execution_count": 88,
   "id": "2c6f6fc6-a98a-45e1-83cf-16178326051a",
   "metadata": {},
   "outputs": [],
   "source": [
    "Aa = 2 * 10**(-16)"
   ]
  },
  {
   "cell_type": "code",
   "execution_count": 89,
   "id": "6e6253ad-220d-4afe-8688-0ec66d694445",
   "metadata": {},
   "outputs": [],
   "source": [
    "NA = Dep_val_A / Aa"
   ]
  },
  {
   "cell_type": "code",
   "execution_count": 90,
   "id": "d3802b5d-cf46-4233-8ccf-53e6b0dac66f",
   "metadata": {},
   "outputs": [],
   "source": [
    "#NA"
   ]
  },
  {
   "cell_type": "markdown",
   "id": "9b116699-fd82-4c19-8d61-8ee0edbe9a4d",
   "metadata": {
    "user_expressions": []
   },
   "source": [
    "### 3.3.B Oh bend"
   ]
  },
  {
   "cell_type": "code",
   "execution_count": 91,
   "id": "0352999a-f594-41ea-b044-c21bcc8cdcce",
   "metadata": {},
   "outputs": [],
   "source": [
    "Ac = 1.2 * 10**(-17)"
   ]
  },
  {
   "cell_type": "code",
   "execution_count": 92,
   "id": "6caf62d4-e75c-430f-b4ef-01e063af97c6",
   "metadata": {},
   "outputs": [],
   "source": [
    "NC = Dep_val_C / Ac"
   ]
  },
  {
   "cell_type": "code",
   "execution_count": 93,
   "id": "22af6e5d-2cd5-4a67-a65b-d3286279d1c8",
   "metadata": {},
   "outputs": [],
   "source": [
    "#NC"
   ]
  },
  {
   "cell_type": "markdown",
   "id": "05f4ba8c-c15a-43f8-89c0-fb1a108d57e5",
   "metadata": {
    "user_expressions": []
   },
   "source": [
    "### 3.3.C Comparison and analysis"
   ]
  },
  {
   "cell_type": "code",
   "execution_count": 94,
   "id": "c018567d-3486-4d23-afa8-ba1c0ba22db6",
   "metadata": {},
   "outputs": [],
   "source": [
    "comp = NA/NC * 100"
   ]
  },
  {
   "cell_type": "code",
   "execution_count": 95,
   "id": "ae425079-bd21-4ec5-912c-6ebaf1547b26",
   "metadata": {},
   "outputs": [
    {
     "data": {
      "text/plain": [
       "86.18512009467001"
      ]
     },
     "execution_count": 95,
     "metadata": {},
     "output_type": "execute_result"
    }
   ],
   "source": [
    "comp"
   ]
  },
  {
   "cell_type": "markdown",
   "id": "b1576324-acff-4742-a8a3-e872427df015",
   "metadata": {},
   "source": [
    "### 3.3.E Append to Ice_thickness_df\n",
    "\n",
    "Prior to the Reduction analysis, the laser-diode thickness notebook should have been performed and a csv being producing with he inputs. We will append the previously obtained data into this csv"
   ]
  },
  {
   "cell_type": "code",
   "execution_count": 105,
   "id": "84929b34-1840-4b14-985e-081f15df9811",
   "metadata": {},
   "outputs": [],
   "source": [
    "Ice_thickness_df = pd.read_csv('..\\..\\Data\\Ice_thickness.csv')"
   ]
  },
  {
   "cell_type": "code",
   "execution_count": 106,
   "id": "d5414a82-579d-4124-a3f1-6496c1deebd8",
   "metadata": {},
   "outputs": [
    {
     "data": {
      "text/html": [
       "<div>\n",
       "<style scoped>\n",
       "    .dataframe tbody tr th:only-of-type {\n",
       "        vertical-align: middle;\n",
       "    }\n",
       "\n",
       "    .dataframe tbody tr th {\n",
       "        vertical-align: top;\n",
       "    }\n",
       "\n",
       "    .dataframe thead th {\n",
       "        text-align: right;\n",
       "    }\n",
       "</style>\n",
       "<table border=\"1\" class=\"dataframe\">\n",
       "  <thead>\n",
       "    <tr style=\"text-align: right;\">\n",
       "      <th></th>\n",
       "      <th>Sample</th>\n",
       "      <th>Date</th>\n",
       "      <th>n1</th>\n",
       "      <th>teta1</th>\n",
       "      <th>d</th>\n",
       "      <th>rate</th>\n",
       "      <th>thickness</th>\n",
       "      <th>Na</th>\n",
       "      <th>Nc</th>\n",
       "      <th>NormF</th>\n",
       "      <th>Unnamed: 10</th>\n",
       "    </tr>\n",
       "  </thead>\n",
       "  <tbody>\n",
       "    <tr>\n",
       "      <th>0</th>\n",
       "      <td>ASW</td>\n",
       "      <td>2020_09_15</td>\n",
       "      <td>0.993048</td>\n",
       "      <td>20.146063</td>\n",
       "      <td>339.379074</td>\n",
       "      <td>0.755029</td>\n",
       "      <td>906.035050</td>\n",
       "      <td>4.814604e+17</td>\n",
       "      <td>5.586352e+17</td>\n",
       "      <td>NaN</td>\n",
       "      <td>NaN</td>\n",
       "    </tr>\n",
       "    <tr>\n",
       "      <th>1</th>\n",
       "      <td>ASW</td>\n",
       "      <td>2020_09_16</td>\n",
       "      <td>0.987391</td>\n",
       "      <td>20.266541</td>\n",
       "      <td>341.587806</td>\n",
       "      <td>0.919652</td>\n",
       "      <td>1103.582241</td>\n",
       "      <td>NaN</td>\n",
       "      <td>NaN</td>\n",
       "      <td>NaN</td>\n",
       "      <td>NaN</td>\n",
       "    </tr>\n",
       "  </tbody>\n",
       "</table>\n",
       "</div>"
      ],
      "text/plain": [
       "  Sample        Date        n1      teta1           d      rate    thickness  \\\n",
       "0    ASW  2020_09_15  0.993048  20.146063  339.379074  0.755029   906.035050   \n",
       "1    ASW  2020_09_16  0.987391  20.266541  341.587806  0.919652  1103.582241   \n",
       "\n",
       "             Na            Nc  NormF  Unnamed: 10  \n",
       "0  4.814604e+17  5.586352e+17    NaN          NaN  \n",
       "1           NaN           NaN    NaN          NaN  "
      ]
     },
     "execution_count": 106,
     "metadata": {},
     "output_type": "execute_result"
    }
   ],
   "source": [
    "Ice_thickness_df"
   ]
  },
  {
   "cell_type": "code",
   "execution_count": 98,
   "id": "268d4de2-ddfc-4b0f-9ab0-7170d9d16c6d",
   "metadata": {},
   "outputs": [],
   "source": [
    "Ice_thickness_df.loc[Ice_thickness_df[\"Date\"] == date, 'Na'] = NA \n",
    "Ice_thickness_df.loc[Ice_thickness_df[\"Date\"] == date, 'Nc'] = NC "
   ]
  },
  {
   "cell_type": "code",
   "execution_count": 104,
   "id": "0367e73f-a5b8-4773-937b-a7b65f9624f2",
   "metadata": {},
   "outputs": [
    {
     "data": {
      "text/html": [
       "<div>\n",
       "<style scoped>\n",
       "    .dataframe tbody tr th:only-of-type {\n",
       "        vertical-align: middle;\n",
       "    }\n",
       "\n",
       "    .dataframe tbody tr th {\n",
       "        vertical-align: top;\n",
       "    }\n",
       "\n",
       "    .dataframe thead th {\n",
       "        text-align: right;\n",
       "    }\n",
       "</style>\n",
       "<table border=\"1\" class=\"dataframe\">\n",
       "  <thead>\n",
       "    <tr style=\"text-align: right;\">\n",
       "      <th></th>\n",
       "      <th>Sample</th>\n",
       "      <th>Date</th>\n",
       "      <th>n1</th>\n",
       "      <th>teta1</th>\n",
       "      <th>d</th>\n",
       "      <th>rate</th>\n",
       "      <th>thickness</th>\n",
       "      <th>Na</th>\n",
       "      <th>Nc</th>\n",
       "      <th>Unnamed: 9</th>\n",
       "      <th>Unnamed: 10</th>\n",
       "    </tr>\n",
       "  </thead>\n",
       "  <tbody>\n",
       "    <tr>\n",
       "      <th>0</th>\n",
       "      <td>ASW</td>\n",
       "      <td>2020_09_15</td>\n",
       "      <td>0.993048</td>\n",
       "      <td>20.146063</td>\n",
       "      <td>339.379074</td>\n",
       "      <td>0.755029</td>\n",
       "      <td>906.035050</td>\n",
       "      <td>4.814604e+17</td>\n",
       "      <td>5.586352e+17</td>\n",
       "      <td>NaN</td>\n",
       "      <td>NaN</td>\n",
       "    </tr>\n",
       "    <tr>\n",
       "      <th>1</th>\n",
       "      <td>ASW</td>\n",
       "      <td>2020_09_16</td>\n",
       "      <td>0.987391</td>\n",
       "      <td>20.266541</td>\n",
       "      <td>341.587806</td>\n",
       "      <td>0.919652</td>\n",
       "      <td>1103.582241</td>\n",
       "      <td>NaN</td>\n",
       "      <td>NaN</td>\n",
       "      <td>NaN</td>\n",
       "      <td>NaN</td>\n",
       "    </tr>\n",
       "  </tbody>\n",
       "</table>\n",
       "</div>"
      ],
      "text/plain": [
       "  Sample        Date        n1      teta1           d      rate    thickness  \\\n",
       "0    ASW  2020_09_15  0.993048  20.146063  339.379074  0.755029   906.035050   \n",
       "1    ASW  2020_09_16  0.987391  20.266541  341.587806  0.919652  1103.582241   \n",
       "\n",
       "             Na            Nc  Unnamed: 9  Unnamed: 10  \n",
       "0  4.814604e+17  5.586352e+17         NaN          NaN  \n",
       "1           NaN           NaN         NaN          NaN  "
      ]
     },
     "execution_count": 104,
     "metadata": {},
     "output_type": "execute_result"
    }
   ],
   "source": [
    "Ice_thickness_df"
   ]
  },
  {
   "cell_type": "code",
   "execution_count": 100,
   "id": "c33ce07d-89f9-4fec-ba4c-cf045de9daf9",
   "metadata": {},
   "outputs": [],
   "source": []
  },
  {
   "cell_type": "markdown",
   "id": "729a6b00-b82a-49c0-b0db-d7b71041daea",
   "metadata": {
    "user_expressions": []
   },
   "source": [
    "## 3.3 <u> Normalisation </u>\n",
    "\n",
    "2 different normalisations\n",
    "- The 20K sample can be normalised with the first scan (ie the deposition)\n",
    "- The sample deposited at the higher T needs to be with normalised with respect to the Integration from the normalized scan (3.3?)  \n",
    "\n",
    "### 20K depositions\n",
    "\n",
    "For 20K deposition no problem, we take the Integration value of the deposition and normalised through it\n",
    "\n",
    "Insert if statement: if TRamp[:3] not Nan continue otherwise don`t perform normalisation"
   ]
  },
  {
   "cell_type": "code",
   "execution_count": 101,
   "id": "e697fc2c-7256-46da-83d9-782b51dca465",
   "metadata": {},
   "outputs": [],
   "source": [
    "#Dep_val_A"
   ]
  },
  {
   "cell_type": "markdown",
   "id": "f0e441cf-9428-412f-b0f4-8ae9941997c4",
   "metadata": {
    "user_expressions": []
   },
   "source": [
    " $\\color{red}{\\text{Here we need to have a if statement that say that if the sample is deposited at 20K - norm factor = 100 / Dep_val_A, else, another notebook is run to get the Norm factor at the temperature of interest!}}$"
   ]
  },
  {
   "cell_type": "code",
   "execution_count": 102,
   "id": "c6124ac6-dbb9-4f52-b9f3-0f04b4c0aa8e",
   "metadata": {},
   "outputs": [
    {
     "name": "stdout",
     "output_type": "stream",
     "text": [
      "1.0385070268819834\n"
     ]
    }
   ],
   "source": [
    "if Tdep == \"20\":\n",
    "\n",
    "    \n",
    "    NormFactor = 100 / Dep_val_A\n",
    "    print(NormFactor)\n",
    "    \n",
    "else:\n",
    "\n",
    "    %run -i \"HighTreduction.py\"\n",
    "    print(mean_X)\n",
    "    NormFactor = mean_X / Dep_val_A"
   ]
  },
  {
   "cell_type": "code",
   "execution_count": 103,
   "id": "64c0c7da-8b84-4e74-8a93-4ed8c9cb9969",
   "metadata": {},
   "outputs": [],
   "source": [
    "#NormFactor"
   ]
  },
  {
   "cell_type": "markdown",
   "id": "cbf3efce-abe2-4834-80c2-6510344e8ebe",
   "metadata": {},
   "source": [
    " $\\color{red}{\\text{Append Norm factor into sample thick csv}}$"
   ]
  },
  {
   "cell_type": "code",
   "execution_count": 107,
   "id": "c178800c-0cb9-47b3-8ab9-dc8f9d9fba4a",
   "metadata": {},
   "outputs": [],
   "source": [
    "Ice_thickness_df.loc[Ice_thickness_df[\"Date\"] == date, 'NormF'] = NormFactor"
   ]
  },
  {
   "cell_type": "code",
   "execution_count": 108,
   "id": "067b447a-6461-4aab-9367-cabc97898e9c",
   "metadata": {},
   "outputs": [],
   "source": [
    "Ice_thickness_df.to_csv('..\\..\\Data\\Ice_thickness.csv', index=False)"
   ]
  },
  {
   "cell_type": "markdown",
   "id": "7f82c016-622a-44d6-97a8-bd1ed2636cd7",
   "metadata": {
    "user_expressions": []
   },
   "source": [
    "# Normalisation "
   ]
  },
  {
   "cell_type": "code",
   "execution_count": 109,
   "id": "7687b0ee-454e-4f5b-be0e-f9d017a1b08c",
   "metadata": {},
   "outputs": [],
   "source": [
    "dataA_N = dataA_BC_I * NormFactor"
   ]
  },
  {
   "cell_type": "markdown",
   "id": "b9ea640b-d513-4694-9329-d0e0d6b72732",
   "metadata": {
    "user_expressions": []
   },
   "source": [
    "Saanity Check:\n",
    "    \n",
    "- Insert wavenumber (before export)"
   ]
  },
  {
   "cell_type": "code",
   "execution_count": 110,
   "id": "4f8d7342-428e-441f-a077-4d28740e9008",
   "metadata": {},
   "outputs": [
    {
     "data": {
      "text/html": [
       "<div>\n",
       "<style scoped>\n",
       "    .dataframe tbody tr th:only-of-type {\n",
       "        vertical-align: middle;\n",
       "    }\n",
       "\n",
       "    .dataframe tbody tr th {\n",
       "        vertical-align: top;\n",
       "    }\n",
       "\n",
       "    .dataframe thead th {\n",
       "        text-align: right;\n",
       "    }\n",
       "</style>\n",
       "<table border=\"1\" class=\"dataframe\">\n",
       "  <thead>\n",
       "    <tr style=\"text-align: right;\">\n",
       "      <th></th>\n",
       "      <th>Wavenumber</th>\n",
       "      <th>ASW_2020_09_15_1</th>\n",
       "      <th>ASW_2020_09_15_2</th>\n",
       "      <th>ASW_2020_09_15_3</th>\n",
       "      <th>ASW_2020_09_15_4</th>\n",
       "    </tr>\n",
       "  </thead>\n",
       "  <tbody>\n",
       "    <tr>\n",
       "      <th>0</th>\n",
       "      <td>2800.660</td>\n",
       "      <td>-0.000137</td>\n",
       "      <td>0.000142</td>\n",
       "      <td>0.000364</td>\n",
       "      <td>0.000315</td>\n",
       "    </tr>\n",
       "    <tr>\n",
       "      <th>1</th>\n",
       "      <td>2801.142</td>\n",
       "      <td>-0.000201</td>\n",
       "      <td>-0.000020</td>\n",
       "      <td>0.000000</td>\n",
       "      <td>0.000093</td>\n",
       "    </tr>\n",
       "    <tr>\n",
       "      <th>2</th>\n",
       "      <td>2801.624</td>\n",
       "      <td>-0.000130</td>\n",
       "      <td>0.000175</td>\n",
       "      <td>0.000488</td>\n",
       "      <td>0.000425</td>\n",
       "    </tr>\n",
       "    <tr>\n",
       "      <th>3</th>\n",
       "      <td>2802.106</td>\n",
       "      <td>-0.000186</td>\n",
       "      <td>0.000049</td>\n",
       "      <td>0.000172</td>\n",
       "      <td>0.000258</td>\n",
       "    </tr>\n",
       "    <tr>\n",
       "      <th>4</th>\n",
       "      <td>2802.589</td>\n",
       "      <td>-0.000109</td>\n",
       "      <td>0.000326</td>\n",
       "      <td>0.000695</td>\n",
       "      <td>0.000471</td>\n",
       "    </tr>\n",
       "    <tr>\n",
       "      <th>...</th>\n",
       "      <td>...</td>\n",
       "      <td>...</td>\n",
       "      <td>...</td>\n",
       "      <td>...</td>\n",
       "      <td>...</td>\n",
       "    </tr>\n",
       "    <tr>\n",
       "      <th>2484</th>\n",
       "      <td>3998.257</td>\n",
       "      <td>0.000156</td>\n",
       "      <td>0.000714</td>\n",
       "      <td>0.000909</td>\n",
       "      <td>0.000577</td>\n",
       "    </tr>\n",
       "    <tr>\n",
       "      <th>2485</th>\n",
       "      <td>3998.739</td>\n",
       "      <td>0.000190</td>\n",
       "      <td>0.000414</td>\n",
       "      <td>0.000575</td>\n",
       "      <td>0.000651</td>\n",
       "    </tr>\n",
       "    <tr>\n",
       "      <th>2486</th>\n",
       "      <td>3999.221</td>\n",
       "      <td>0.000105</td>\n",
       "      <td>0.000000</td>\n",
       "      <td>0.000000</td>\n",
       "      <td>0.000453</td>\n",
       "    </tr>\n",
       "    <tr>\n",
       "      <th>2487</th>\n",
       "      <td>3999.703</td>\n",
       "      <td>0.000109</td>\n",
       "      <td>0.000779</td>\n",
       "      <td>0.000774</td>\n",
       "      <td>0.000197</td>\n",
       "    </tr>\n",
       "    <tr>\n",
       "      <th>2488</th>\n",
       "      <td>4000.185</td>\n",
       "      <td>0.000125</td>\n",
       "      <td>0.001538</td>\n",
       "      <td>0.001636</td>\n",
       "      <td>0.000034</td>\n",
       "    </tr>\n",
       "  </tbody>\n",
       "</table>\n",
       "<p>2489 rows × 5 columns</p>\n",
       "</div>"
      ],
      "text/plain": [
       "      Wavenumber  ASW_2020_09_15_1  ASW_2020_09_15_2  ASW_2020_09_15_3  \\\n",
       "0       2800.660         -0.000137          0.000142          0.000364   \n",
       "1       2801.142         -0.000201         -0.000020          0.000000   \n",
       "2       2801.624         -0.000130          0.000175          0.000488   \n",
       "3       2802.106         -0.000186          0.000049          0.000172   \n",
       "4       2802.589         -0.000109          0.000326          0.000695   \n",
       "...          ...               ...               ...               ...   \n",
       "2484    3998.257          0.000156          0.000714          0.000909   \n",
       "2485    3998.739          0.000190          0.000414          0.000575   \n",
       "2486    3999.221          0.000105          0.000000          0.000000   \n",
       "2487    3999.703          0.000109          0.000779          0.000774   \n",
       "2488    4000.185          0.000125          0.001538          0.001636   \n",
       "\n",
       "      ASW_2020_09_15_4  \n",
       "0             0.000315  \n",
       "1             0.000093  \n",
       "2             0.000425  \n",
       "3             0.000258  \n",
       "4             0.000471  \n",
       "...                ...  \n",
       "2484          0.000577  \n",
       "2485          0.000651  \n",
       "2486          0.000453  \n",
       "2487          0.000197  \n",
       "2488          0.000034  \n",
       "\n",
       "[2489 rows x 5 columns]"
      ]
     },
     "execution_count": 110,
     "metadata": {},
     "output_type": "execute_result"
    }
   ],
   "source": [
    "dataA_N.insert(loc = 0,\n",
    "          column = 'Wavenumber',\n",
    "          value =  wavelengthA)\n",
    "\n",
    "dataA_N"
   ]
  },
  {
   "cell_type": "markdown",
   "id": "630959eb-4257-48d7-a403-36b15d60deeb",
   "metadata": {
    "user_expressions": []
   },
   "source": [
    "# Plotting"
   ]
  },
  {
   "cell_type": "code",
   "execution_count": null,
   "id": "d2e024c8-15f8-403e-a09e-c8992f22502c",
   "metadata": {},
   "outputs": [],
   "source": []
  },
  {
   "cell_type": "markdown",
   "id": "a3a17285-6cf3-4ebe-8faf-7031bb7ba571",
   "metadata": {},
   "source": [
    "## Export as csv"
   ]
  },
  {
   "cell_type": "code",
   "execution_count": 111,
   "id": "bb1afe56-4498-4dfd-bcb5-20a9aebe3907",
   "metadata": {},
   "outputs": [],
   "source": [
    "dataA_N.to_csv(\"..\\..\\Data\\DATA_PROCESSING\\{}\\Data\\DR3_{}_A.csv\".format(date,date))"
   ]
  },
  {
   "cell_type": "markdown",
   "id": "2cbcd3e9-1088-4a81-b6fb-4d7e94d2a76c",
   "metadata": {},
   "source": [
    "## 3.4 <u>Integration II</u> \n",
    "\n",
    "Purpose here is to integrate the normalised scan so we can have integration value for scans at higher temperature to use as normalisation value for scans deposited at higherrt temperature"
   ]
  },
  {
   "cell_type": "code",
   "execution_count": null,
   "id": "e3a7d076-6525-445e-afe5-5cae5aba8951",
   "metadata": {},
   "outputs": [],
   "source": [
    "#dataA_N"
   ]
  },
  {
   "cell_type": "markdown",
   "id": "3b583a18-6c31-4783-9913-566f0c43f33d",
   "metadata": {},
   "source": [
    "Supress wavenumber"
   ]
  },
  {
   "cell_type": "code",
   "execution_count": null,
   "id": "ca7de24d-92bf-41c0-9eab-2fc450ad9b56",
   "metadata": {},
   "outputs": [],
   "source": [
    "dataA_N = dataA_N.T.iloc[1:].T\n",
    "\n",
    "#dataA_N"
   ]
  },
  {
   "cell_type": "code",
   "execution_count": null,
   "id": "e84bf251-8193-42df-99f9-4875430a9a08",
   "metadata": {},
   "outputs": [],
   "source": [
    "nscan = len(list(dataA_N.columns.values.tolist()))\n",
    "\n",
    "areas = numpy.zeros(nscan)\n",
    "areasBCA2 = numpy.zeros(nscan)\n",
    "\n",
    "times = numpy.zeros(nscan)\n",
    "\n",
    "for iint in range(0, nscan):\n",
    "    \n",
    "    #areas[iint] = integration(iint+1, data, wavelength, 2900, 3900)\n",
    "    areasBCA2[iint] = integration(iint+1, dataA_N, wavelengthA, 2800, 4000)\n",
    "    #times[iint] = 15*iint\n",
    "    "
   ]
  },
  {
   "cell_type": "code",
   "execution_count": null,
   "id": "5dee393e-ccb2-485d-9c9e-b2be0d1e01ee",
   "metadata": {},
   "outputs": [],
   "source": [
    "areasBCA2"
   ]
  },
  {
   "cell_type": "code",
   "execution_count": null,
   "id": "c81d7692-79dc-4785-aeee-750064edbb90",
   "metadata": {},
   "outputs": [],
   "source": [
    "areasBCA2_df = pd.DataFrame({ 'File number': dataA_BC_I.iloc[0,:], 'Int_N_A': areasBCA2[:]})\n",
    "areasBCA2_df = areasBCA2_df.T.iloc[1:].T\n",
    "areasBCA2_df = areasBCA2_df.reset_index()\n",
    "areasBCA2_df['Name'] = areasBCA2_df['index']\n",
    "areasBCA2_df= areasBCA2_df.T.iloc[1:].T"
   ]
  },
  {
   "cell_type": "code",
   "execution_count": null,
   "id": "9e307fc7-5136-49a3-a472-489e78966fa5",
   "metadata": {},
   "outputs": [],
   "source": [
    "#areasBCA2_df"
   ]
  },
  {
   "cell_type": "code",
   "execution_count": null,
   "id": "1d595ab9-4a6f-4ac8-9fa5-4cf9a3c6623f",
   "metadata": {},
   "outputs": [],
   "source": [
    "data_anex_df = pd.merge(data_anex_df, areasBCA2_df, on=\"Name\")"
   ]
  },
  {
   "cell_type": "markdown",
   "id": "586c11c6-7b44-4cee-b641-914807cf3998",
   "metadata": {},
   "source": [
    "### High Temperature deposition\n",
    "\n",
    "For the higher temperature deposited, normalising through the deposition would not allowed a good comparison with the sample deposited at 20K. Hence, we will make an average of the normalised value (from Integration II) at the temperature of interest and use this value as a normalisation factor.<br>\n",
    "\n",
    "We will use a separate notebook to to that that will run separately if need be"
   ]
  },
  {
   "cell_type": "markdown",
   "id": "4b017538-d18a-4c2d-9978-d1e8d80e5743",
   "metadata": {},
   "source": [
    "## Export data_Anex as csv"
   ]
  },
  {
   "cell_type": "code",
   "execution_count": null,
   "id": "49cd7be5-9b25-40b3-889b-045fd4272bc5",
   "metadata": {},
   "outputs": [],
   "source": [
    "data_anex_df.to_csv(\"D:\\DATA-Processing\\PAC\\{}/Samples/{}/Data/DR/{}_data_annex.csv\".format(XP,date,date), index=False)"
   ]
  },
  {
   "cell_type": "markdown",
   "id": "ed1cb6b8-2a77-41b0-b206-b21be69e12cf",
   "metadata": {},
   "source": [
    "***\n",
    "\n",
    "<img style=\"float: right;\" src=\"..\\..\\Docs\\Logo_work_in_progress.svg\" alt=\"logo\" width=\"160px\"/>\n",
    "\n",
    "## About this notebook\n",
    "\n",
    "**Updated On:** 2023-03-15 \n",
    "\n",
    "\n",
    "**Author:** Vincent Deguin, PhD Student.\n",
    "<br>\n",
    " **Contact:** vincent.deguin@open.ac.uk  "
   ]
  },
  {
   "cell_type": "code",
   "execution_count": null,
   "id": "1c1a9c73-6ae4-426b-b264-896315c9af4d",
   "metadata": {},
   "outputs": [],
   "source": []
  }
 ],
 "metadata": {
  "kernelspec": {
   "display_name": "Python 3 (ipykernel)",
   "language": "python",
   "name": "python3"
  },
  "language_info": {
   "codemirror_mode": {
    "name": "ipython",
    "version": 3
   },
   "file_extension": ".py",
   "mimetype": "text/x-python",
   "name": "python",
   "nbconvert_exporter": "python",
   "pygments_lexer": "ipython3",
   "version": "3.9.13"
  }
 },
 "nbformat": 4,
 "nbformat_minor": 5
}
