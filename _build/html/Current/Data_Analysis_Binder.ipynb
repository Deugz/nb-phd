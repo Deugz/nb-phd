{
 "cells": [
  {
   "cell_type": "markdown",
   "metadata": {},
   "source": [
    "# DATA Analysis - Binder version"
   ]
  },
  {
   "cell_type": "markdown",
   "metadata": {},
   "source": [
    "Explain\n",
    "\n",
    "\n",
    "#### Further implementation:\n",
    "\n",
    "- Data to be put in ordo (or Zenodo)"
   ]
  },
  {
   "cell_type": "markdown",
   "metadata": {},
   "source": [
    "#### Libraries\n",
    "\n",
    "- **gdown**: Download a large file from Google Drive\n",
    "- **zenodo_dl**: downloading large Zenodo records which contain many files"
   ]
  },
  {
   "cell_type": "code",
   "execution_count": 1,
   "metadata": {},
   "outputs": [],
   "source": [
    "import numpy \n",
    "import math\n",
    "import matplotlib\n",
    "import matplotlib.pyplot as plt\n",
    "import ipympl \n",
    "from matplotlib import cm\n",
    "import matplotlib.colors as mcolors\n",
    "import pandas as pd\n",
    "from glob import glob\n",
    "from functools import reduce\n",
    "import ipywidgets as widgets\n",
    "from ipywidgets import interact, interactive, fixed, interact_manual, Layout, HBox\n",
    "import re\n",
    "from itertools import cycle\n",
    "import zipfile \n",
    "import zenodo_dl as zdl\n",
    "#import wx\n",
    "#import gdown "
   ]
  },
  {
   "cell_type": "code",
   "execution_count": 2,
   "metadata": {},
   "outputs": [],
   "source": [
    "%matplotlib widget"
   ]
  },
  {
   "cell_type": "code",
   "execution_count": 3,
   "metadata": {},
   "outputs": [],
   "source": [
    "spl = 'ASW'"
   ]
  },
  {
   "cell_type": "markdown",
   "metadata": {},
   "source": [
    "# Data import"
   ]
  },
  {
   "cell_type": "markdown",
   "metadata": {},
   "source": [
    "5 csv that include all the reduced data so far (31-03-2022) are imported as df :\n",
    "\n",
    "- XP_list_test (XP_Ramp_df)\n",
    "- Data_Annex_full (Data_Annex_full_df)\n",
    "- DR1_full (DR1_full_df)\n",
    "- DR2_full (DR2_full_df)\n",
    "- DR3_full (DR3_full_df)"
   ]
  },
  {
   "cell_type": "markdown",
   "metadata": {},
   "source": [
    "### Download  "
   ]
  },
  {
   "cell_type": "markdown",
   "metadata": {},
   "source": [
    "DR2 and DR1 are big files, hence they are stored on google drive and needs to be uploaded within the notebook.\n",
    "\n",
    "- Use Zenodo link to download the data !!!"
   ]
  },
  {
   "cell_type": "code",
   "execution_count": 11,
   "metadata": {},
   "outputs": [],
   "source": [
    "# DR1\n",
    "\n",
    "DR1_full_df = pd.read_csv(\"..\\..\\Data\\DATA_Full\\DR1_Full.csv\")\n",
    "del DR1_full_df['Unnamed: 0']\n",
    "                       \n",
    "# DR2\n",
    "                       \n",
    "DR2_full_df = pd.read_csv(\"..\\..\\Data\\DATA_Full\\DR2_Full_int1.csv\")  \n",
    "del DR2_full_df['Unnamed: 0']\n",
    "\n",
    "# Sample_T_Ref\n",
    "\n",
    "XP_Ramp_df = pd.read_csv(\"..\\..\\Data\\DATA_Full\\Sample_T-Ramp_Final.csv\") "
   ]
  },
  {
   "cell_type": "code",
   "execution_count": 13,
   "metadata": {},
   "outputs": [
    {
     "data": {
      "text/html": [
       "<div>\n",
       "<style scoped>\n",
       "    .dataframe tbody tr th:only-of-type {\n",
       "        vertical-align: middle;\n",
       "    }\n",
       "\n",
       "    .dataframe tbody tr th {\n",
       "        vertical-align: top;\n",
       "    }\n",
       "\n",
       "    .dataframe thead th {\n",
       "        text-align: right;\n",
       "    }\n",
       "</style>\n",
       "<table border=\"1\" class=\"dataframe\">\n",
       "  <thead>\n",
       "    <tr style=\"text-align: right;\">\n",
       "      <th></th>\n",
       "      <th>Wavenumber</th>\n",
       "      <th>ASW_2020_09_15_1</th>\n",
       "      <th>ASW_2020_09_15_2</th>\n",
       "      <th>ASW_2020_09_15_3</th>\n",
       "      <th>ASW_2020_09_15_4</th>\n",
       "      <th>ASW_2020_09_16_1</th>\n",
       "      <th>ASW_2020_09_16_2</th>\n",
       "      <th>ASW_2020_09_16_3</th>\n",
       "      <th>ASW_2020_09_16_4</th>\n",
       "      <th>ASW_2020_09_16_5</th>\n",
       "      <th>...</th>\n",
       "      <th>ASW_2021_07_13_17</th>\n",
       "      <th>ASW_2021_07_13_18</th>\n",
       "      <th>ASW_2021_07_13_19</th>\n",
       "      <th>ASW_2021_07_13_20</th>\n",
       "      <th>ASW_2021_07_13_21</th>\n",
       "      <th>ASW_2021_07_13_22</th>\n",
       "      <th>ASW_2021_07_13_23</th>\n",
       "      <th>ASW_2021_07_13_24</th>\n",
       "      <th>ASW_2021_07_13_25</th>\n",
       "      <th>ASW_2021_07_13_26</th>\n",
       "    </tr>\n",
       "  </thead>\n",
       "  <tbody>\n",
       "    <tr>\n",
       "      <th>0</th>\n",
       "      <td>799.84</td>\n",
       "      <td>0.060549</td>\n",
       "      <td>0.076188</td>\n",
       "      <td>0.071446</td>\n",
       "      <td>0.047759</td>\n",
       "      <td>0.061813</td>\n",
       "      <td>0.062677</td>\n",
       "      <td>0.070377</td>\n",
       "      <td>0.071031</td>\n",
       "      <td>0.073033</td>\n",
       "      <td>...</td>\n",
       "      <td>0.093934</td>\n",
       "      <td>0.093203</td>\n",
       "      <td>0.092399</td>\n",
       "      <td>0.099772</td>\n",
       "      <td>0.096810</td>\n",
       "      <td>0.097544</td>\n",
       "      <td>0.100107</td>\n",
       "      <td>0.103579</td>\n",
       "      <td>0.104936</td>\n",
       "      <td>0.101043</td>\n",
       "    </tr>\n",
       "    <tr>\n",
       "      <th>1</th>\n",
       "      <td>800.33</td>\n",
       "      <td>0.059965</td>\n",
       "      <td>0.074772</td>\n",
       "      <td>0.075044</td>\n",
       "      <td>0.037780</td>\n",
       "      <td>0.059208</td>\n",
       "      <td>0.059777</td>\n",
       "      <td>0.064277</td>\n",
       "      <td>0.064086</td>\n",
       "      <td>0.066281</td>\n",
       "      <td>...</td>\n",
       "      <td>0.083360</td>\n",
       "      <td>0.081969</td>\n",
       "      <td>0.082094</td>\n",
       "      <td>0.088924</td>\n",
       "      <td>0.087240</td>\n",
       "      <td>0.086223</td>\n",
       "      <td>0.089819</td>\n",
       "      <td>0.093463</td>\n",
       "      <td>0.093718</td>\n",
       "      <td>0.099738</td>\n",
       "    </tr>\n",
       "    <tr>\n",
       "      <th>2</th>\n",
       "      <td>800.81</td>\n",
       "      <td>0.059358</td>\n",
       "      <td>0.071323</td>\n",
       "      <td>0.077309</td>\n",
       "      <td>0.027005</td>\n",
       "      <td>0.056651</td>\n",
       "      <td>0.057048</td>\n",
       "      <td>0.058439</td>\n",
       "      <td>0.057722</td>\n",
       "      <td>0.059902</td>\n",
       "      <td>...</td>\n",
       "      <td>0.072232</td>\n",
       "      <td>0.071203</td>\n",
       "      <td>0.071244</td>\n",
       "      <td>0.077594</td>\n",
       "      <td>0.076774</td>\n",
       "      <td>0.074845</td>\n",
       "      <td>0.079243</td>\n",
       "      <td>0.082596</td>\n",
       "      <td>0.082294</td>\n",
       "      <td>0.098120</td>\n",
       "    </tr>\n",
       "    <tr>\n",
       "      <th>3</th>\n",
       "      <td>801.29</td>\n",
       "      <td>0.059458</td>\n",
       "      <td>0.067423</td>\n",
       "      <td>0.074469</td>\n",
       "      <td>0.028824</td>\n",
       "      <td>0.056841</td>\n",
       "      <td>0.057890</td>\n",
       "      <td>0.060087</td>\n",
       "      <td>0.059701</td>\n",
       "      <td>0.061729</td>\n",
       "      <td>...</td>\n",
       "      <td>0.070915</td>\n",
       "      <td>0.071538</td>\n",
       "      <td>0.070631</td>\n",
       "      <td>0.075896</td>\n",
       "      <td>0.075466</td>\n",
       "      <td>0.074291</td>\n",
       "      <td>0.078632</td>\n",
       "      <td>0.081942</td>\n",
       "      <td>0.081429</td>\n",
       "      <td>0.096272</td>\n",
       "    </tr>\n",
       "    <tr>\n",
       "      <th>4</th>\n",
       "      <td>801.77</td>\n",
       "      <td>0.059095</td>\n",
       "      <td>0.065795</td>\n",
       "      <td>0.072036</td>\n",
       "      <td>0.031592</td>\n",
       "      <td>0.057564</td>\n",
       "      <td>0.059094</td>\n",
       "      <td>0.061732</td>\n",
       "      <td>0.062012</td>\n",
       "      <td>0.063394</td>\n",
       "      <td>...</td>\n",
       "      <td>0.075783</td>\n",
       "      <td>0.076050</td>\n",
       "      <td>0.075375</td>\n",
       "      <td>0.080245</td>\n",
       "      <td>0.080174</td>\n",
       "      <td>0.079724</td>\n",
       "      <td>0.083327</td>\n",
       "      <td>0.086687</td>\n",
       "      <td>0.086468</td>\n",
       "      <td>0.096067</td>\n",
       "    </tr>\n",
       "    <tr>\n",
       "      <th>...</th>\n",
       "      <td>...</td>\n",
       "      <td>...</td>\n",
       "      <td>...</td>\n",
       "      <td>...</td>\n",
       "      <td>...</td>\n",
       "      <td>...</td>\n",
       "      <td>...</td>\n",
       "      <td>...</td>\n",
       "      <td>...</td>\n",
       "      <td>...</td>\n",
       "      <td>...</td>\n",
       "      <td>...</td>\n",
       "      <td>...</td>\n",
       "      <td>...</td>\n",
       "      <td>...</td>\n",
       "      <td>...</td>\n",
       "      <td>...</td>\n",
       "      <td>...</td>\n",
       "      <td>...</td>\n",
       "      <td>...</td>\n",
       "      <td>...</td>\n",
       "    </tr>\n",
       "    <tr>\n",
       "      <th>6634</th>\n",
       "      <td>3998.26</td>\n",
       "      <td>0.000151</td>\n",
       "      <td>0.000688</td>\n",
       "      <td>0.000876</td>\n",
       "      <td>0.000556</td>\n",
       "      <td>0.000884</td>\n",
       "      <td>0.000916</td>\n",
       "      <td>0.000533</td>\n",
       "      <td>0.000411</td>\n",
       "      <td>0.000489</td>\n",
       "      <td>...</td>\n",
       "      <td>0.001156</td>\n",
       "      <td>0.001089</td>\n",
       "      <td>0.001162</td>\n",
       "      <td>0.001180</td>\n",
       "      <td>0.001225</td>\n",
       "      <td>0.001234</td>\n",
       "      <td>0.001153</td>\n",
       "      <td>0.001119</td>\n",
       "      <td>0.001150</td>\n",
       "      <td>0.001113</td>\n",
       "    </tr>\n",
       "    <tr>\n",
       "      <th>6635</th>\n",
       "      <td>3998.74</td>\n",
       "      <td>0.000183</td>\n",
       "      <td>0.000399</td>\n",
       "      <td>0.000554</td>\n",
       "      <td>0.000626</td>\n",
       "      <td>0.000476</td>\n",
       "      <td>0.000507</td>\n",
       "      <td>0.000442</td>\n",
       "      <td>0.000392</td>\n",
       "      <td>0.000458</td>\n",
       "      <td>...</td>\n",
       "      <td>0.001186</td>\n",
       "      <td>0.001108</td>\n",
       "      <td>0.001187</td>\n",
       "      <td>0.001181</td>\n",
       "      <td>0.001220</td>\n",
       "      <td>0.001265</td>\n",
       "      <td>0.001183</td>\n",
       "      <td>0.001146</td>\n",
       "      <td>0.001162</td>\n",
       "      <td>0.001189</td>\n",
       "    </tr>\n",
       "    <tr>\n",
       "      <th>6636</th>\n",
       "      <td>3999.22</td>\n",
       "      <td>0.000101</td>\n",
       "      <td>0.000000</td>\n",
       "      <td>0.000000</td>\n",
       "      <td>0.000436</td>\n",
       "      <td>0.000000</td>\n",
       "      <td>0.000000</td>\n",
       "      <td>0.000000</td>\n",
       "      <td>0.000039</td>\n",
       "      <td>0.000088</td>\n",
       "      <td>...</td>\n",
       "      <td>0.001247</td>\n",
       "      <td>0.001184</td>\n",
       "      <td>0.001280</td>\n",
       "      <td>0.001206</td>\n",
       "      <td>0.001251</td>\n",
       "      <td>0.001322</td>\n",
       "      <td>0.001264</td>\n",
       "      <td>0.001229</td>\n",
       "      <td>0.001242</td>\n",
       "      <td>0.001314</td>\n",
       "    </tr>\n",
       "    <tr>\n",
       "      <th>6637</th>\n",
       "      <td>3999.70</td>\n",
       "      <td>0.000105</td>\n",
       "      <td>0.000750</td>\n",
       "      <td>0.000746</td>\n",
       "      <td>0.000190</td>\n",
       "      <td>0.000703</td>\n",
       "      <td>0.000696</td>\n",
       "      <td>0.000560</td>\n",
       "      <td>0.000518</td>\n",
       "      <td>0.000532</td>\n",
       "      <td>...</td>\n",
       "      <td>0.000616</td>\n",
       "      <td>0.000588</td>\n",
       "      <td>0.000641</td>\n",
       "      <td>0.000596</td>\n",
       "      <td>0.000628</td>\n",
       "      <td>0.000660</td>\n",
       "      <td>0.000640</td>\n",
       "      <td>0.000611</td>\n",
       "      <td>0.000625</td>\n",
       "      <td>0.000614</td>\n",
       "    </tr>\n",
       "    <tr>\n",
       "      <th>6638</th>\n",
       "      <td>4000.18</td>\n",
       "      <td>0.000120</td>\n",
       "      <td>0.001481</td>\n",
       "      <td>0.001575</td>\n",
       "      <td>0.000033</td>\n",
       "      <td>0.001306</td>\n",
       "      <td>0.001295</td>\n",
       "      <td>0.001154</td>\n",
       "      <td>0.001045</td>\n",
       "      <td>0.001017</td>\n",
       "      <td>...</td>\n",
       "      <td>0.000000</td>\n",
       "      <td>0.000000</td>\n",
       "      <td>0.000000</td>\n",
       "      <td>0.000000</td>\n",
       "      <td>0.000000</td>\n",
       "      <td>0.000000</td>\n",
       "      <td>0.000000</td>\n",
       "      <td>0.000000</td>\n",
       "      <td>0.000000</td>\n",
       "      <td>0.000000</td>\n",
       "    </tr>\n",
       "  </tbody>\n",
       "</table>\n",
       "<p>6639 rows × 2539 columns</p>\n",
       "</div>"
      ],
      "text/plain": [
       "      Wavenumber  ASW_2020_09_15_1  ASW_2020_09_15_2  ASW_2020_09_15_3  \\\n",
       "0         799.84          0.060549          0.076188          0.071446   \n",
       "1         800.33          0.059965          0.074772          0.075044   \n",
       "2         800.81          0.059358          0.071323          0.077309   \n",
       "3         801.29          0.059458          0.067423          0.074469   \n",
       "4         801.77          0.059095          0.065795          0.072036   \n",
       "...          ...               ...               ...               ...   \n",
       "6634     3998.26          0.000151          0.000688          0.000876   \n",
       "6635     3998.74          0.000183          0.000399          0.000554   \n",
       "6636     3999.22          0.000101          0.000000          0.000000   \n",
       "6637     3999.70          0.000105          0.000750          0.000746   \n",
       "6638     4000.18          0.000120          0.001481          0.001575   \n",
       "\n",
       "      ASW_2020_09_15_4  ASW_2020_09_16_1  ASW_2020_09_16_2  ASW_2020_09_16_3  \\\n",
       "0             0.047759          0.061813          0.062677          0.070377   \n",
       "1             0.037780          0.059208          0.059777          0.064277   \n",
       "2             0.027005          0.056651          0.057048          0.058439   \n",
       "3             0.028824          0.056841          0.057890          0.060087   \n",
       "4             0.031592          0.057564          0.059094          0.061732   \n",
       "...                ...               ...               ...               ...   \n",
       "6634          0.000556          0.000884          0.000916          0.000533   \n",
       "6635          0.000626          0.000476          0.000507          0.000442   \n",
       "6636          0.000436          0.000000          0.000000          0.000000   \n",
       "6637          0.000190          0.000703          0.000696          0.000560   \n",
       "6638          0.000033          0.001306          0.001295          0.001154   \n",
       "\n",
       "      ASW_2020_09_16_4  ASW_2020_09_16_5  ...  ASW_2021_07_13_17  \\\n",
       "0             0.071031          0.073033  ...           0.093934   \n",
       "1             0.064086          0.066281  ...           0.083360   \n",
       "2             0.057722          0.059902  ...           0.072232   \n",
       "3             0.059701          0.061729  ...           0.070915   \n",
       "4             0.062012          0.063394  ...           0.075783   \n",
       "...                ...               ...  ...                ...   \n",
       "6634          0.000411          0.000489  ...           0.001156   \n",
       "6635          0.000392          0.000458  ...           0.001186   \n",
       "6636          0.000039          0.000088  ...           0.001247   \n",
       "6637          0.000518          0.000532  ...           0.000616   \n",
       "6638          0.001045          0.001017  ...           0.000000   \n",
       "\n",
       "      ASW_2021_07_13_18  ASW_2021_07_13_19  ASW_2021_07_13_20  \\\n",
       "0              0.093203           0.092399           0.099772   \n",
       "1              0.081969           0.082094           0.088924   \n",
       "2              0.071203           0.071244           0.077594   \n",
       "3              0.071538           0.070631           0.075896   \n",
       "4              0.076050           0.075375           0.080245   \n",
       "...                 ...                ...                ...   \n",
       "6634           0.001089           0.001162           0.001180   \n",
       "6635           0.001108           0.001187           0.001181   \n",
       "6636           0.001184           0.001280           0.001206   \n",
       "6637           0.000588           0.000641           0.000596   \n",
       "6638           0.000000           0.000000           0.000000   \n",
       "\n",
       "      ASW_2021_07_13_21  ASW_2021_07_13_22  ASW_2021_07_13_23  \\\n",
       "0              0.096810           0.097544           0.100107   \n",
       "1              0.087240           0.086223           0.089819   \n",
       "2              0.076774           0.074845           0.079243   \n",
       "3              0.075466           0.074291           0.078632   \n",
       "4              0.080174           0.079724           0.083327   \n",
       "...                 ...                ...                ...   \n",
       "6634           0.001225           0.001234           0.001153   \n",
       "6635           0.001220           0.001265           0.001183   \n",
       "6636           0.001251           0.001322           0.001264   \n",
       "6637           0.000628           0.000660           0.000640   \n",
       "6638           0.000000           0.000000           0.000000   \n",
       "\n",
       "      ASW_2021_07_13_24  ASW_2021_07_13_25  ASW_2021_07_13_26  \n",
       "0              0.103579           0.104936           0.101043  \n",
       "1              0.093463           0.093718           0.099738  \n",
       "2              0.082596           0.082294           0.098120  \n",
       "3              0.081942           0.081429           0.096272  \n",
       "4              0.086687           0.086468           0.096067  \n",
       "...                 ...                ...                ...  \n",
       "6634           0.001119           0.001150           0.001113  \n",
       "6635           0.001146           0.001162           0.001189  \n",
       "6636           0.001229           0.001242           0.001314  \n",
       "6637           0.000611           0.000625           0.000614  \n",
       "6638           0.000000           0.000000           0.000000  \n",
       "\n",
       "[6639 rows x 2539 columns]"
      ]
     },
     "execution_count": 13,
     "metadata": {},
     "output_type": "execute_result"
    }
   ],
   "source": [
    "DR2_full_df"
   ]
  },
  {
   "cell_type": "markdown",
   "metadata": {},
   "source": [
    "## Data frame cleaning"
   ]
  },
  {
   "cell_type": "code",
   "execution_count": 14,
   "metadata": {},
   "outputs": [],
   "source": [
    "XP_Ramp_df_I = XP_Ramp_df.set_index('Date')"
   ]
  },
  {
   "cell_type": "code",
   "execution_count": null,
   "metadata": {},
   "outputs": [],
   "source": []
  },
  {
   "cell_type": "markdown",
   "metadata": {},
   "source": [
    "### Data-frame construction"
   ]
  },
  {
   "cell_type": "code",
   "execution_count": 15,
   "metadata": {},
   "outputs": [],
   "source": [
    "# XP-Ramp\n",
    "\n",
    "#XP_Ramp_df = pd.read_csv('XP_list_test.csv')\n",
    "#XP_Ramp_df_I = XP_Ramp_df.set_index('Date')\n",
    "\n",
    "#Data_Annex\n",
    "\n",
    "#Data_Annex_full_df1 = pd.read_csv('Data_Annex_full.csv')\n",
    "#Data_Annex_full_df = Data_Annex_full_df1.set_index('Name')\n",
    "#del Data_Annex_full_df['Unnamed: 0']\n",
    "\n",
    "#DR1\n",
    "\n",
    "#DR1_full_df = pd.read_csv('DR1_full.csv')\n",
    "\n",
    "#DR2\n",
    "\n",
    "#DR2_full_df = pd.read_csv('DR2_full.csv')\n",
    "\n",
    "#DR3\n",
    "\n",
    "#DR3_full_df = pd.read_csv('DR3_full.csv')"
   ]
  },
  {
   "cell_type": "markdown",
   "metadata": {},
   "source": [
    "### Sanity Check"
   ]
  },
  {
   "cell_type": "code",
   "execution_count": 16,
   "metadata": {},
   "outputs": [],
   "source": [
    "#Data_Annex_full_df"
   ]
  },
  {
   "cell_type": "markdown",
   "metadata": {},
   "source": [
    "# Scan selection"
   ]
  },
  {
   "cell_type": "markdown",
   "metadata": {},
   "source": [
    "## Parameter list"
   ]
  },
  {
   "cell_type": "code",
   "execution_count": 18,
   "metadata": {},
   "outputs": [],
   "source": [
    "Temp = XP_Ramp_df_I.columns[1:].values.tolist()\n",
    "Date = XP_Ramp_df_I.index.values.tolist()\n",
    "Sample = XP_Ramp_df_I['Sample'].values.tolist()\n",
    "Reduc = ['DR2','DR3']\n",
    "#Scans = ['Single','Multi']\n",
    "#Param = list(Data_Annex_full_df.columns.values)"
   ]
  },
  {
   "cell_type": "markdown",
   "metadata": {},
   "source": [
    "## Widget selection"
   ]
  },
  {
   "cell_type": "markdown",
   "metadata": {},
   "source": [
    "Some stuffs"
   ]
  },
  {
   "cell_type": "code",
   "execution_count": 19,
   "metadata": {},
   "outputs": [
    {
     "data": {
      "application/vnd.jupyter.widget-view+json": {
       "model_id": "bbc11c3271484583918804f1bfe3c60e",
       "version_major": 2,
       "version_minor": 0
      },
      "text/plain": [
       "HBox(children=(SelectMultiple(description='Date', options=('2020_09_15', '2020_09_16', '2020_09_17', '2020_09_…"
      ]
     },
     "metadata": {},
     "output_type": "display_data"
    }
   ],
   "source": [
    "#Create Dropdown Box Widget\n",
    "\n",
    "#wR = widgets.SelectMultiple(\n",
    "#    options= Reduc,\n",
    "#    description='Reduction',\n",
    "#    disabled=False,\n",
    "#)\n",
    "\n",
    "wT = widgets.SelectMultiple(\n",
    "    options= Temp,\n",
    "    description='Temperature:',\n",
    "    disabled=False,\n",
    ")\n",
    "\n",
    "wD = widgets.SelectMultiple(\n",
    "    options= Date,\n",
    "    description='Date',\n",
    "    disabled=False,\n",
    ")\n",
    "\n",
    "#wS = widgets.SelectMultiple(\n",
    "#    options= Sample,\n",
    "#    description='Sample',\n",
    "#    disabled=False,\n",
    "#)\n",
    "\n",
    "wSc = widgets.Checkbox(\n",
    "    value=False,\n",
    "    description='Iso',\n",
    "    disabled=False,\n",
    "    indent=False\n",
    ")\n",
    "\n",
    "\n",
    "#widgets.HBox([wD,wT])\n",
    "\n",
    "h1 = widgets.HBox(children=[wD,wT,wSc])\n",
    "\n",
    "\n",
    "#display(wT,wD)\n",
    "display(h1)"
   ]
  },
  {
   "cell_type": "markdown",
   "metadata": {},
   "source": [
    "### Confirm "
   ]
  },
  {
   "cell_type": "markdown",
   "metadata": {},
   "source": [
    "Click on the cell below to confirm the selected scans"
   ]
  },
  {
   "cell_type": "code",
   "execution_count": 40,
   "metadata": {},
   "outputs": [],
   "source": [
    "wT_L = list(wT.value)\n",
    "wD_L = list(wD.value)\n",
    "wSc_B = bool(wSc.value)"
   ]
  },
  {
   "cell_type": "code",
   "execution_count": 41,
   "metadata": {},
   "outputs": [
    {
     "data": {
      "text/plain": [
       "False"
      ]
     },
     "execution_count": 41,
     "metadata": {},
     "output_type": "execute_result"
    }
   ],
   "source": [
    "wSc_B"
   ]
  },
  {
   "cell_type": "markdown",
   "metadata": {},
   "source": [
    "## Sample name construction"
   ]
  },
  {
   "cell_type": "markdown",
   "metadata": {},
   "source": [
    "Can I create an intermediate step to select only one number from the many per temperature when I don`t want to plot the isotherms\n",
    "- create input button (boolean that allow to choose between 1 scan or isotherm)"
   ]
  },
  {
   "cell_type": "code",
   "execution_count": 42,
   "metadata": {},
   "outputs": [
    {
     "name": "stdout",
     "output_type": "stream",
     "text": [
      "[1]\n",
      "<class 'str'>\n",
      "['1']\n",
      "['1']\n",
      "[1, 2]\n",
      "<class 'str'>\n",
      "['1', '2']\n",
      "['1', '2']\n",
      "[1, 2]\n",
      "<class 'str'>\n",
      "['1', '2']\n",
      "['1', '2']\n"
     ]
    }
   ],
   "source": [
    "#date = ['2020_09_16','2020_09_17']\n",
    "#temp = ['60K','80K']\n",
    "#spl = 'ASW'\n",
    "\n",
    "z = []\n",
    "value_1 = []\n",
    "value_2 = []\n",
    "\n",
    "for x in wD_L:\n",
    "    for y in wT_L:\n",
    "\n",
    "        value = str(XP_Ramp_df_I.loc[XP_Ramp_df_I.index == x, y].values[0])\n",
    "        print(value)\n",
    "        print(type(value))\n",
    "        value_1 = re.findall(r\"[-+]?\\d*\\.\\d+|\\d+\", value)\n",
    "        print(value_1)\n",
    "        \n",
    "        #Isotherm (all values but first one - Warm-up scan)\n",
    "        #value_2 = value_1[1:]   #here we selct all but first value (warm-up)\n",
    "        \n",
    "        #Multiple scans (T range) - (Only the last value)\n",
    "        #value_2 = value_1[-1:]  #here we selct only the last value of the list\n",
    "        \n",
    "        print(value_1)\n",
    "        for items in value_1:\n",
    "        \n",
    "            to_plot = str('{}_{}_{}'.format(spl, x, items))\n",
    "            z.append({\n",
    "                \n",
    "               'Name' : str(to_plot),\n",
    "               'Temp' : y,\n",
    "               'Date' : x, \n",
    "                \n",
    "          \n",
    "         \n",
    "         })\n",
    "\n",
    "dat= pd.DataFrame(z)\n",
    "data_df = dat.set_index('Name')\n",
    "            "
   ]
  },
  {
   "cell_type": "markdown",
   "metadata": {},
   "source": [
    "## Plot pre-formating"
   ]
  },
  {
   "cell_type": "markdown",
   "metadata": {},
   "source": [
    "### Temperature"
   ]
  },
  {
   "cell_type": "code",
   "execution_count": 43,
   "metadata": {
    "tags": [
     "hide-input"
    ]
   },
   "outputs": [],
   "source": [
    "def Temp_color(row):\n",
    "    if row['Temp'] == '20':\n",
    "        return int(1)\n",
    "    elif row['Temp'] == '30':\n",
    "        return int(2) \n",
    "    elif row['Temp'] == '40':\n",
    "        return int(3)\n",
    "    elif row['Temp'] == '50':\n",
    "        return int(4)\n",
    "    elif row['Temp'] == '60':\n",
    "        return int(5)\n",
    "    elif row['Temp'] == '70':\n",
    "        return int(6)\n",
    "    elif row['Temp'] == '80':\n",
    "        return int(7)\n",
    "    elif row['Temp'] == '90':\n",
    "        return int(8)\n",
    "    elif row['Temp'] == '100':\n",
    "        return int(9)\n",
    "    elif row['Temp'] == '110':\n",
    "        return int(10)\n",
    "    elif row['Temp'] == '120':\n",
    "        return int(11)\n",
    "    elif row['Temp'] == '125':\n",
    "        return int(12)\n",
    "    elif row['Temp'] == '130':\n",
    "        return int(13)\n",
    "    elif row['Temp'] == '132':\n",
    "        return int(14)\n",
    "    elif row['Temp'] == '134':\n",
    "        return int(15)\n",
    "    elif row['Temp'] == '135':\n",
    "        return int(16)\n",
    "    elif row['Temp'] == '136':\n",
    "        return int(17)\n",
    "    elif row['Temp'] == '137':\n",
    "        return int(18)\n",
    "    elif row['Temp'] == '138':\n",
    "        return int(19)\n",
    "    elif row['Temp'] == '140':\n",
    "        return int(20)\n",
    "    elif row['Temp'] == '145':\n",
    "        return int(21)\n",
    "    elif row['Temp'] == '150':\n",
    "        return int(21)\n",
    "    elif row['Temp'] == '155':\n",
    "        return int(22)\n",
    "    elif row['Temp'] == '160':\n",
    "        return int(23)\n",
    "    elif row['Temp'] == '180':\n",
    "        return int(24)\n",
    "    elif row['Temp'] == '200':\n",
    "        return int(25)"
   ]
  },
  {
   "cell_type": "code",
   "execution_count": 44,
   "metadata": {},
   "outputs": [],
   "source": [
    "data_df['Colour'] = data_df.apply (lambda row: Temp_color(row), axis=1)"
   ]
  },
  {
   "cell_type": "markdown",
   "metadata": {},
   "source": [
    "### Linestyle (date)"
   ]
  },
  {
   "cell_type": "code",
   "execution_count": 45,
   "metadata": {},
   "outputs": [],
   "source": [
    "linestyle = ['-',':','--','-.']"
   ]
  },
  {
   "cell_type": "code",
   "execution_count": 46,
   "metadata": {},
   "outputs": [],
   "source": [
    "LD = dict(zip(wD_L, linestyle))\n",
    "\n",
    "data_df['linestyle'] = data_df['Date'].map(LD)"
   ]
  },
  {
   "cell_type": "code",
   "execution_count": 47,
   "metadata": {},
   "outputs": [
    {
     "data": {
      "text/plain": [
       "{'2020_09_15': '-', '2020_09_16': ':', '2020_09_28': '--'}"
      ]
     },
     "execution_count": 47,
     "metadata": {},
     "output_type": "execute_result"
    }
   ],
   "source": [
    "LD"
   ]
  },
  {
   "cell_type": "markdown",
   "metadata": {},
   "source": [
    "### Sanity Check"
   ]
  },
  {
   "cell_type": "code",
   "execution_count": 48,
   "metadata": {},
   "outputs": [
    {
     "data": {
      "text/html": [
       "<div>\n",
       "<style scoped>\n",
       "    .dataframe tbody tr th:only-of-type {\n",
       "        vertical-align: middle;\n",
       "    }\n",
       "\n",
       "    .dataframe tbody tr th {\n",
       "        vertical-align: top;\n",
       "    }\n",
       "\n",
       "    .dataframe thead th {\n",
       "        text-align: right;\n",
       "    }\n",
       "</style>\n",
       "<table border=\"1\" class=\"dataframe\">\n",
       "  <thead>\n",
       "    <tr style=\"text-align: right;\">\n",
       "      <th></th>\n",
       "      <th>Temp</th>\n",
       "      <th>Date</th>\n",
       "      <th>Colour</th>\n",
       "      <th>linestyle</th>\n",
       "    </tr>\n",
       "    <tr>\n",
       "      <th>Name</th>\n",
       "      <th></th>\n",
       "      <th></th>\n",
       "      <th></th>\n",
       "      <th></th>\n",
       "    </tr>\n",
       "  </thead>\n",
       "  <tbody>\n",
       "    <tr>\n",
       "      <th>ASW_2020_09_15_1</th>\n",
       "      <td>20</td>\n",
       "      <td>2020_09_15</td>\n",
       "      <td>1</td>\n",
       "      <td>-</td>\n",
       "    </tr>\n",
       "    <tr>\n",
       "      <th>ASW_2020_09_16_1</th>\n",
       "      <td>20</td>\n",
       "      <td>2020_09_16</td>\n",
       "      <td>1</td>\n",
       "      <td>:</td>\n",
       "    </tr>\n",
       "    <tr>\n",
       "      <th>ASW_2020_09_16_2</th>\n",
       "      <td>20</td>\n",
       "      <td>2020_09_16</td>\n",
       "      <td>1</td>\n",
       "      <td>:</td>\n",
       "    </tr>\n",
       "    <tr>\n",
       "      <th>ASW_2020_09_28_1</th>\n",
       "      <td>20</td>\n",
       "      <td>2020_09_28</td>\n",
       "      <td>1</td>\n",
       "      <td>--</td>\n",
       "    </tr>\n",
       "    <tr>\n",
       "      <th>ASW_2020_09_28_2</th>\n",
       "      <td>20</td>\n",
       "      <td>2020_09_28</td>\n",
       "      <td>1</td>\n",
       "      <td>--</td>\n",
       "    </tr>\n",
       "  </tbody>\n",
       "</table>\n",
       "</div>"
      ],
      "text/plain": [
       "                 Temp        Date  Colour linestyle\n",
       "Name                                               \n",
       "ASW_2020_09_15_1   20  2020_09_15       1         -\n",
       "ASW_2020_09_16_1   20  2020_09_16       1         :\n",
       "ASW_2020_09_16_2   20  2020_09_16       1         :\n",
       "ASW_2020_09_28_1   20  2020_09_28       1        --\n",
       "ASW_2020_09_28_2   20  2020_09_28       1        --"
      ]
     },
     "execution_count": 48,
     "metadata": {},
     "output_type": "execute_result"
    }
   ],
   "source": [
    "data_df"
   ]
  },
  {
   "cell_type": "markdown",
   "metadata": {},
   "source": [
    "# Plotting"
   ]
  },
  {
   "cell_type": "markdown",
   "metadata": {},
   "source": [
    "## Scans"
   ]
  },
  {
   "cell_type": "markdown",
   "metadata": {},
   "source": [
    "### DR2"
   ]
  },
  {
   "cell_type": "code",
   "execution_count": 49,
   "metadata": {},
   "outputs": [
    {
     "name": "stdout",
     "output_type": "stream",
     "text": [
      "5\n"
     ]
    },
    {
     "data": {
      "application/vnd.jupyter.widget-view+json": {
       "model_id": "59bdfb3a956a487dacb2ce5cad85841d",
       "version_major": 2,
       "version_minor": 0
      },
      "image/png": "[encoded data removed]",
      "text/html": [
       "\n",
       "            <div style=\"display: inline-block;\">\n",
       "                <div class=\"jupyter-widgets widget-label\" style=\"text-align: center;\">\n",
       "                    Figure\n",
       "                </div>\n",
       "                <img src='data:image/png;base64,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' width=1000.0/>\n",
       "            </div>\n",
       "        "
      ],
      "text/plain": [
       "Canvas(toolbar=Toolbar(toolitems=[('Home', 'Reset original view', 'home', 'home'), ('Back', 'Back to previous …"
      ]
     },
     "metadata": {},
     "output_type": "display_data"
    }
   ],
   "source": [
    "nscan = len(list(data_df['Date'].values.tolist()))\n",
    "\n",
    "print(nscan)\n",
    "\n",
    "fig, ax= plt.subplots(figsize=(10,10))\n",
    "\n",
    "normalize = mcolors.Normalize(vmin=20, vmax=200)\n",
    "colormap = cm.jet\n",
    "\n",
    "for i in dat['Name']:\n",
    "    \n",
    "\n",
    "    x = DR2_full_df.Wavenumber\n",
    "    y = DR2_full_df['{}'.format(i)]\n",
    "    \n",
    "    plt.plot(x,y, label=\"{}_{}\".format(str(data_df.loc[i]['Date']), str(data_df.loc[i]['Temp'])), color=colormap(normalize(int(data_df.loc[i]['Temp']))), linestyle=(data_df.loc[i]['linestyle'])) \n",
    "\n",
    "\n",
    "plt.title('DR2')\n",
    "plt.axis([3800,2800,0,0.50])\n",
    "plt.xlabel('Wavenumber (cm-1)').set_fontsize(13)\n",
    "plt.ylabel('Absorbance').set_fontsize(13)\n",
    "#ax = fig.gca()\n",
    "plt.grid()\n",
    "plt.legend()\n",
    "\n",
    "scalarmappaple = cm.ScalarMappable(norm=normalize, cmap=colormap)\n",
    "scalarmappaple.set_array(nscan)\n",
    "plt.colorbar(scalarmappaple)\n",
    "\n",
    "\n",
    "#plt.savefig('D:\\PhD-WS\\Projects\\PAC\\XP_1-1\\DATA\\{0}\\Plots\\DR1\\DR1_{0}_All_scans.png'.format(date))\n",
    "\n",
    "plt.show()"
   ]
  },
  {
   "cell_type": "markdown",
   "metadata": {},
   "source": [
    "### DR1"
   ]
  },
  {
   "cell_type": "markdown",
   "metadata": {},
   "source": [
    "Why:\n",
    "- Compare the DR2 and DR1 to see if the difference observed arise from the reduction process."
   ]
  },
  {
   "cell_type": "code",
   "execution_count": null,
   "metadata": {},
   "outputs": [],
   "source": [
    "nscan = len(list(data_df['Date'].values.tolist()))\n",
    "\n",
    "print(nscan)\n",
    "\n",
    "fig, ax= plt.subplots(figsize=(10,10))\n",
    "\n",
    "normalize = mcolors.Normalize(vmin=20, vmax=200)\n",
    "colormap = cm.jet\n",
    "\n",
    "for i in dat['Name']:\n",
    "    \n",
    "\n",
    "    x = DR1_full_df.Wavenumber\n",
    "    y = DR1_full_df['{}'.format(i)]\n",
    "    \n",
    "    plt.plot(x,y, label=\"{}_{}\".format(str(data_df.loc[i]['Date']), str(data_df.loc[i]['Temp'])), color=colormap(normalize(int(data_df.loc[i]['Temp']))), linestyle=(data_df.loc[i]['linestyle'])) \n",
    "\n",
    "\n",
    "plt.title('DR1')\n",
    "plt.axis([3800,2800,-0.2,0.6])\n",
    "plt.xlabel('Wavenumber (cm-1)').set_fontsize(13)\n",
    "plt.ylabel('Absorbance').set_fontsize(13)\n",
    "#ax = fig.gca()\n",
    "plt.grid()\n",
    "plt.legend()\n",
    "\n",
    "scalarmappaple = cm.ScalarMappable(norm=normalize, cmap=colormap)\n",
    "scalarmappaple.set_array(nscan)\n",
    "plt.colorbar(scalarmappaple)\n",
    "\n",
    "\n",
    "#plt.savefig('D:\\PhD-WS\\Projects\\PAC\\XP_1-1\\DATA\\{0}\\Plots\\DR1\\DR1_{0}_All_scans.png'.format(date))\n",
    "\n",
    "plt.show()"
   ]
  },
  {
   "cell_type": "markdown",
   "metadata": {},
   "source": [
    "### DR3\n",
    "\n",
    "Not available for now"
   ]
  },
  {
   "cell_type": "code",
   "execution_count": null,
   "metadata": {},
   "outputs": [],
   "source": [
    "nscan = len(list(data_df['Date'].values.tolist()))\n",
    "\n",
    "print(nscan)\n",
    "\n",
    "fig, ax= plt.subplots(figsize=(12,10))\n",
    "\n",
    "normalize = mcolors.Normalize(vmin=20, vmax=200)\n",
    "colormap = cm.jet\n",
    "\n",
    "for i in dat['Name']:\n",
    "    \n",
    "#`DR3\n",
    "\n",
    "    x = DR3_full_df.Wavenumber\n",
    "    y = DR3_full_df['{}'.format(i)]\n",
    "    \n",
    "    plt.plot(x,y, label=\"{}_{}\".format(str(data_df.loc[i]['Date']), str(data_df.loc[i]['Temp'])), color=colormap(normalize(int(data_df.loc[i]['Temp']))), linestyle=(data_df.loc[i]['linestyle'])) \n",
    "\n",
    "\n",
    "plt.title('DR3 ')\n",
    "plt.axis([3800,2800,0,0.45])\n",
    "plt.xlabel('Wavenumber (cm-1)').set_fontsize(13)\n",
    "plt.ylabel('Absorbance').set_fontsize(13)\n",
    "#ax = fig.gca()\n",
    "plt.grid()\n",
    "plt.legend()\n",
    "\n",
    "scalarmappaple = cm.ScalarMappable(norm=normalize, cmap=colormap)\n",
    "scalarmappaple.set_array(nscan)\n",
    "plt.colorbar(scalarmappaple)\n",
    "\n",
    "\n",
    "#plt.savefig('D:\\PhD-WS\\Projects\\PAC\\XP_1-1\\DATA\\{0}\\Plots\\DR1\\DR1_{0}_All_scans.png'.format(date))\n",
    "\n",
    "plt.show()"
   ]
  },
  {
   "cell_type": "markdown",
   "metadata": {},
   "source": [
    "## Data Annex"
   ]
  },
  {
   "cell_type": "markdown",
   "metadata": {},
   "source": [
    "## Plotting"
   ]
  },
  {
   "cell_type": "markdown",
   "metadata": {},
   "source": [
    "Use interact to play with the data I plot"
   ]
  },
  {
   "cell_type": "code",
   "execution_count": null,
   "metadata": {},
   "outputs": [],
   "source": [
    "wP = widgets.SelectMultiple(\n",
    "    options= Param,\n",
    "    description='Parameters',\n",
    "    disabled=False,\n",
    ")\n",
    "\n",
    "display(wP)\n"
   ]
  },
  {
   "cell_type": "code",
   "execution_count": null,
   "metadata": {},
   "outputs": [],
   "source": [
    "wP_L = list(wP.value)"
   ]
  },
  {
   "cell_type": "code",
   "execution_count": null,
   "metadata": {},
   "outputs": [],
   "source": [
    "# Widget selection\n",
    "\n",
    "\n",
    "\n",
    "#interact(wP = widgets.SelectMultiple(\n",
    "#    options= Param,\n",
    "#    description='Parameters',\n",
    "#    disabled=False,\n",
    "#));\n",
    "\n",
    "\n",
    "\n",
    "\n",
    "# Figure\n",
    "\n",
    "fig, ax= plt.subplots(figsize=(10,10))\n",
    "\n",
    "normalize = mcolors.Normalize(vmin=20, vmax=200)\n",
    "colormap = cm.jet\n",
    "\n",
    "for i in dat['Name']:\n",
    "    for j in wP_L:\n",
    "\n",
    "    #print(i)\n",
    "    #print(j)\n",
    "        \n",
    "        x = Data_Annex_full_df[('{}'.format(j))].loc[('{}'.format(i))]\n",
    "        #y = Data_Annex_full_df['{}'.format(j)]\n",
    "        #y = Data_Annex_full_df['{}'.format(j)].loc[Data_Annex_full_df.index == ('{}'.format(i))]\n",
    "        #y = Data_Annex_full_df.loc[(Data_Annex_full_df['{}'.format(j)])] & [(Data_Annex_full_df['column_name'] == x)]\n",
    "        #print(x,y)\n",
    "        #print(i)    \n",
    "        #print(x)\n",
    "    \n",
    "        \n",
    "\n",
    "        plt.plot(i,x, '+', mew=2, ms=8, color=colormap(normalize(int(data_df.loc[i]['Temp']))) )\n",
    "\n",
    "plt.title('Data Annex')\n",
    "#plt.axis([3800,2800,0,0.45])\n",
    "# Set number of ticks for x-axis\n",
    "\n",
    "# Set ticks labels for x-axis\n",
    "\n",
    "#plt.xlabel('Wavenumber (cm-1)').set_fontsize(13)\n",
    "\n",
    "#plt.ylabel('Absorbance').set_fontsize(13)\n",
    "plt.xticks(rotation=90)\n",
    "#plt.tight_layout()\n",
    "ax = fig.gca()\n",
    "#plt.grid()\n",
    "#plt.legend()\n",
    "\n",
    "scalarmappaple = cm.ScalarMappable(norm=normalize, cmap=colormap)\n",
    "scalarmappaple.set_array(nscan)\n",
    "plt.colorbar(scalarmappaple)\n",
    "\n",
    "\n",
    "#plt.savefig('D:\\PhD-WS\\Projects\\PAC\\XP_1-1\\DATA\\{0}\\Plots\\DR1\\DR1_{0}_All_scans.png'.format(date))\n",
    "\n",
    "plt.show()"
   ]
  },
  {
   "cell_type": "markdown",
   "metadata": {},
   "source": [
    "## More"
   ]
  },
  {
   "cell_type": "markdown",
   "metadata": {},
   "source": [
    " - fit linear model to desorption great"
   ]
  }
 ],
 "metadata": {
  "kernelspec": {
   "display_name": "Python 3 (ipykernel)",
   "language": "python",
   "name": "python3"
  },
  "language_info": {
   "codemirror_mode": {
    "name": "ipython",
    "version": 3
   },
   "file_extension": ".py",
   "mimetype": "text/x-python",
   "name": "python",
   "nbconvert_exporter": "python",
   "pygments_lexer": "ipython3",
   "version": "3.9.13"
  }
 },
 "nbformat": 4,
 "nbformat_minor": 4
}
