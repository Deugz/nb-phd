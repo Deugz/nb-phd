{
 "cells": [
  {
   "cell_type": "markdown",
   "metadata": {},
   "source": [
    "# DATA Analysis - Binder version"
   ]
  },
  {
   "cell_type": "markdown",
   "metadata": {},
   "source": [
    "Explain\n",
    "\n",
    "\n",
    "#### Further implementation:\n",
    "\n",
    "- Data to be put in ordo (or Zenodo)"
   ]
  },
  {
   "cell_type": "markdown",
   "metadata": {},
   "source": [
    "#### Libraries"
   ]
  },
  {
   "cell_type": "code",
   "execution_count": 1,
   "metadata": {},
   "outputs": [],
   "source": [
    "import numpy \n",
    "import math\n",
    "import matplotlib\n",
    "import matplotlib.pyplot as plt\n",
    "import ipympl \n",
    "from matplotlib import cm\n",
    "import matplotlib.colors as mcolors\n",
    "import pandas as pd\n",
    "from glob import glob\n",
    "from functools import reduce\n",
    "import ipywidgets as widgets\n",
    "from ipywidgets import interact, interactive, fixed, interact_manual, Layout, HBox\n",
    "import re\n",
    "from itertools import cycle\n",
    "import zipfile  \n",
    "#import wx\n",
    "import gdown"
   ]
  },
  {
   "cell_type": "code",
   "execution_count": 2,
   "metadata": {},
   "outputs": [],
   "source": [
    "%matplotlib widget"
   ]
  },
  {
   "cell_type": "code",
   "execution_count": 3,
   "metadata": {},
   "outputs": [],
   "source": [
    "spl = 'ASW'"
   ]
  },
  {
   "cell_type": "markdown",
   "metadata": {},
   "source": [
    "# Data import"
   ]
  },
  {
   "cell_type": "markdown",
   "metadata": {},
   "source": [
    "5 csv that include all the reduced data so far (31-03-2022) are imported as df :\n",
    "\n",
    "- XP_list_test (XP_Ramp_df)\n",
    "- Data_Annex_full (Data_Annex_full_df)\n",
    "- DR1_full (DR1_full_df)\n",
    "- DR2_full (DR2_full_df)\n",
    "- DR3_full (DR3_full_df)"
   ]
  },
  {
   "cell_type": "markdown",
   "metadata": {},
   "source": [
    "## Online "
   ]
  },
  {
   "cell_type": "markdown",
   "metadata": {},
   "source": [
    "### Download"
   ]
  },
  {
   "cell_type": "markdown",
   "metadata": {},
   "source": [
    "DR2 and DR1 are big files, hence they are stored on google drive and needs to be uploaded within the notebook."
   ]
  },
  {
   "cell_type": "code",
   "execution_count": 4,
   "metadata": {},
   "outputs": [
    {
     "name": "stderr",
     "output_type": "stream",
     "text": [
      "Downloading...\n",
      "From: https://drive.google.com/uc?id=1deWpgNp7kvvIsh056PGX9fBzADer0eYX\n",
      "To: D:\\Accademia\\PhD\\Script\\DR2_full.csv\n",
      "100%|██████████████████████████████████████████████████████████████████████████████████████████████| 602M/602M [00:11<00:00, 54.2MB/s]\n",
      "Downloading...\n",
      "From: https://drive.google.com/uc?id=1MuScaxUH-bSkaqSNknJ9uTt3M0R4a00T\n",
      "To: D:\\Accademia\\PhD\\Script\\DR1_Full.csv\n",
      "100%|██████████████████████████████████████████████████████████████████████████████████████████████| 543M/543M [00:08<00:00, 63.1MB/s]\n"
     ]
    },
    {
     "data": {
      "text/plain": [
       "'DR1_Full.csv'"
      ]
     },
     "execution_count": 4,
     "metadata": {},
     "output_type": "execute_result"
    }
   ],
   "source": [
    "# DR2\n",
    "\n",
    "url = \"https://drive.google.com/file/d/1deWpgNp7kvvIsh056PGX9fBzADer0eYX/view?usp=sharing\"\n",
    "gdown.download(url=url, quiet=False, fuzzy=True)\n",
    "\n",
    "# DR1\n",
    "\n",
    "url = \"https://drive.google.com/file/d/1MuScaxUH-bSkaqSNknJ9uTt3M0R4a00T/view?usp=sharing\"\n",
    "gdown.download(url=url, quiet=False, fuzzy=True)"
   ]
  },
  {
   "cell_type": "markdown",
   "metadata": {},
   "source": [
    "### Data-frame construction"
   ]
  },
  {
   "cell_type": "code",
   "execution_count": 5,
   "metadata": {},
   "outputs": [
    {
     "ename": "FileNotFoundError",
     "evalue": "[Errno 2] File XP_list_test.csv does not exist: 'XP_list_test.csv'",
     "output_type": "error",
     "traceback": [
      "\u001b[1;31m---------------------------------------------------------------------------\u001b[0m",
      "\u001b[1;31mFileNotFoundError\u001b[0m                         Traceback (most recent call last)",
      "\u001b[1;32m<ipython-input-5-f2c408f96056>\u001b[0m in \u001b[0;36m<module>\u001b[1;34m\u001b[0m\n\u001b[0;32m      1\u001b[0m \u001b[1;31m# XP-Ramp\u001b[0m\u001b[1;33m\u001b[0m\u001b[1;33m\u001b[0m\u001b[1;33m\u001b[0m\u001b[0m\n\u001b[0;32m      2\u001b[0m \u001b[1;33m\u001b[0m\u001b[0m\n\u001b[1;32m----> 3\u001b[1;33m \u001b[0mXP_Ramp_df\u001b[0m \u001b[1;33m=\u001b[0m \u001b[0mpd\u001b[0m\u001b[1;33m.\u001b[0m\u001b[0mread_csv\u001b[0m\u001b[1;33m(\u001b[0m\u001b[1;34m'XP_list_test.csv'\u001b[0m\u001b[1;33m)\u001b[0m\u001b[1;33m\u001b[0m\u001b[1;33m\u001b[0m\u001b[0m\n\u001b[0m\u001b[0;32m      4\u001b[0m \u001b[0mXP_Ramp_df_I\u001b[0m \u001b[1;33m=\u001b[0m \u001b[0mXP_Ramp_df\u001b[0m\u001b[1;33m.\u001b[0m\u001b[0mset_index\u001b[0m\u001b[1;33m(\u001b[0m\u001b[1;34m'Date'\u001b[0m\u001b[1;33m)\u001b[0m\u001b[1;33m\u001b[0m\u001b[1;33m\u001b[0m\u001b[0m\n\u001b[0;32m      5\u001b[0m \u001b[1;33m\u001b[0m\u001b[0m\n",
      "\u001b[1;32m~\\Anaconda3\\lib\\site-packages\\pandas\\io\\parsers.py\u001b[0m in \u001b[0;36mparser_f\u001b[1;34m(filepath_or_buffer, sep, delimiter, header, names, index_col, usecols, squeeze, prefix, mangle_dupe_cols, dtype, engine, converters, true_values, false_values, skipinitialspace, skiprows, skipfooter, nrows, na_values, keep_default_na, na_filter, verbose, skip_blank_lines, parse_dates, infer_datetime_format, keep_date_col, date_parser, dayfirst, cache_dates, iterator, chunksize, compression, thousands, decimal, lineterminator, quotechar, quoting, doublequote, escapechar, comment, encoding, dialect, error_bad_lines, warn_bad_lines, delim_whitespace, low_memory, memory_map, float_precision)\u001b[0m\n\u001b[0;32m    674\u001b[0m         )\n\u001b[0;32m    675\u001b[0m \u001b[1;33m\u001b[0m\u001b[0m\n\u001b[1;32m--> 676\u001b[1;33m         \u001b[1;32mreturn\u001b[0m \u001b[0m_read\u001b[0m\u001b[1;33m(\u001b[0m\u001b[0mfilepath_or_buffer\u001b[0m\u001b[1;33m,\u001b[0m \u001b[0mkwds\u001b[0m\u001b[1;33m)\u001b[0m\u001b[1;33m\u001b[0m\u001b[1;33m\u001b[0m\u001b[0m\n\u001b[0m\u001b[0;32m    677\u001b[0m \u001b[1;33m\u001b[0m\u001b[0m\n\u001b[0;32m    678\u001b[0m     \u001b[0mparser_f\u001b[0m\u001b[1;33m.\u001b[0m\u001b[0m__name__\u001b[0m \u001b[1;33m=\u001b[0m \u001b[0mname\u001b[0m\u001b[1;33m\u001b[0m\u001b[1;33m\u001b[0m\u001b[0m\n",
      "\u001b[1;32m~\\Anaconda3\\lib\\site-packages\\pandas\\io\\parsers.py\u001b[0m in \u001b[0;36m_read\u001b[1;34m(filepath_or_buffer, kwds)\u001b[0m\n\u001b[0;32m    446\u001b[0m \u001b[1;33m\u001b[0m\u001b[0m\n\u001b[0;32m    447\u001b[0m     \u001b[1;31m# Create the parser.\u001b[0m\u001b[1;33m\u001b[0m\u001b[1;33m\u001b[0m\u001b[1;33m\u001b[0m\u001b[0m\n\u001b[1;32m--> 448\u001b[1;33m     \u001b[0mparser\u001b[0m \u001b[1;33m=\u001b[0m \u001b[0mTextFileReader\u001b[0m\u001b[1;33m(\u001b[0m\u001b[0mfp_or_buf\u001b[0m\u001b[1;33m,\u001b[0m \u001b[1;33m**\u001b[0m\u001b[0mkwds\u001b[0m\u001b[1;33m)\u001b[0m\u001b[1;33m\u001b[0m\u001b[1;33m\u001b[0m\u001b[0m\n\u001b[0m\u001b[0;32m    449\u001b[0m \u001b[1;33m\u001b[0m\u001b[0m\n\u001b[0;32m    450\u001b[0m     \u001b[1;32mif\u001b[0m \u001b[0mchunksize\u001b[0m \u001b[1;32mor\u001b[0m \u001b[0miterator\u001b[0m\u001b[1;33m:\u001b[0m\u001b[1;33m\u001b[0m\u001b[1;33m\u001b[0m\u001b[0m\n",
      "\u001b[1;32m~\\Anaconda3\\lib\\site-packages\\pandas\\io\\parsers.py\u001b[0m in \u001b[0;36m__init__\u001b[1;34m(self, f, engine, **kwds)\u001b[0m\n\u001b[0;32m    878\u001b[0m             \u001b[0mself\u001b[0m\u001b[1;33m.\u001b[0m\u001b[0moptions\u001b[0m\u001b[1;33m[\u001b[0m\u001b[1;34m\"has_index_names\"\u001b[0m\u001b[1;33m]\u001b[0m \u001b[1;33m=\u001b[0m \u001b[0mkwds\u001b[0m\u001b[1;33m[\u001b[0m\u001b[1;34m\"has_index_names\"\u001b[0m\u001b[1;33m]\u001b[0m\u001b[1;33m\u001b[0m\u001b[1;33m\u001b[0m\u001b[0m\n\u001b[0;32m    879\u001b[0m \u001b[1;33m\u001b[0m\u001b[0m\n\u001b[1;32m--> 880\u001b[1;33m         \u001b[0mself\u001b[0m\u001b[1;33m.\u001b[0m\u001b[0m_make_engine\u001b[0m\u001b[1;33m(\u001b[0m\u001b[0mself\u001b[0m\u001b[1;33m.\u001b[0m\u001b[0mengine\u001b[0m\u001b[1;33m)\u001b[0m\u001b[1;33m\u001b[0m\u001b[1;33m\u001b[0m\u001b[0m\n\u001b[0m\u001b[0;32m    881\u001b[0m \u001b[1;33m\u001b[0m\u001b[0m\n\u001b[0;32m    882\u001b[0m     \u001b[1;32mdef\u001b[0m \u001b[0mclose\u001b[0m\u001b[1;33m(\u001b[0m\u001b[0mself\u001b[0m\u001b[1;33m)\u001b[0m\u001b[1;33m:\u001b[0m\u001b[1;33m\u001b[0m\u001b[1;33m\u001b[0m\u001b[0m\n",
      "\u001b[1;32m~\\Anaconda3\\lib\\site-packages\\pandas\\io\\parsers.py\u001b[0m in \u001b[0;36m_make_engine\u001b[1;34m(self, engine)\u001b[0m\n\u001b[0;32m   1112\u001b[0m     \u001b[1;32mdef\u001b[0m \u001b[0m_make_engine\u001b[0m\u001b[1;33m(\u001b[0m\u001b[0mself\u001b[0m\u001b[1;33m,\u001b[0m \u001b[0mengine\u001b[0m\u001b[1;33m=\u001b[0m\u001b[1;34m\"c\"\u001b[0m\u001b[1;33m)\u001b[0m\u001b[1;33m:\u001b[0m\u001b[1;33m\u001b[0m\u001b[1;33m\u001b[0m\u001b[0m\n\u001b[0;32m   1113\u001b[0m         \u001b[1;32mif\u001b[0m \u001b[0mengine\u001b[0m \u001b[1;33m==\u001b[0m \u001b[1;34m\"c\"\u001b[0m\u001b[1;33m:\u001b[0m\u001b[1;33m\u001b[0m\u001b[1;33m\u001b[0m\u001b[0m\n\u001b[1;32m-> 1114\u001b[1;33m             \u001b[0mself\u001b[0m\u001b[1;33m.\u001b[0m\u001b[0m_engine\u001b[0m \u001b[1;33m=\u001b[0m \u001b[0mCParserWrapper\u001b[0m\u001b[1;33m(\u001b[0m\u001b[0mself\u001b[0m\u001b[1;33m.\u001b[0m\u001b[0mf\u001b[0m\u001b[1;33m,\u001b[0m \u001b[1;33m**\u001b[0m\u001b[0mself\u001b[0m\u001b[1;33m.\u001b[0m\u001b[0moptions\u001b[0m\u001b[1;33m)\u001b[0m\u001b[1;33m\u001b[0m\u001b[1;33m\u001b[0m\u001b[0m\n\u001b[0m\u001b[0;32m   1115\u001b[0m         \u001b[1;32melse\u001b[0m\u001b[1;33m:\u001b[0m\u001b[1;33m\u001b[0m\u001b[1;33m\u001b[0m\u001b[0m\n\u001b[0;32m   1116\u001b[0m             \u001b[1;32mif\u001b[0m \u001b[0mengine\u001b[0m \u001b[1;33m==\u001b[0m \u001b[1;34m\"python\"\u001b[0m\u001b[1;33m:\u001b[0m\u001b[1;33m\u001b[0m\u001b[1;33m\u001b[0m\u001b[0m\n",
      "\u001b[1;32m~\\Anaconda3\\lib\\site-packages\\pandas\\io\\parsers.py\u001b[0m in \u001b[0;36m__init__\u001b[1;34m(self, src, **kwds)\u001b[0m\n\u001b[0;32m   1889\u001b[0m         \u001b[0mkwds\u001b[0m\u001b[1;33m[\u001b[0m\u001b[1;34m\"usecols\"\u001b[0m\u001b[1;33m]\u001b[0m \u001b[1;33m=\u001b[0m \u001b[0mself\u001b[0m\u001b[1;33m.\u001b[0m\u001b[0musecols\u001b[0m\u001b[1;33m\u001b[0m\u001b[1;33m\u001b[0m\u001b[0m\n\u001b[0;32m   1890\u001b[0m \u001b[1;33m\u001b[0m\u001b[0m\n\u001b[1;32m-> 1891\u001b[1;33m         \u001b[0mself\u001b[0m\u001b[1;33m.\u001b[0m\u001b[0m_reader\u001b[0m \u001b[1;33m=\u001b[0m \u001b[0mparsers\u001b[0m\u001b[1;33m.\u001b[0m\u001b[0mTextReader\u001b[0m\u001b[1;33m(\u001b[0m\u001b[0msrc\u001b[0m\u001b[1;33m,\u001b[0m \u001b[1;33m**\u001b[0m\u001b[0mkwds\u001b[0m\u001b[1;33m)\u001b[0m\u001b[1;33m\u001b[0m\u001b[1;33m\u001b[0m\u001b[0m\n\u001b[0m\u001b[0;32m   1892\u001b[0m         \u001b[0mself\u001b[0m\u001b[1;33m.\u001b[0m\u001b[0munnamed_cols\u001b[0m \u001b[1;33m=\u001b[0m \u001b[0mself\u001b[0m\u001b[1;33m.\u001b[0m\u001b[0m_reader\u001b[0m\u001b[1;33m.\u001b[0m\u001b[0munnamed_cols\u001b[0m\u001b[1;33m\u001b[0m\u001b[1;33m\u001b[0m\u001b[0m\n\u001b[0;32m   1893\u001b[0m \u001b[1;33m\u001b[0m\u001b[0m\n",
      "\u001b[1;32mpandas\\_libs\\parsers.pyx\u001b[0m in \u001b[0;36mpandas._libs.parsers.TextReader.__cinit__\u001b[1;34m()\u001b[0m\n",
      "\u001b[1;32mpandas\\_libs\\parsers.pyx\u001b[0m in \u001b[0;36mpandas._libs.parsers.TextReader._setup_parser_source\u001b[1;34m()\u001b[0m\n",
      "\u001b[1;31mFileNotFoundError\u001b[0m: [Errno 2] File XP_list_test.csv does not exist: 'XP_list_test.csv'"
     ]
    }
   ],
   "source": [
    "# XP-Ramp\n",
    "\n",
    "XP_Ramp_df = pd.read_csv('XP_list_test.csv')\n",
    "XP_Ramp_df_I = XP_Ramp_df.set_index('Date')\n",
    "\n",
    "#Data_Annex\n",
    "\n",
    "Data_Annex_full_df1 = pd.read_csv('Data_Annex_full.csv')\n",
    "Data_Annex_full_df = Data_Annex_full_df1.set_index('Name')\n",
    "del Data_Annex_full_df['Unnamed: 0']\n",
    "\n",
    "#DR1\n",
    "\n",
    "DR1_full_df = pd.read_csv('DR1_Full.csv')\n",
    "\n",
    "#DR2\n",
    "\n",
    "DR2_full_df = pd.read_csv('DR2_full.csv')\n",
    "\n",
    "#DR3\n",
    "\n",
    "DR3_full_df = pd.read_csv('DR3_full.csv')"
   ]
  },
  {
   "cell_type": "markdown",
   "metadata": {},
   "source": [
    "## Local\n",
    "\n",
    "Locate where is the data and load\n",
    "\n",
    "### Data-frame construction"
   ]
  },
  {
   "cell_type": "code",
   "execution_count": 6,
   "metadata": {},
   "outputs": [],
   "source": [
    "# XP-Ramp\n",
    "\n",
    "XP_Ramp_df = pd.read_csv('..\\Data\\DATA-Processing\\PAC\\XP_list_test.csv')\n",
    "XP_Ramp_df_I = XP_Ramp_df.set_index('Date')\n",
    "\n",
    "#Data_Annex\n",
    "\n",
    "Data_Annex_full_df1 = pd.read_csv('..\\Data\\DATA-Processing\\PAC\\Data_Annex_full.csv')\n",
    "Data_Annex_full_df = Data_Annex_full_df1.set_index('Name')\n",
    "del Data_Annex_full_df['Unnamed: 0']\n",
    "\n",
    "#DR1\n",
    "\n",
    "DR1_full_df = pd.read_csv('..\\DATA\\DATA-Processing\\PAC\\DR_full\\DR1_Full.csv')\n",
    "\n",
    "#DR2\n",
    "\n",
    "#DR2_full_df = pd.read_csv('DR2_full.csv')\n",
    "\n",
    "#DR3\n",
    "\n",
    "#DR3_full_df = pd.read_csv('DR3_full.csv')"
   ]
  },
  {
   "cell_type": "code",
   "execution_count": null,
   "metadata": {},
   "outputs": [],
   "source": [
    "XP_Ramp_df_I"
   ]
  },
  {
   "cell_type": "markdown",
   "metadata": {},
   "source": [
    "### Sanity Check"
   ]
  },
  {
   "cell_type": "code",
   "execution_count": null,
   "metadata": {},
   "outputs": [],
   "source": [
    "#Data_Annex_full_df"
   ]
  },
  {
   "cell_type": "markdown",
   "metadata": {},
   "source": [
    "# Scan selection"
   ]
  },
  {
   "cell_type": "markdown",
   "metadata": {},
   "source": [
    "## Parameter list"
   ]
  },
  {
   "cell_type": "code",
   "execution_count": 7,
   "metadata": {},
   "outputs": [],
   "source": [
    "Temp = XP_Ramp_df_I.columns[1:].values.tolist()\n",
    "Date = XP_Ramp_df_I.index.values.tolist()\n",
    "Sample = XP_Ramp_df_I['Sample'].values.tolist()\n",
    "Reduc = ['DR2','DR3']\n",
    "#Scans = ['Single','Multi']\n",
    "Param = list(Data_Annex_full_df.columns.values)"
   ]
  },
  {
   "cell_type": "markdown",
   "metadata": {},
   "source": [
    "## Widget selection"
   ]
  },
  {
   "cell_type": "markdown",
   "metadata": {},
   "source": [
    "Some stuffs"
   ]
  },
  {
   "cell_type": "code",
   "execution_count": 8,
   "metadata": {},
   "outputs": [
    {
     "data": {
      "application/vnd.jupyter.widget-view+json": {
       "model_id": "ee81a5a60b114cbebb7559b28d57ba3b",
       "version_major": 2,
       "version_minor": 0
      },
      "text/plain": [
       "HBox(children=(SelectMultiple(description='Date', options=('2020_09_15', '2020_09_16', '2020_09_17', '2020_09_…"
      ]
     },
     "metadata": {},
     "output_type": "display_data"
    }
   ],
   "source": [
    "#Create Dropdown Box Widget\n",
    "\n",
    "#wR = widgets.SelectMultiple(\n",
    "#    options= Reduc,\n",
    "#    description='Reduction',\n",
    "#    disabled=False,\n",
    "#)\n",
    "\n",
    "wT = widgets.SelectMultiple(\n",
    "    options= Temp,\n",
    "    description='Temperature:',\n",
    "    disabled=False,\n",
    ")\n",
    "\n",
    "wD = widgets.SelectMultiple(\n",
    "    options= Date,\n",
    "    description='Date',\n",
    "    disabled=False,\n",
    ")\n",
    "\n",
    "#wS = widgets.SelectMultiple(\n",
    "#    options= Sample,\n",
    "#    description='Sample',\n",
    "#    disabled=False,\n",
    "#)\n",
    "\n",
    "wSc = widgets.Checkbox(\n",
    "    value=False,\n",
    "    description='Iso',\n",
    "    disabled=False,\n",
    "    indent=False\n",
    ")\n",
    "\n",
    "\n",
    "#widgets.HBox([wD,wT])\n",
    "\n",
    "h1 = widgets.HBox(children=[wD,wT,wSc])\n",
    "\n",
    "\n",
    "#display(wT,wD)\n",
    "display(h1)"
   ]
  },
  {
   "cell_type": "markdown",
   "metadata": {},
   "source": [
    "### Confirm "
   ]
  },
  {
   "cell_type": "markdown",
   "metadata": {},
   "source": [
    "Click on the cell below to confirm the selected scans"
   ]
  },
  {
   "cell_type": "code",
   "execution_count": 28,
   "metadata": {},
   "outputs": [],
   "source": [
    "wT_L = list(wT.value)\n",
    "wD_L = list(wD.value)\n",
    "wSc_B = bool(wSc.value)"
   ]
  },
  {
   "cell_type": "code",
   "execution_count": 29,
   "metadata": {},
   "outputs": [
    {
     "data": {
      "text/plain": [
       "False"
      ]
     },
     "execution_count": 29,
     "metadata": {},
     "output_type": "execute_result"
    }
   ],
   "source": [
    "wSc_B"
   ]
  },
  {
   "cell_type": "markdown",
   "metadata": {},
   "source": [
    "## Sample name construction"
   ]
  },
  {
   "cell_type": "markdown",
   "metadata": {},
   "source": [
    "Can I create an intermediate step to select only one number from the many per temperature when I don`t want to plot the isotherms\n",
    "- create input button (boolean that allow to choose between 1 scan or isotherm)"
   ]
  },
  {
   "cell_type": "code",
   "execution_count": 30,
   "metadata": {},
   "outputs": [
    {
     "name": "stdout",
     "output_type": "stream",
     "text": [
      "[1, 2]\n",
      "<class 'str'>\n",
      "ASW\n",
      "['1', '2']\n",
      "['2']\n",
      "[1, 2, 3, 4]\n",
      "<class 'str'>\n",
      "C2H6\n",
      "['1', '2', '3', '4']\n",
      "['2', '3', '4']\n",
      "[1, 2, 3, 4, 5, 6, 7, 8, 9, 10, 11, 12, 13, 14, 15, 16, 17, 18, 19, 20, 21, 22, 23, 24, 25, 26, 27, 28, 29, 30, 31, 32, 33, 34, 35, 36, 37, 38, 39, 40, 41, 42, 43, 44, 45, 46, 47, 48, 49, 50, 51, 52, 53, 54, 55, 56, 57, 58, 59, 60, 61, 62, 63, 64, 65, 66, 67, 68, 69, 70, 71, 72, 73, 74, 75, 76, 77, 78, 79, 80, 81, 82, 83, 84, 85, 86, 87, 88, 89, 90, 91, 92, 93, 94, 95, 96, 97, 98, 99, 100, 101, 102, 103, 104, 105, 106, 107]\n",
      "<class 'str'>\n",
      "C2H6_ASW\n",
      "['1', '2', '3', '4', '5', '6', '7', '8', '9', '10', '11', '12', '13', '14', '15', '16', '17', '18', '19', '20', '21', '22', '23', '24', '25', '26', '27', '28', '29', '30', '31', '32', '33', '34', '35', '36', '37', '38', '39', '40', '41', '42', '43', '44', '45', '46', '47', '48', '49', '50', '51', '52', '53', '54', '55', '56', '57', '58', '59', '60', '61', '62', '63', '64', '65', '66', '67', '68', '69', '70', '71', '72', '73', '74', '75', '76', '77', '78', '79', '80', '81', '82', '83', '84', '85', '86', '87', '88', '89', '90', '91', '92', '93', '94', '95', '96', '97', '98', '99', '100', '101', '102', '103', '104', '105', '106', '107']\n",
      "['2', '3', '4', '5', '6', '7', '8', '9', '10', '11', '12', '13', '14', '15', '16', '17', '18', '19', '20', '21', '22', '23', '24', '25', '26', '27', '28', '29', '30', '31', '32', '33', '34', '35', '36', '37', '38', '39', '40', '41', '42', '43', '44', '45', '46', '47', '48', '49', '50', '51', '52', '53', '54', '55', '56', '57', '58', '59', '60', '61', '62', '63', '64', '65', '66', '67', '68', '69', '70', '71', '72', '73', '74', '75', '76', '77', '78', '79', '80', '81', '82', '83', '84', '85', '86', '87', '88', '89', '90', '91', '92', '93', '94', '95', '96', '97', '98', '99', '100', '101', '102', '103', '104', '105', '106', '107']\n"
     ]
    }
   ],
   "source": [
    "#date = ['2020_09_16','2020_09_17']\n",
    "#temp = ['60K','80K']\n",
    "#spl = 'ASW'\n",
    "\n",
    "z = []\n",
    "value_1 = []\n",
    "value_2 = []\n",
    "\n",
    "\n",
    "\n",
    "       \n",
    "\n",
    "\n",
    "\n",
    "for x in wD_L:\n",
    "    for y in wT_L:\n",
    "\n",
    "        value = str(XP_Ramp_df_I.loc[XP_Ramp_df_I.index == x, y].values[0])\n",
    "        print(value)\n",
    "        print(type(value))\n",
    "        \n",
    "        spl = str(XP_Ramp_df_I.loc[x, \"Sample\"])\n",
    "        print(spl)\n",
    "        \n",
    "        value_1 = re.findall(r\"[-+]?\\d*\\.\\d+|\\d+\", value)\n",
    "        print(value_1)\n",
    "        \n",
    "        #Isotherm (all values but first one - Warm-up scan)\n",
    "        value_2 = value_1[1:]   #here we selct all but first value (warm-up)\n",
    "        \n",
    "        #Multiple scans (T range) - (Only the last value)\n",
    "        #value_2 = value_1[-1:]  #here we selct only the last value of the list\n",
    "        \n",
    "        print(value_2)\n",
    "        for items in value_2:\n",
    "        \n",
    "            to_plot = str('{}_{}_{}'.format(spl, x, items))\n",
    "            z.append({\n",
    "                \n",
    "               'Name' : str(to_plot),\n",
    "               'Temp' : y,\n",
    "               'Date' : x, \n",
    "                \n",
    "          \n",
    "         \n",
    "         })\n",
    "\n",
    "dat= pd.DataFrame(z)\n",
    "data_df = dat.set_index('Name')\n",
    "            "
   ]
  },
  {
   "cell_type": "markdown",
   "metadata": {},
   "source": [
    "## Plot pre-formating"
   ]
  },
  {
   "cell_type": "markdown",
   "metadata": {},
   "source": [
    "### Temperature"
   ]
  },
  {
   "cell_type": "code",
   "execution_count": 31,
   "metadata": {
    "tags": [
     "hide-input"
    ]
   },
   "outputs": [],
   "source": [
    "def Temp_color(row):\n",
    "    if row['Temp'] == '20':\n",
    "        return int(1)\n",
    "    elif row['Temp'] == '30':\n",
    "        return int(2) \n",
    "    elif row['Temp'] == '40':\n",
    "        return int(3)\n",
    "    elif row['Temp'] == '50':\n",
    "        return int(4)\n",
    "    elif row['Temp'] == '60':\n",
    "        return int(5)\n",
    "    elif row['Temp'] == '70':\n",
    "        return int(6)\n",
    "    elif row['Temp'] == '80':\n",
    "        return int(7)\n",
    "    elif row['Temp'] == '90':\n",
    "        return int(8)\n",
    "    elif row['Temp'] == '100':\n",
    "        return int(9)\n",
    "    elif row['Temp'] == '110':\n",
    "        return int(10)\n",
    "    elif row['Temp'] == '120':\n",
    "        return int(11)\n",
    "    elif row['Temp'] == '125':\n",
    "        return int(12)\n",
    "    elif row['Temp'] == '130':\n",
    "        return int(13)\n",
    "    elif row['Temp'] == '132':\n",
    "        return int(14)\n",
    "    elif row['Temp'] == '134':\n",
    "        return int(15)\n",
    "    elif row['Temp'] == '135':\n",
    "        return int(16)\n",
    "    elif row['Temp'] == '136':\n",
    "        return int(17)\n",
    "    elif row['Temp'] == '137':\n",
    "        return int(18)\n",
    "    elif row['Temp'] == '138':\n",
    "        return int(19)\n",
    "    elif row['Temp'] == '140':\n",
    "        return int(20)\n",
    "    elif row['Temp'] == '145':\n",
    "        return int(21)\n",
    "    elif row['Temp'] == '150':\n",
    "        return int(21)\n",
    "    elif row['Temp'] == '155':\n",
    "        return int(22)\n",
    "    elif row['Temp'] == '160':\n",
    "        return int(23)\n",
    "    elif row['Temp'] == '180':\n",
    "        return int(24)\n",
    "    elif row['Temp'] == '200':\n",
    "        return int(25)"
   ]
  },
  {
   "cell_type": "code",
   "execution_count": 32,
   "metadata": {},
   "outputs": [],
   "source": [
    "data_df['Colour'] = data_df.apply (lambda row: Temp_color(row), axis=1)"
   ]
  },
  {
   "cell_type": "markdown",
   "metadata": {},
   "source": [
    "### Linestyle (date)"
   ]
  },
  {
   "cell_type": "code",
   "execution_count": 33,
   "metadata": {},
   "outputs": [],
   "source": [
    "linestyle = ['-',':','--','-.']"
   ]
  },
  {
   "cell_type": "code",
   "execution_count": 34,
   "metadata": {},
   "outputs": [],
   "source": [
    "LD = dict(zip(wD_L, linestyle))\n",
    "\n",
    "data_df['linestyle'] = data_df['Date'].map(LD)"
   ]
  },
  {
   "cell_type": "code",
   "execution_count": 35,
   "metadata": {},
   "outputs": [
    {
     "data": {
      "text/plain": [
       "{'2020_09_28': '-', '2020_12_03': ':', '2021_09_27': '--'}"
      ]
     },
     "execution_count": 35,
     "metadata": {},
     "output_type": "execute_result"
    }
   ],
   "source": [
    "LD"
   ]
  },
  {
   "cell_type": "markdown",
   "metadata": {},
   "source": [
    "### Sanity Check"
   ]
  },
  {
   "cell_type": "code",
   "execution_count": 36,
   "metadata": {},
   "outputs": [
    {
     "data": {
      "text/html": [
       "<div>\n",
       "<style scoped>\n",
       "    .dataframe tbody tr th:only-of-type {\n",
       "        vertical-align: middle;\n",
       "    }\n",
       "\n",
       "    .dataframe tbody tr th {\n",
       "        vertical-align: top;\n",
       "    }\n",
       "\n",
       "    .dataframe thead th {\n",
       "        text-align: right;\n",
       "    }\n",
       "</style>\n",
       "<table border=\"1\" class=\"dataframe\">\n",
       "  <thead>\n",
       "    <tr style=\"text-align: right;\">\n",
       "      <th></th>\n",
       "      <th>Temp</th>\n",
       "      <th>Date</th>\n",
       "      <th>Colour</th>\n",
       "      <th>linestyle</th>\n",
       "    </tr>\n",
       "    <tr>\n",
       "      <th>Name</th>\n",
       "      <th></th>\n",
       "      <th></th>\n",
       "      <th></th>\n",
       "      <th></th>\n",
       "    </tr>\n",
       "  </thead>\n",
       "  <tbody>\n",
       "    <tr>\n",
       "      <th>ASW_2020_09_28_2</th>\n",
       "      <td>20</td>\n",
       "      <td>2020_09_28</td>\n",
       "      <td>1</td>\n",
       "      <td>-</td>\n",
       "    </tr>\n",
       "    <tr>\n",
       "      <th>C2H6_2020_12_03_2</th>\n",
       "      <td>20</td>\n",
       "      <td>2020_12_03</td>\n",
       "      <td>1</td>\n",
       "      <td>:</td>\n",
       "    </tr>\n",
       "    <tr>\n",
       "      <th>C2H6_2020_12_03_3</th>\n",
       "      <td>20</td>\n",
       "      <td>2020_12_03</td>\n",
       "      <td>1</td>\n",
       "      <td>:</td>\n",
       "    </tr>\n",
       "    <tr>\n",
       "      <th>C2H6_2020_12_03_4</th>\n",
       "      <td>20</td>\n",
       "      <td>2020_12_03</td>\n",
       "      <td>1</td>\n",
       "      <td>:</td>\n",
       "    </tr>\n",
       "    <tr>\n",
       "      <th>C2H6_ASW_2021_09_27_2</th>\n",
       "      <td>20</td>\n",
       "      <td>2021_09_27</td>\n",
       "      <td>1</td>\n",
       "      <td>--</td>\n",
       "    </tr>\n",
       "    <tr>\n",
       "      <th>...</th>\n",
       "      <td>...</td>\n",
       "      <td>...</td>\n",
       "      <td>...</td>\n",
       "      <td>...</td>\n",
       "    </tr>\n",
       "    <tr>\n",
       "      <th>C2H6_ASW_2021_09_27_103</th>\n",
       "      <td>20</td>\n",
       "      <td>2021_09_27</td>\n",
       "      <td>1</td>\n",
       "      <td>--</td>\n",
       "    </tr>\n",
       "    <tr>\n",
       "      <th>C2H6_ASW_2021_09_27_104</th>\n",
       "      <td>20</td>\n",
       "      <td>2021_09_27</td>\n",
       "      <td>1</td>\n",
       "      <td>--</td>\n",
       "    </tr>\n",
       "    <tr>\n",
       "      <th>C2H6_ASW_2021_09_27_105</th>\n",
       "      <td>20</td>\n",
       "      <td>2021_09_27</td>\n",
       "      <td>1</td>\n",
       "      <td>--</td>\n",
       "    </tr>\n",
       "    <tr>\n",
       "      <th>C2H6_ASW_2021_09_27_106</th>\n",
       "      <td>20</td>\n",
       "      <td>2021_09_27</td>\n",
       "      <td>1</td>\n",
       "      <td>--</td>\n",
       "    </tr>\n",
       "    <tr>\n",
       "      <th>C2H6_ASW_2021_09_27_107</th>\n",
       "      <td>20</td>\n",
       "      <td>2021_09_27</td>\n",
       "      <td>1</td>\n",
       "      <td>--</td>\n",
       "    </tr>\n",
       "  </tbody>\n",
       "</table>\n",
       "<p>110 rows × 4 columns</p>\n",
       "</div>"
      ],
      "text/plain": [
       "                        Temp        Date  Colour linestyle\n",
       "Name                                                      \n",
       "ASW_2020_09_28_2          20  2020_09_28       1         -\n",
       "C2H6_2020_12_03_2         20  2020_12_03       1         :\n",
       "C2H6_2020_12_03_3         20  2020_12_03       1         :\n",
       "C2H6_2020_12_03_4         20  2020_12_03       1         :\n",
       "C2H6_ASW_2021_09_27_2     20  2021_09_27       1        --\n",
       "...                      ...         ...     ...       ...\n",
       "C2H6_ASW_2021_09_27_103   20  2021_09_27       1        --\n",
       "C2H6_ASW_2021_09_27_104   20  2021_09_27       1        --\n",
       "C2H6_ASW_2021_09_27_105   20  2021_09_27       1        --\n",
       "C2H6_ASW_2021_09_27_106   20  2021_09_27       1        --\n",
       "C2H6_ASW_2021_09_27_107   20  2021_09_27       1        --\n",
       "\n",
       "[110 rows x 4 columns]"
      ]
     },
     "execution_count": 36,
     "metadata": {},
     "output_type": "execute_result"
    }
   ],
   "source": [
    "data_df"
   ]
  },
  {
   "cell_type": "markdown",
   "metadata": {},
   "source": [
    "# Plotting"
   ]
  },
  {
   "cell_type": "markdown",
   "metadata": {},
   "source": [
    "## Scans"
   ]
  },
  {
   "cell_type": "markdown",
   "metadata": {},
   "source": [
    "### DR3"
   ]
  },
  {
   "cell_type": "code",
   "execution_count": null,
   "metadata": {},
   "outputs": [],
   "source": [
    "nscan = len(list(data_df['Date'].values.tolist()))\n",
    "\n",
    "print(nscan)\n",
    "\n",
    "fig, ax= plt.subplots(figsize=(12,10))\n",
    "\n",
    "normalize = mcolors.Normalize(vmin=20, vmax=200)\n",
    "colormap = cm.jet\n",
    "\n",
    "for i in dat['Name']:\n",
    "    \n",
    "#`DR3\n",
    "\n",
    "    x = DR3_full_df.Wavenumber\n",
    "    y = DR3_full_df['{}'.format(i)]\n",
    "    \n",
    "    plt.plot(x,y, label=\"{}_{}\".format(str(data_df.loc[i]['Date']), str(data_df.loc[i]['Temp'])), color=colormap(normalize(int(data_df.loc[i]['Temp']))), linestyle=(data_df.loc[i]['linestyle'])) \n",
    "\n",
    "\n",
    "plt.title('DR3 ')\n",
    "plt.axis([3800,2800,0,0.45])\n",
    "plt.xlabel('Wavenumber (cm-1)').set_fontsize(13)\n",
    "plt.ylabel('Absorbance').set_fontsize(13)\n",
    "#ax = fig.gca()\n",
    "plt.grid()\n",
    "plt.legend()\n",
    "\n",
    "scalarmappaple = cm.ScalarMappable(norm=normalize, cmap=colormap)\n",
    "scalarmappaple.set_array(nscan)\n",
    "plt.colorbar(scalarmappaple)\n",
    "\n",
    "\n",
    "#plt.savefig('D:\\PhD-WS\\Projects\\PAC\\XP_1-1\\DATA\\{0}\\Plots\\DR1\\DR1_{0}_All_scans.png'.format(date))\n",
    "\n",
    "plt.show()"
   ]
  },
  {
   "cell_type": "markdown",
   "metadata": {},
   "source": [
    "### DR2"
   ]
  },
  {
   "cell_type": "code",
   "execution_count": null,
   "metadata": {},
   "outputs": [],
   "source": [
    "nscan = len(list(data_df['Date'].values.tolist()))\n",
    "\n",
    "print(nscan)\n",
    "\n",
    "fig, ax= plt.subplots(figsize=(10,10))\n",
    "\n",
    "normalize = mcolors.Normalize(vmin=20, vmax=200)\n",
    "colormap = cm.jet\n",
    "\n",
    "for i in dat['Name']:\n",
    "    \n",
    "\n",
    "    x = DR2_full_df.Wavenumber\n",
    "    y = DR2_full_df['{}'.format(i)]\n",
    "    \n",
    "    plt.plot(x,y, label=\"{}_{}\".format(str(data_df.loc[i]['Date']), str(data_df.loc[i]['Temp'])), color=colormap(normalize(int(data_df.loc[i]['Temp']))), linestyle=(data_df.loc[i]['linestyle'])) \n",
    "\n",
    "\n",
    "plt.title('DR2')\n",
    "plt.axis([3800,2800,0,0.60])\n",
    "plt.xlabel('Wavenumber (cm-1)').set_fontsize(13)\n",
    "plt.ylabel('Absorbance').set_fontsize(13)\n",
    "#ax = fig.gca()\n",
    "plt.grid()\n",
    "plt.legend()\n",
    "\n",
    "scalarmappaple = cm.ScalarMappable(norm=normalize, cmap=colormap)\n",
    "scalarmappaple.set_array(nscan)\n",
    "plt.colorbar(scalarmappaple)\n",
    "\n",
    "\n",
    "#plt.savefig('D:\\PhD-WS\\Projects\\PAC\\XP_1-1\\DATA\\{0}\\Plots\\DR1\\DR1_{0}_All_scans.png'.format(date))\n",
    "\n",
    "plt.show()"
   ]
  },
  {
   "cell_type": "markdown",
   "metadata": {},
   "source": [
    "### DR1"
   ]
  },
  {
   "cell_type": "markdown",
   "metadata": {},
   "source": [
    "Why:\n",
    "- Compare the DR2 and DR1 to see if the difference observed arise from the reduction process."
   ]
  },
  {
   "cell_type": "code",
   "execution_count": 37,
   "metadata": {},
   "outputs": [
    {
     "name": "stdout",
     "output_type": "stream",
     "text": [
      "110\n"
     ]
    },
    {
     "data": {
      "application/vnd.jupyter.widget-view+json": {
       "model_id": "511c6d56cdab4c41ba4acd45f5a5cfe7",
       "version_major": 2,
       "version_minor": 0
      },
      "text/plain": [
       "Canvas(toolbar=Toolbar(toolitems=[('Home', 'Reset original view', 'home', 'home'), ('Back', 'Back to previous …"
      ]
     },
     "metadata": {},
     "output_type": "display_data"
    }
   ],
   "source": [
    "nscan = len(list(data_df['Date'].values.tolist()))\n",
    "\n",
    "print(nscan)\n",
    "\n",
    "fig, ax= plt.subplots(figsize=(10,10))\n",
    "\n",
    "normalize = mcolors.Normalize(vmin=20, vmax=200)\n",
    "colormap = cm.jet\n",
    "\n",
    "for i in dat['Name']:\n",
    "    \n",
    "\n",
    "    x = DR1_full_df.Wavenumber\n",
    "    y = DR1_full_df['{}'.format(i)]\n",
    "    \n",
    "    plt.plot(x,y, label=\"{}_{}\".format(str(data_df.loc[i]['Date']), str(data_df.loc[i]['Temp'])), color=colormap(normalize(int(data_df.loc[i]['Temp']))), linestyle=(data_df.loc[i]['linestyle'])) \n",
    "\n",
    "\n",
    "plt.title('DR1')\n",
    "plt.axis([3800,2800,-0.2,0.6])\n",
    "plt.xlabel('Wavenumber (cm-1)').set_fontsize(13)\n",
    "plt.ylabel('Absorbance').set_fontsize(13)\n",
    "#ax = fig.gca()\n",
    "plt.grid()\n",
    "plt.legend()\n",
    "\n",
    "scalarmappaple = cm.ScalarMappable(norm=normalize, cmap=colormap)\n",
    "scalarmappaple.set_array(nscan)\n",
    "plt.colorbar(scalarmappaple)\n",
    "\n",
    "\n",
    "#plt.savefig('D:\\PhD-WS\\Projects\\PAC\\XP_1-1\\DATA\\{0}\\Plots\\DR1\\DR1_{0}_All_scans.png'.format(date))\n",
    "\n",
    "plt.show()"
   ]
  },
  {
   "cell_type": "markdown",
   "metadata": {},
   "source": [
    "## Data Annex"
   ]
  },
  {
   "cell_type": "markdown",
   "metadata": {},
   "source": [
    "## Plotting"
   ]
  },
  {
   "cell_type": "markdown",
   "metadata": {},
   "source": [
    "Use interact to play with the data I plot"
   ]
  },
  {
   "cell_type": "code",
   "execution_count": null,
   "metadata": {},
   "outputs": [],
   "source": [
    "wP = widgets.SelectMultiple(\n",
    "    options= Param,\n",
    "    description='Parameters',\n",
    "    disabled=False,\n",
    ")\n",
    "\n",
    "display(wP)\n"
   ]
  },
  {
   "cell_type": "code",
   "execution_count": null,
   "metadata": {},
   "outputs": [],
   "source": [
    "wP_L = list(wP.value)"
   ]
  },
  {
   "cell_type": "code",
   "execution_count": null,
   "metadata": {},
   "outputs": [],
   "source": [
    "# Widget selection\n",
    "\n",
    "\n",
    "\n",
    "#interact(wP = widgets.SelectMultiple(\n",
    "#    options= Param,\n",
    "#    description='Parameters',\n",
    "#    disabled=False,\n",
    "#));\n",
    "\n",
    "\n",
    "\n",
    "\n",
    "# Figure\n",
    "\n",
    "fig, ax= plt.subplots(figsize=(10,10))\n",
    "\n",
    "normalize = mcolors.Normalize(vmin=20, vmax=200)\n",
    "colormap = cm.jet\n",
    "\n",
    "for i in dat['Name']:\n",
    "    for j in wP_L:\n",
    "\n",
    "    #print(i)\n",
    "    #print(j)\n",
    "        \n",
    "        x = Data_Annex_full_df[('{}'.format(j))].loc[('{}'.format(i))]\n",
    "        #y = Data_Annex_full_df['{}'.format(j)]\n",
    "        #y = Data_Annex_full_df['{}'.format(j)].loc[Data_Annex_full_df.index == ('{}'.format(i))]\n",
    "        #y = Data_Annex_full_df.loc[(Data_Annex_full_df['{}'.format(j)])] & [(Data_Annex_full_df['column_name'] == x)]\n",
    "        #print(x,y)\n",
    "        #print(i)    \n",
    "        #print(x)\n",
    "    \n",
    "        \n",
    "\n",
    "        plt.plot(i,x, '+', mew=2, ms=8, color=colormap(normalize(int(data_df.loc[i]['Temp']))) )\n",
    "\n",
    "plt.title('Data Annex')\n",
    "#plt.axis([3800,2800,0,0.45])\n",
    "# Set number of ticks for x-axis\n",
    "\n",
    "# Set ticks labels for x-axis\n",
    "\n",
    "#plt.xlabel('Wavenumber (cm-1)').set_fontsize(13)\n",
    "\n",
    "#plt.ylabel('Absorbance').set_fontsize(13)\n",
    "plt.xticks(rotation=90)\n",
    "#plt.tight_layout()\n",
    "ax = fig.gca()\n",
    "#plt.grid()\n",
    "#plt.legend()\n",
    "\n",
    "scalarmappaple = cm.ScalarMappable(norm=normalize, cmap=colormap)\n",
    "scalarmappaple.set_array(nscan)\n",
    "plt.colorbar(scalarmappaple)\n",
    "\n",
    "\n",
    "#plt.savefig('D:\\PhD-WS\\Projects\\PAC\\XP_1-1\\DATA\\{0}\\Plots\\DR1\\DR1_{0}_All_scans.png'.format(date))\n",
    "\n",
    "plt.show()"
   ]
  },
  {
   "cell_type": "markdown",
   "metadata": {},
   "source": [
    "## More"
   ]
  },
  {
   "cell_type": "markdown",
   "metadata": {},
   "source": [
    " - fit linear model to desorption great"
   ]
  }
 ],
 "metadata": {
  "kernelspec": {
   "display_name": "Python 3",
   "language": "python",
   "name": "python3"
  },
  "language_info": {
   "codemirror_mode": {
    "name": "ipython",
    "version": 3
   },
   "file_extension": ".py",
   "mimetype": "text/x-python",
   "name": "python",
   "nbconvert_exporter": "python",
   "pygments_lexer": "ipython3",
   "version": "3.8.3"
  }
 },
 "nbformat": 4,
 "nbformat_minor": 4
}
