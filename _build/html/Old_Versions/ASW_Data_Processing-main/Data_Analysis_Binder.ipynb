{
 "cells": [
  {
   "cell_type": "markdown",
   "metadata": {},
   "source": [
    "# DATA Analysis - Binder version"
   ]
  },
  {
   "cell_type": "markdown",
   "metadata": {},
   "source": [
    "Explain\n",
    "\n",
    "\n",
    "#### Further implementation:\n",
    "\n",
    "- Data to be put in ordo (or Zenodo)"
   ]
  },
  {
   "cell_type": "markdown",
   "metadata": {},
   "source": [
    "#### Libraries"
   ]
  },
  {
   "cell_type": "code",
   "execution_count": 1,
   "metadata": {},
   "outputs": [],
   "source": [
    "import numpy \n",
    "import math\n",
    "import matplotlib\n",
    "import matplotlib.pyplot as plt\n",
    "import ipympl \n",
    "from matplotlib import cm\n",
    "import matplotlib.colors as mcolors\n",
    "import pandas as pd\n",
    "from glob import glob\n",
    "from functools import reduce\n",
    "import ipywidgets as widgets\n",
    "from ipywidgets import interact, interactive, fixed, interact_manual, Layout, HBox\n",
    "import re\n",
    "from itertools import cycle\n",
    "import zipfile  \n",
    "#import wx\n",
    "import gdown"
   ]
  },
  {
   "cell_type": "code",
   "execution_count": 2,
   "metadata": {},
   "outputs": [],
   "source": [
    "%matplotlib widget"
   ]
  },
  {
   "cell_type": "code",
   "execution_count": 3,
   "metadata": {},
   "outputs": [],
   "source": [
    "spl = 'ASW'"
   ]
  },
  {
   "cell_type": "markdown",
   "metadata": {},
   "source": [
    "# Data import"
   ]
  },
  {
   "cell_type": "markdown",
   "metadata": {},
   "source": [
    "5 csv that include all the reduced data so far (31-03-2022) are imported as df :\n",
    "\n",
    "- XP_list_test (XP_Ramp_df)\n",
    "- Data_Annex_full (Data_Annex_full_df)\n",
    "- DR1_full (DR1_full_df)\n",
    "- DR2_full (DR2_full_df)\n",
    "- DR3_full (DR3_full_df)"
   ]
  },
  {
   "cell_type": "markdown",
   "metadata": {},
   "source": [
    "### Download  "
   ]
  },
  {
   "cell_type": "markdown",
   "metadata": {},
   "source": [
    "DR2 and DR1 are big files, hence they are stored on google drive and needs to be uploaded within the notebook."
   ]
  },
  {
   "cell_type": "code",
   "execution_count": 4,
   "metadata": {},
   "outputs": [
    {
     "name": "stderr",
     "output_type": "stream",
     "text": [
      "Downloading...\n",
      "From: https://drive.google.com/uc?id=1deWpgNp7kvvIsh056PGX9fBzADer0eYX\n",
      "To: G:\\MAMP\\htdocs\\PhD-WS\\Script\\DR2_full.csv\n",
      "100%|█████████████████████████████████████████████████████████████████████████████████████████████████████████████████████████████████████████████████████████████████████████████████████████████████████████████████████████████| 602M/602M [00:52<00:00, 11.5MB/s]\n",
      "Downloading...\n",
      "From: https://drive.google.com/uc?id=1zmtG61wYExabbecMznA8P5JIA7BXy49n\n",
      "To: G:\\MAMP\\htdocs\\PhD-WS\\Script\\DR1_full.csv\n",
      "100%|█████████████████████████████████████████████████████████████████████████████████████████████████████████████████████████████████████████████████████████████████████████████████████████████████████████████████████████████| 166M/166M [00:14<00:00, 11.7MB/s]\n"
     ]
    },
    {
     "data": {
      "text/plain": [
       "'DR1_full.csv'"
      ]
     },
     "execution_count": 4,
     "metadata": {},
     "output_type": "execute_result"
    }
   ],
   "source": [
    "# DR2\n",
    "\n",
    "url = \"https://drive.google.com/file/d/1deWpgNp7kvvIsh056PGX9fBzADer0eYX/view?usp=sharing\"\n",
    "gdown.download(url=url, quiet=False, fuzzy=True)\n",
    "\n",
    "#DR1\n",
    "\n",
    "# Old Version\n",
    "\n",
    "#url = \"https://drive.google.com/file/d/1zmtG61wYExabbecMznA8P5JIA7BXy49n/view?usp=sharing\"\n",
    "#gdown.download(url=url, quiet=False, fuzzy=True)\n",
    "\n",
    "# New Version \n",
    "\n",
    "url = \"https://drive.google.com/file/d/1MuScaxUH-bSkaqSNknJ9uTt3M0R4a00T/view?usp=sharing\"\n",
    "gdown.download(url=url, quiet=False, fuzzy=True)"
   ]
  },
  {
   "cell_type": "markdown",
   "metadata": {},
   "source": [
    "### Data-frame construction"
   ]
  },
  {
   "cell_type": "code",
   "execution_count": 5,
   "metadata": {},
   "outputs": [
    {
     "ename": "FileNotFoundError",
     "evalue": "[Errno 2] File XP_list_test.csv does not exist: 'XP_list_test.csv'",
     "output_type": "error",
     "traceback": [
      "\u001b[1;31m---------------------------------------------------------------------------\u001b[0m",
      "\u001b[1;31mFileNotFoundError\u001b[0m                         Traceback (most recent call last)",
      "\u001b[1;32m<ipython-input-5-1ffcc60ef137>\u001b[0m in \u001b[0;36m<module>\u001b[1;34m\u001b[0m\n\u001b[0;32m      1\u001b[0m \u001b[1;31m# XP-Ramp\u001b[0m\u001b[1;33m\u001b[0m\u001b[1;33m\u001b[0m\u001b[1;33m\u001b[0m\u001b[0m\n\u001b[0;32m      2\u001b[0m \u001b[1;33m\u001b[0m\u001b[0m\n\u001b[1;32m----> 3\u001b[1;33m \u001b[0mXP_Ramp_df\u001b[0m \u001b[1;33m=\u001b[0m \u001b[0mpd\u001b[0m\u001b[1;33m.\u001b[0m\u001b[0mread_csv\u001b[0m\u001b[1;33m(\u001b[0m\u001b[1;34m'XP_list_test.csv'\u001b[0m\u001b[1;33m)\u001b[0m\u001b[1;33m\u001b[0m\u001b[1;33m\u001b[0m\u001b[0m\n\u001b[0m\u001b[0;32m      4\u001b[0m \u001b[0mXP_Ramp_df_I\u001b[0m \u001b[1;33m=\u001b[0m \u001b[0mXP_Ramp_df\u001b[0m\u001b[1;33m.\u001b[0m\u001b[0mset_index\u001b[0m\u001b[1;33m(\u001b[0m\u001b[1;34m'Date'\u001b[0m\u001b[1;33m)\u001b[0m\u001b[1;33m\u001b[0m\u001b[1;33m\u001b[0m\u001b[0m\n\u001b[0;32m      5\u001b[0m \u001b[1;33m\u001b[0m\u001b[0m\n",
      "\u001b[1;32m~\\Anaconda3\\lib\\site-packages\\pandas\\io\\parsers.py\u001b[0m in \u001b[0;36mparser_f\u001b[1;34m(filepath_or_buffer, sep, delimiter, header, names, index_col, usecols, squeeze, prefix, mangle_dupe_cols, dtype, engine, converters, true_values, false_values, skipinitialspace, skiprows, skipfooter, nrows, na_values, keep_default_na, na_filter, verbose, skip_blank_lines, parse_dates, infer_datetime_format, keep_date_col, date_parser, dayfirst, cache_dates, iterator, chunksize, compression, thousands, decimal, lineterminator, quotechar, quoting, doublequote, escapechar, comment, encoding, dialect, error_bad_lines, warn_bad_lines, delim_whitespace, low_memory, memory_map, float_precision)\u001b[0m\n\u001b[0;32m    674\u001b[0m         )\n\u001b[0;32m    675\u001b[0m \u001b[1;33m\u001b[0m\u001b[0m\n\u001b[1;32m--> 676\u001b[1;33m         \u001b[1;32mreturn\u001b[0m \u001b[0m_read\u001b[0m\u001b[1;33m(\u001b[0m\u001b[0mfilepath_or_buffer\u001b[0m\u001b[1;33m,\u001b[0m \u001b[0mkwds\u001b[0m\u001b[1;33m)\u001b[0m\u001b[1;33m\u001b[0m\u001b[1;33m\u001b[0m\u001b[0m\n\u001b[0m\u001b[0;32m    677\u001b[0m \u001b[1;33m\u001b[0m\u001b[0m\n\u001b[0;32m    678\u001b[0m     \u001b[0mparser_f\u001b[0m\u001b[1;33m.\u001b[0m\u001b[0m__name__\u001b[0m \u001b[1;33m=\u001b[0m \u001b[0mname\u001b[0m\u001b[1;33m\u001b[0m\u001b[1;33m\u001b[0m\u001b[0m\n",
      "\u001b[1;32m~\\Anaconda3\\lib\\site-packages\\pandas\\io\\parsers.py\u001b[0m in \u001b[0;36m_read\u001b[1;34m(filepath_or_buffer, kwds)\u001b[0m\n\u001b[0;32m    446\u001b[0m \u001b[1;33m\u001b[0m\u001b[0m\n\u001b[0;32m    447\u001b[0m     \u001b[1;31m# Create the parser.\u001b[0m\u001b[1;33m\u001b[0m\u001b[1;33m\u001b[0m\u001b[1;33m\u001b[0m\u001b[0m\n\u001b[1;32m--> 448\u001b[1;33m     \u001b[0mparser\u001b[0m \u001b[1;33m=\u001b[0m \u001b[0mTextFileReader\u001b[0m\u001b[1;33m(\u001b[0m\u001b[0mfp_or_buf\u001b[0m\u001b[1;33m,\u001b[0m \u001b[1;33m**\u001b[0m\u001b[0mkwds\u001b[0m\u001b[1;33m)\u001b[0m\u001b[1;33m\u001b[0m\u001b[1;33m\u001b[0m\u001b[0m\n\u001b[0m\u001b[0;32m    449\u001b[0m \u001b[1;33m\u001b[0m\u001b[0m\n\u001b[0;32m    450\u001b[0m     \u001b[1;32mif\u001b[0m \u001b[0mchunksize\u001b[0m \u001b[1;32mor\u001b[0m \u001b[0miterator\u001b[0m\u001b[1;33m:\u001b[0m\u001b[1;33m\u001b[0m\u001b[1;33m\u001b[0m\u001b[0m\n",
      "\u001b[1;32m~\\Anaconda3\\lib\\site-packages\\pandas\\io\\parsers.py\u001b[0m in \u001b[0;36m__init__\u001b[1;34m(self, f, engine, **kwds)\u001b[0m\n\u001b[0;32m    878\u001b[0m             \u001b[0mself\u001b[0m\u001b[1;33m.\u001b[0m\u001b[0moptions\u001b[0m\u001b[1;33m[\u001b[0m\u001b[1;34m\"has_index_names\"\u001b[0m\u001b[1;33m]\u001b[0m \u001b[1;33m=\u001b[0m \u001b[0mkwds\u001b[0m\u001b[1;33m[\u001b[0m\u001b[1;34m\"has_index_names\"\u001b[0m\u001b[1;33m]\u001b[0m\u001b[1;33m\u001b[0m\u001b[1;33m\u001b[0m\u001b[0m\n\u001b[0;32m    879\u001b[0m \u001b[1;33m\u001b[0m\u001b[0m\n\u001b[1;32m--> 880\u001b[1;33m         \u001b[0mself\u001b[0m\u001b[1;33m.\u001b[0m\u001b[0m_make_engine\u001b[0m\u001b[1;33m(\u001b[0m\u001b[0mself\u001b[0m\u001b[1;33m.\u001b[0m\u001b[0mengine\u001b[0m\u001b[1;33m)\u001b[0m\u001b[1;33m\u001b[0m\u001b[1;33m\u001b[0m\u001b[0m\n\u001b[0m\u001b[0;32m    881\u001b[0m \u001b[1;33m\u001b[0m\u001b[0m\n\u001b[0;32m    882\u001b[0m     \u001b[1;32mdef\u001b[0m \u001b[0mclose\u001b[0m\u001b[1;33m(\u001b[0m\u001b[0mself\u001b[0m\u001b[1;33m)\u001b[0m\u001b[1;33m:\u001b[0m\u001b[1;33m\u001b[0m\u001b[1;33m\u001b[0m\u001b[0m\n",
      "\u001b[1;32m~\\Anaconda3\\lib\\site-packages\\pandas\\io\\parsers.py\u001b[0m in \u001b[0;36m_make_engine\u001b[1;34m(self, engine)\u001b[0m\n\u001b[0;32m   1112\u001b[0m     \u001b[1;32mdef\u001b[0m \u001b[0m_make_engine\u001b[0m\u001b[1;33m(\u001b[0m\u001b[0mself\u001b[0m\u001b[1;33m,\u001b[0m \u001b[0mengine\u001b[0m\u001b[1;33m=\u001b[0m\u001b[1;34m\"c\"\u001b[0m\u001b[1;33m)\u001b[0m\u001b[1;33m:\u001b[0m\u001b[1;33m\u001b[0m\u001b[1;33m\u001b[0m\u001b[0m\n\u001b[0;32m   1113\u001b[0m         \u001b[1;32mif\u001b[0m \u001b[0mengine\u001b[0m \u001b[1;33m==\u001b[0m \u001b[1;34m\"c\"\u001b[0m\u001b[1;33m:\u001b[0m\u001b[1;33m\u001b[0m\u001b[1;33m\u001b[0m\u001b[0m\n\u001b[1;32m-> 1114\u001b[1;33m             \u001b[0mself\u001b[0m\u001b[1;33m.\u001b[0m\u001b[0m_engine\u001b[0m \u001b[1;33m=\u001b[0m \u001b[0mCParserWrapper\u001b[0m\u001b[1;33m(\u001b[0m\u001b[0mself\u001b[0m\u001b[1;33m.\u001b[0m\u001b[0mf\u001b[0m\u001b[1;33m,\u001b[0m \u001b[1;33m**\u001b[0m\u001b[0mself\u001b[0m\u001b[1;33m.\u001b[0m\u001b[0moptions\u001b[0m\u001b[1;33m)\u001b[0m\u001b[1;33m\u001b[0m\u001b[1;33m\u001b[0m\u001b[0m\n\u001b[0m\u001b[0;32m   1115\u001b[0m         \u001b[1;32melse\u001b[0m\u001b[1;33m:\u001b[0m\u001b[1;33m\u001b[0m\u001b[1;33m\u001b[0m\u001b[0m\n\u001b[0;32m   1116\u001b[0m             \u001b[1;32mif\u001b[0m \u001b[0mengine\u001b[0m \u001b[1;33m==\u001b[0m \u001b[1;34m\"python\"\u001b[0m\u001b[1;33m:\u001b[0m\u001b[1;33m\u001b[0m\u001b[1;33m\u001b[0m\u001b[0m\n",
      "\u001b[1;32m~\\Anaconda3\\lib\\site-packages\\pandas\\io\\parsers.py\u001b[0m in \u001b[0;36m__init__\u001b[1;34m(self, src, **kwds)\u001b[0m\n\u001b[0;32m   1889\u001b[0m         \u001b[0mkwds\u001b[0m\u001b[1;33m[\u001b[0m\u001b[1;34m\"usecols\"\u001b[0m\u001b[1;33m]\u001b[0m \u001b[1;33m=\u001b[0m \u001b[0mself\u001b[0m\u001b[1;33m.\u001b[0m\u001b[0musecols\u001b[0m\u001b[1;33m\u001b[0m\u001b[1;33m\u001b[0m\u001b[0m\n\u001b[0;32m   1890\u001b[0m \u001b[1;33m\u001b[0m\u001b[0m\n\u001b[1;32m-> 1891\u001b[1;33m         \u001b[0mself\u001b[0m\u001b[1;33m.\u001b[0m\u001b[0m_reader\u001b[0m \u001b[1;33m=\u001b[0m \u001b[0mparsers\u001b[0m\u001b[1;33m.\u001b[0m\u001b[0mTextReader\u001b[0m\u001b[1;33m(\u001b[0m\u001b[0msrc\u001b[0m\u001b[1;33m,\u001b[0m \u001b[1;33m**\u001b[0m\u001b[0mkwds\u001b[0m\u001b[1;33m)\u001b[0m\u001b[1;33m\u001b[0m\u001b[1;33m\u001b[0m\u001b[0m\n\u001b[0m\u001b[0;32m   1892\u001b[0m         \u001b[0mself\u001b[0m\u001b[1;33m.\u001b[0m\u001b[0munnamed_cols\u001b[0m \u001b[1;33m=\u001b[0m \u001b[0mself\u001b[0m\u001b[1;33m.\u001b[0m\u001b[0m_reader\u001b[0m\u001b[1;33m.\u001b[0m\u001b[0munnamed_cols\u001b[0m\u001b[1;33m\u001b[0m\u001b[1;33m\u001b[0m\u001b[0m\n\u001b[0;32m   1893\u001b[0m \u001b[1;33m\u001b[0m\u001b[0m\n",
      "\u001b[1;32mpandas\\_libs\\parsers.pyx\u001b[0m in \u001b[0;36mpandas._libs.parsers.TextReader.__cinit__\u001b[1;34m()\u001b[0m\n",
      "\u001b[1;32mpandas\\_libs\\parsers.pyx\u001b[0m in \u001b[0;36mpandas._libs.parsers.TextReader._setup_parser_source\u001b[1;34m()\u001b[0m\n",
      "\u001b[1;31mFileNotFoundError\u001b[0m: [Errno 2] File XP_list_test.csv does not exist: 'XP_list_test.csv'"
     ]
    }
   ],
   "source": [
    "# XP-Ramp\n",
    "\n",
    "XP_Ramp_df = pd.read_csv('XP_list_test.csv')\n",
    "XP_Ramp_df_I = XP_Ramp_df.set_index('Date')\n",
    "\n",
    "#Data_Annex\n",
    "\n",
    "Data_Annex_full_df1 = pd.read_csv('Data_Annex_full.csv')\n",
    "Data_Annex_full_df = Data_Annex_full_df1.set_index('Name')\n",
    "del Data_Annex_full_df['Unnamed: 0']\n",
    "\n",
    "#DR1\n",
    "\n",
    "DR1_full_df = pd.read_csv('DR1_full.csv')\n",
    "\n",
    "#DR2\n",
    "\n",
    "DR2_full_df = pd.read_csv('DR2_full.csv')\n",
    "\n",
    "#DR3\n",
    "\n",
    "DR3_full_df = pd.read_csv('DR3_full.csv')"
   ]
  },
  {
   "cell_type": "markdown",
   "metadata": {},
   "source": [
    "### Sanity Check"
   ]
  },
  {
   "cell_type": "code",
   "execution_count": null,
   "metadata": {},
   "outputs": [],
   "source": [
    "#Data_Annex_full_df"
   ]
  },
  {
   "cell_type": "markdown",
   "metadata": {},
   "source": [
    "# Scan selection"
   ]
  },
  {
   "cell_type": "markdown",
   "metadata": {},
   "source": [
    "## Parameter list"
   ]
  },
  {
   "cell_type": "code",
   "execution_count": 7,
   "metadata": {},
   "outputs": [],
   "source": [
    "Temp = XP_Ramp_df_I.columns[1:].values.tolist()\n",
    "Date = XP_Ramp_df_I.index.values.tolist()\n",
    "Sample = XP_Ramp_df_I['Sample'].values.tolist()\n",
    "Reduc = ['DR2','DR3']\n",
    "#Scans = ['Single','Multi']\n",
    "Param = list(Data_Annex_full_df.columns.values)"
   ]
  },
  {
   "cell_type": "markdown",
   "metadata": {},
   "source": [
    "## Widget selection"
   ]
  },
  {
   "cell_type": "markdown",
   "metadata": {},
   "source": [
    "Some stuffs"
   ]
  },
  {
   "cell_type": "code",
   "execution_count": 8,
   "metadata": {},
   "outputs": [
    {
     "data": {
      "application/vnd.jupyter.widget-view+json": {
       "model_id": "d5007266d35c4a3982da8e372bb640e4",
       "version_major": 2,
       "version_minor": 0
      },
      "text/plain": [
       "HBox(children=(SelectMultiple(description='Date', options=('2020_09_15', '2020_09_16', '2020_09_17', '2020_09_…"
      ]
     },
     "metadata": {},
     "output_type": "display_data"
    }
   ],
   "source": [
    "#Create Dropdown Box Widget\n",
    "\n",
    "#wR = widgets.SelectMultiple(\n",
    "#    options= Reduc,\n",
    "#    description='Reduction',\n",
    "#    disabled=False,\n",
    "#)\n",
    "\n",
    "wT = widgets.SelectMultiple(\n",
    "    options= Temp,\n",
    "    description='Temperature:',\n",
    "    disabled=False,\n",
    ")\n",
    "\n",
    "wD = widgets.SelectMultiple(\n",
    "    options= Date,\n",
    "    description='Date',\n",
    "    disabled=False,\n",
    ")\n",
    "\n",
    "#wS = widgets.SelectMultiple(\n",
    "#    options= Sample,\n",
    "#    description='Sample',\n",
    "#    disabled=False,\n",
    "#)\n",
    "\n",
    "wSc = widgets.Checkbox(\n",
    "    value=False,\n",
    "    description='Iso',\n",
    "    disabled=False,\n",
    "    indent=False\n",
    ")\n",
    "\n",
    "\n",
    "#widgets.HBox([wD,wT])\n",
    "\n",
    "h1 = widgets.HBox(children=[wD,wT,wSc])\n",
    "\n",
    "\n",
    "#display(wT,wD)\n",
    "display(h1)"
   ]
  },
  {
   "cell_type": "markdown",
   "metadata": {},
   "source": [
    "### Confirm "
   ]
  },
  {
   "cell_type": "markdown",
   "metadata": {},
   "source": [
    "Click on the cell below to confirm the selected scans"
   ]
  },
  {
   "cell_type": "code",
   "execution_count": 82,
   "metadata": {},
   "outputs": [],
   "source": [
    "wT_L = list(wT.value)\n",
    "wD_L = list(wD.value)\n",
    "wSc_B = bool(wSc.value)"
   ]
  },
  {
   "cell_type": "code",
   "execution_count": 83,
   "metadata": {},
   "outputs": [
    {
     "data": {
      "text/plain": [
       "False"
      ]
     },
     "execution_count": 83,
     "metadata": {},
     "output_type": "execute_result"
    }
   ],
   "source": [
    "wSc_B"
   ]
  },
  {
   "cell_type": "markdown",
   "metadata": {},
   "source": [
    "## Sample name construction"
   ]
  },
  {
   "cell_type": "markdown",
   "metadata": {},
   "source": [
    "Can I create an intermediate step to select only one number from the many per temperature when I don`t want to plot the isotherms\n",
    "- create input button (boolean that allow to choose between 1 scan or isotherm)"
   ]
  },
  {
   "cell_type": "code",
   "execution_count": 84,
   "metadata": {},
   "outputs": [
    {
     "name": "stdout",
     "output_type": "stream",
     "text": [
      "[1, 2]\n",
      "<class 'str'>\n",
      "['1', '2']\n",
      "['2']\n",
      "nan\n",
      "<class 'str'>\n",
      "[]\n",
      "[]\n",
      "[3, 4, 5, 6]\n",
      "<class 'str'>\n",
      "['3', '4', '5', '6']\n",
      "['4', '5', '6']\n",
      "[7, 8, 9, 10]\n",
      "<class 'str'>\n",
      "['7', '8', '9', '10']\n",
      "['8', '9', '10']\n",
      "[11, 12, 13, 14]\n",
      "<class 'str'>\n",
      "['11', '12', '13', '14']\n",
      "['12', '13', '14']\n",
      "nan\n",
      "<class 'str'>\n",
      "[]\n",
      "[]\n",
      "[15, 16, 17, 18]\n",
      "<class 'str'>\n",
      "['15', '16', '17', '18']\n",
      "['16', '17', '18']\n",
      "nan\n",
      "<class 'str'>\n",
      "[]\n",
      "[]\n",
      "[19, 20, 21, 22]\n",
      "<class 'str'>\n",
      "['19', '20', '21', '22']\n",
      "['20', '21', '22']\n",
      "[23, 24, 25, 26]\n",
      "<class 'str'>\n",
      "['23', '24', '25', '26']\n",
      "['24', '25', '26']\n",
      "[27, 28, 29, 30]\n",
      "<class 'str'>\n",
      "['27', '28', '29', '30']\n",
      "['28', '29', '30']\n",
      "[31, 32, 33, 34]\n",
      "<class 'str'>\n",
      "['31', '32', '33', '34']\n",
      "['32', '33', '34']\n",
      "[39, 40, 41, 42, 43, 44, 45, 46]\n",
      "<class 'str'>\n",
      "['39', '40', '41', '42', '43', '44', '45', '46']\n",
      "['40', '41', '42', '43', '44', '45', '46']\n",
      "[51, 52, 53, 54]\n",
      "<class 'str'>\n",
      "['51', '52', '53', '54']\n",
      "['52', '53', '54']\n",
      "nan\n",
      "<class 'str'>\n",
      "[]\n",
      "[]\n",
      "nan\n",
      "<class 'str'>\n",
      "[]\n",
      "[]\n",
      "nan\n",
      "<class 'str'>\n",
      "[]\n",
      "[]\n",
      "nan\n",
      "<class 'str'>\n",
      "[]\n",
      "[]\n",
      "[59, 60, 61, 62]\n",
      "<class 'str'>\n",
      "['59', '60', '61', '62']\n",
      "['60', '61', '62']\n",
      "nan\n",
      "<class 'str'>\n",
      "[]\n",
      "[]\n",
      "[63, 64, 65, 66]\n",
      "<class 'str'>\n",
      "['63', '64', '65', '66']\n",
      "['64', '65', '66']\n",
      "[67, 68, 69, 70, 71, 72, 73, 74]\n",
      "<class 'str'>\n",
      "['67', '68', '69', '70', '71', '72', '73', '74']\n",
      "['68', '69', '70', '71', '72', '73', '74']\n",
      "[75, 76, 77, 78]\n",
      "<class 'str'>\n",
      "['75', '76', '77', '78']\n",
      "['76', '77', '78']\n",
      "[79, 80]\n",
      "<class 'str'>\n",
      "['79', '80']\n",
      "['80']\n",
      "nan\n",
      "<class 'str'>\n",
      "[]\n",
      "[]\n",
      "nan\n",
      "<class 'str'>\n",
      "[]\n",
      "[]\n"
     ]
    }
   ],
   "source": [
    "#date = ['2020_09_16','2020_09_17']\n",
    "#temp = ['60K','80K']\n",
    "#spl = 'ASW'\n",
    "\n",
    "z = []\n",
    "value_1 = []\n",
    "value_2 = []\n",
    "\n",
    "\n",
    "\n",
    "       \n",
    "\n",
    "\n",
    "\n",
    "for x in wD_L:\n",
    "    for y in wT_L:\n",
    "\n",
    "        value = str(XP_Ramp_df_I.loc[XP_Ramp_df_I.index == x, y].values[0])\n",
    "        print(value)\n",
    "        print(type(value))\n",
    "        value_1 = re.findall(r\"[-+]?\\d*\\.\\d+|\\d+\", value)\n",
    "        print(value_1)\n",
    "        \n",
    "        #Isotherm (all values but first one - Warm-up scan)\n",
    "        value_2 = value_1[1:]   #here we selct all but first value (warm-up)\n",
    "        \n",
    "        #Multiple scans (T range) - (Only the last value)\n",
    "        #value_2 = value_1[-1:]  #here we selct only the last value of the list\n",
    "        \n",
    "        print(value_2)\n",
    "        for items in value_2:\n",
    "        \n",
    "            to_plot = str('{}_{}_{}'.format(spl, x, items))\n",
    "            z.append({\n",
    "                \n",
    "               'Name' : str(to_plot),\n",
    "               'Temp' : y,\n",
    "               'Date' : x, \n",
    "                \n",
    "          \n",
    "         \n",
    "         })\n",
    "\n",
    "dat= pd.DataFrame(z)\n",
    "data_df = dat.set_index('Name')\n",
    "            "
   ]
  },
  {
   "cell_type": "markdown",
   "metadata": {},
   "source": [
    "## Plot pre-formating"
   ]
  },
  {
   "cell_type": "markdown",
   "metadata": {},
   "source": [
    "### Temperature"
   ]
  },
  {
   "cell_type": "code",
   "execution_count": 85,
   "metadata": {
    "tags": [
     "hide-input"
    ]
   },
   "outputs": [],
   "source": [
    "def Temp_color(row):\n",
    "    if row['Temp'] == '20':\n",
    "        return int(1)\n",
    "    elif row['Temp'] == '30':\n",
    "        return int(2) \n",
    "    elif row['Temp'] == '40':\n",
    "        return int(3)\n",
    "    elif row['Temp'] == '50':\n",
    "        return int(4)\n",
    "    elif row['Temp'] == '60':\n",
    "        return int(5)\n",
    "    elif row['Temp'] == '70':\n",
    "        return int(6)\n",
    "    elif row['Temp'] == '80':\n",
    "        return int(7)\n",
    "    elif row['Temp'] == '90':\n",
    "        return int(8)\n",
    "    elif row['Temp'] == '100':\n",
    "        return int(9)\n",
    "    elif row['Temp'] == '110':\n",
    "        return int(10)\n",
    "    elif row['Temp'] == '120':\n",
    "        return int(11)\n",
    "    elif row['Temp'] == '125':\n",
    "        return int(12)\n",
    "    elif row['Temp'] == '130':\n",
    "        return int(13)\n",
    "    elif row['Temp'] == '132':\n",
    "        return int(14)\n",
    "    elif row['Temp'] == '134':\n",
    "        return int(15)\n",
    "    elif row['Temp'] == '135':\n",
    "        return int(16)\n",
    "    elif row['Temp'] == '136':\n",
    "        return int(17)\n",
    "    elif row['Temp'] == '137':\n",
    "        return int(18)\n",
    "    elif row['Temp'] == '138':\n",
    "        return int(19)\n",
    "    elif row['Temp'] == '140':\n",
    "        return int(20)\n",
    "    elif row['Temp'] == '145':\n",
    "        return int(21)\n",
    "    elif row['Temp'] == '150':\n",
    "        return int(21)\n",
    "    elif row['Temp'] == '155':\n",
    "        return int(22)\n",
    "    elif row['Temp'] == '160':\n",
    "        return int(23)\n",
    "    elif row['Temp'] == '180':\n",
    "        return int(24)\n",
    "    elif row['Temp'] == '200':\n",
    "        return int(25)"
   ]
  },
  {
   "cell_type": "code",
   "execution_count": 86,
   "metadata": {},
   "outputs": [],
   "source": [
    "data_df['Colour'] = data_df.apply (lambda row: Temp_color(row), axis=1)"
   ]
  },
  {
   "cell_type": "markdown",
   "metadata": {},
   "source": [
    "### Linestyle (date)"
   ]
  },
  {
   "cell_type": "code",
   "execution_count": 87,
   "metadata": {},
   "outputs": [],
   "source": [
    "linestyle = ['-',':','--','-.']"
   ]
  },
  {
   "cell_type": "code",
   "execution_count": 88,
   "metadata": {},
   "outputs": [],
   "source": [
    "LD = dict(zip(wD_L, linestyle))\n",
    "\n",
    "data_df['linestyle'] = data_df['Date'].map(LD)"
   ]
  },
  {
   "cell_type": "code",
   "execution_count": 89,
   "metadata": {},
   "outputs": [
    {
     "data": {
      "text/plain": [
       "{'2020_09_28': '-'}"
      ]
     },
     "execution_count": 89,
     "metadata": {},
     "output_type": "execute_result"
    }
   ],
   "source": [
    "LD"
   ]
  },
  {
   "cell_type": "markdown",
   "metadata": {},
   "source": [
    "### Sanity Check"
   ]
  },
  {
   "cell_type": "code",
   "execution_count": 90,
   "metadata": {},
   "outputs": [
    {
     "data": {
      "text/html": [
       "<div>\n",
       "<style scoped>\n",
       "    .dataframe tbody tr th:only-of-type {\n",
       "        vertical-align: middle;\n",
       "    }\n",
       "\n",
       "    .dataframe tbody tr th {\n",
       "        vertical-align: top;\n",
       "    }\n",
       "\n",
       "    .dataframe thead th {\n",
       "        text-align: right;\n",
       "    }\n",
       "</style>\n",
       "<table border=\"1\" class=\"dataframe\">\n",
       "  <thead>\n",
       "    <tr style=\"text-align: right;\">\n",
       "      <th></th>\n",
       "      <th>Temp</th>\n",
       "      <th>Date</th>\n",
       "      <th>Colour</th>\n",
       "      <th>linestyle</th>\n",
       "    </tr>\n",
       "    <tr>\n",
       "      <th>Name</th>\n",
       "      <th></th>\n",
       "      <th></th>\n",
       "      <th></th>\n",
       "      <th></th>\n",
       "    </tr>\n",
       "  </thead>\n",
       "  <tbody>\n",
       "    <tr>\n",
       "      <th>ASW_2020_09_28_2</th>\n",
       "      <td>20</td>\n",
       "      <td>2020_09_28</td>\n",
       "      <td>1</td>\n",
       "      <td>-</td>\n",
       "    </tr>\n",
       "    <tr>\n",
       "      <th>ASW_2020_09_28_4</th>\n",
       "      <td>30</td>\n",
       "      <td>2020_09_28</td>\n",
       "      <td>2</td>\n",
       "      <td>-</td>\n",
       "    </tr>\n",
       "    <tr>\n",
       "      <th>ASW_2020_09_28_5</th>\n",
       "      <td>30</td>\n",
       "      <td>2020_09_28</td>\n",
       "      <td>2</td>\n",
       "      <td>-</td>\n",
       "    </tr>\n",
       "    <tr>\n",
       "      <th>ASW_2020_09_28_6</th>\n",
       "      <td>30</td>\n",
       "      <td>2020_09_28</td>\n",
       "      <td>2</td>\n",
       "      <td>-</td>\n",
       "    </tr>\n",
       "    <tr>\n",
       "      <th>ASW_2020_09_28_8</th>\n",
       "      <td>40</td>\n",
       "      <td>2020_09_28</td>\n",
       "      <td>3</td>\n",
       "      <td>-</td>\n",
       "    </tr>\n",
       "    <tr>\n",
       "      <th>ASW_2020_09_28_9</th>\n",
       "      <td>40</td>\n",
       "      <td>2020_09_28</td>\n",
       "      <td>3</td>\n",
       "      <td>-</td>\n",
       "    </tr>\n",
       "    <tr>\n",
       "      <th>ASW_2020_09_28_10</th>\n",
       "      <td>40</td>\n",
       "      <td>2020_09_28</td>\n",
       "      <td>3</td>\n",
       "      <td>-</td>\n",
       "    </tr>\n",
       "    <tr>\n",
       "      <th>ASW_2020_09_28_12</th>\n",
       "      <td>50</td>\n",
       "      <td>2020_09_28</td>\n",
       "      <td>4</td>\n",
       "      <td>-</td>\n",
       "    </tr>\n",
       "    <tr>\n",
       "      <th>ASW_2020_09_28_13</th>\n",
       "      <td>50</td>\n",
       "      <td>2020_09_28</td>\n",
       "      <td>4</td>\n",
       "      <td>-</td>\n",
       "    </tr>\n",
       "    <tr>\n",
       "      <th>ASW_2020_09_28_14</th>\n",
       "      <td>50</td>\n",
       "      <td>2020_09_28</td>\n",
       "      <td>4</td>\n",
       "      <td>-</td>\n",
       "    </tr>\n",
       "    <tr>\n",
       "      <th>ASW_2020_09_28_16</th>\n",
       "      <td>60</td>\n",
       "      <td>2020_09_28</td>\n",
       "      <td>5</td>\n",
       "      <td>-</td>\n",
       "    </tr>\n",
       "    <tr>\n",
       "      <th>ASW_2020_09_28_17</th>\n",
       "      <td>60</td>\n",
       "      <td>2020_09_28</td>\n",
       "      <td>5</td>\n",
       "      <td>-</td>\n",
       "    </tr>\n",
       "    <tr>\n",
       "      <th>ASW_2020_09_28_18</th>\n",
       "      <td>60</td>\n",
       "      <td>2020_09_28</td>\n",
       "      <td>5</td>\n",
       "      <td>-</td>\n",
       "    </tr>\n",
       "    <tr>\n",
       "      <th>ASW_2020_09_28_20</th>\n",
       "      <td>70</td>\n",
       "      <td>2020_09_28</td>\n",
       "      <td>6</td>\n",
       "      <td>-</td>\n",
       "    </tr>\n",
       "    <tr>\n",
       "      <th>ASW_2020_09_28_21</th>\n",
       "      <td>70</td>\n",
       "      <td>2020_09_28</td>\n",
       "      <td>6</td>\n",
       "      <td>-</td>\n",
       "    </tr>\n",
       "    <tr>\n",
       "      <th>ASW_2020_09_28_22</th>\n",
       "      <td>70</td>\n",
       "      <td>2020_09_28</td>\n",
       "      <td>6</td>\n",
       "      <td>-</td>\n",
       "    </tr>\n",
       "    <tr>\n",
       "      <th>ASW_2020_09_28_24</th>\n",
       "      <td>80</td>\n",
       "      <td>2020_09_28</td>\n",
       "      <td>7</td>\n",
       "      <td>-</td>\n",
       "    </tr>\n",
       "    <tr>\n",
       "      <th>ASW_2020_09_28_25</th>\n",
       "      <td>80</td>\n",
       "      <td>2020_09_28</td>\n",
       "      <td>7</td>\n",
       "      <td>-</td>\n",
       "    </tr>\n",
       "    <tr>\n",
       "      <th>ASW_2020_09_28_26</th>\n",
       "      <td>80</td>\n",
       "      <td>2020_09_28</td>\n",
       "      <td>7</td>\n",
       "      <td>-</td>\n",
       "    </tr>\n",
       "    <tr>\n",
       "      <th>ASW_2020_09_28_28</th>\n",
       "      <td>90</td>\n",
       "      <td>2020_09_28</td>\n",
       "      <td>8</td>\n",
       "      <td>-</td>\n",
       "    </tr>\n",
       "    <tr>\n",
       "      <th>ASW_2020_09_28_29</th>\n",
       "      <td>90</td>\n",
       "      <td>2020_09_28</td>\n",
       "      <td>8</td>\n",
       "      <td>-</td>\n",
       "    </tr>\n",
       "    <tr>\n",
       "      <th>ASW_2020_09_28_30</th>\n",
       "      <td>90</td>\n",
       "      <td>2020_09_28</td>\n",
       "      <td>8</td>\n",
       "      <td>-</td>\n",
       "    </tr>\n",
       "    <tr>\n",
       "      <th>ASW_2020_09_28_32</th>\n",
       "      <td>100</td>\n",
       "      <td>2020_09_28</td>\n",
       "      <td>9</td>\n",
       "      <td>-</td>\n",
       "    </tr>\n",
       "    <tr>\n",
       "      <th>ASW_2020_09_28_33</th>\n",
       "      <td>100</td>\n",
       "      <td>2020_09_28</td>\n",
       "      <td>9</td>\n",
       "      <td>-</td>\n",
       "    </tr>\n",
       "    <tr>\n",
       "      <th>ASW_2020_09_28_34</th>\n",
       "      <td>100</td>\n",
       "      <td>2020_09_28</td>\n",
       "      <td>9</td>\n",
       "      <td>-</td>\n",
       "    </tr>\n",
       "    <tr>\n",
       "      <th>ASW_2020_09_28_40</th>\n",
       "      <td>120</td>\n",
       "      <td>2020_09_28</td>\n",
       "      <td>11</td>\n",
       "      <td>-</td>\n",
       "    </tr>\n",
       "    <tr>\n",
       "      <th>ASW_2020_09_28_41</th>\n",
       "      <td>120</td>\n",
       "      <td>2020_09_28</td>\n",
       "      <td>11</td>\n",
       "      <td>-</td>\n",
       "    </tr>\n",
       "    <tr>\n",
       "      <th>ASW_2020_09_28_42</th>\n",
       "      <td>120</td>\n",
       "      <td>2020_09_28</td>\n",
       "      <td>11</td>\n",
       "      <td>-</td>\n",
       "    </tr>\n",
       "    <tr>\n",
       "      <th>ASW_2020_09_28_43</th>\n",
       "      <td>120</td>\n",
       "      <td>2020_09_28</td>\n",
       "      <td>11</td>\n",
       "      <td>-</td>\n",
       "    </tr>\n",
       "    <tr>\n",
       "      <th>ASW_2020_09_28_44</th>\n",
       "      <td>120</td>\n",
       "      <td>2020_09_28</td>\n",
       "      <td>11</td>\n",
       "      <td>-</td>\n",
       "    </tr>\n",
       "    <tr>\n",
       "      <th>ASW_2020_09_28_45</th>\n",
       "      <td>120</td>\n",
       "      <td>2020_09_28</td>\n",
       "      <td>11</td>\n",
       "      <td>-</td>\n",
       "    </tr>\n",
       "    <tr>\n",
       "      <th>ASW_2020_09_28_46</th>\n",
       "      <td>120</td>\n",
       "      <td>2020_09_28</td>\n",
       "      <td>11</td>\n",
       "      <td>-</td>\n",
       "    </tr>\n",
       "    <tr>\n",
       "      <th>ASW_2020_09_28_52</th>\n",
       "      <td>130</td>\n",
       "      <td>2020_09_28</td>\n",
       "      <td>13</td>\n",
       "      <td>-</td>\n",
       "    </tr>\n",
       "    <tr>\n",
       "      <th>ASW_2020_09_28_53</th>\n",
       "      <td>130</td>\n",
       "      <td>2020_09_28</td>\n",
       "      <td>13</td>\n",
       "      <td>-</td>\n",
       "    </tr>\n",
       "    <tr>\n",
       "      <th>ASW_2020_09_28_54</th>\n",
       "      <td>130</td>\n",
       "      <td>2020_09_28</td>\n",
       "      <td>13</td>\n",
       "      <td>-</td>\n",
       "    </tr>\n",
       "    <tr>\n",
       "      <th>ASW_2020_09_28_60</th>\n",
       "      <td>140</td>\n",
       "      <td>2020_09_28</td>\n",
       "      <td>20</td>\n",
       "      <td>-</td>\n",
       "    </tr>\n",
       "    <tr>\n",
       "      <th>ASW_2020_09_28_61</th>\n",
       "      <td>140</td>\n",
       "      <td>2020_09_28</td>\n",
       "      <td>20</td>\n",
       "      <td>-</td>\n",
       "    </tr>\n",
       "    <tr>\n",
       "      <th>ASW_2020_09_28_62</th>\n",
       "      <td>140</td>\n",
       "      <td>2020_09_28</td>\n",
       "      <td>20</td>\n",
       "      <td>-</td>\n",
       "    </tr>\n",
       "    <tr>\n",
       "      <th>ASW_2020_09_28_64</th>\n",
       "      <td>145</td>\n",
       "      <td>2020_09_28</td>\n",
       "      <td>21</td>\n",
       "      <td>-</td>\n",
       "    </tr>\n",
       "    <tr>\n",
       "      <th>ASW_2020_09_28_65</th>\n",
       "      <td>145</td>\n",
       "      <td>2020_09_28</td>\n",
       "      <td>21</td>\n",
       "      <td>-</td>\n",
       "    </tr>\n",
       "    <tr>\n",
       "      <th>ASW_2020_09_28_66</th>\n",
       "      <td>145</td>\n",
       "      <td>2020_09_28</td>\n",
       "      <td>21</td>\n",
       "      <td>-</td>\n",
       "    </tr>\n",
       "    <tr>\n",
       "      <th>ASW_2020_09_28_68</th>\n",
       "      <td>150</td>\n",
       "      <td>2020_09_28</td>\n",
       "      <td>21</td>\n",
       "      <td>-</td>\n",
       "    </tr>\n",
       "    <tr>\n",
       "      <th>ASW_2020_09_28_69</th>\n",
       "      <td>150</td>\n",
       "      <td>2020_09_28</td>\n",
       "      <td>21</td>\n",
       "      <td>-</td>\n",
       "    </tr>\n",
       "    <tr>\n",
       "      <th>ASW_2020_09_28_70</th>\n",
       "      <td>150</td>\n",
       "      <td>2020_09_28</td>\n",
       "      <td>21</td>\n",
       "      <td>-</td>\n",
       "    </tr>\n",
       "    <tr>\n",
       "      <th>ASW_2020_09_28_71</th>\n",
       "      <td>150</td>\n",
       "      <td>2020_09_28</td>\n",
       "      <td>21</td>\n",
       "      <td>-</td>\n",
       "    </tr>\n",
       "    <tr>\n",
       "      <th>ASW_2020_09_28_72</th>\n",
       "      <td>150</td>\n",
       "      <td>2020_09_28</td>\n",
       "      <td>21</td>\n",
       "      <td>-</td>\n",
       "    </tr>\n",
       "    <tr>\n",
       "      <th>ASW_2020_09_28_73</th>\n",
       "      <td>150</td>\n",
       "      <td>2020_09_28</td>\n",
       "      <td>21</td>\n",
       "      <td>-</td>\n",
       "    </tr>\n",
       "    <tr>\n",
       "      <th>ASW_2020_09_28_74</th>\n",
       "      <td>150</td>\n",
       "      <td>2020_09_28</td>\n",
       "      <td>21</td>\n",
       "      <td>-</td>\n",
       "    </tr>\n",
       "    <tr>\n",
       "      <th>ASW_2020_09_28_76</th>\n",
       "      <td>155</td>\n",
       "      <td>2020_09_28</td>\n",
       "      <td>22</td>\n",
       "      <td>-</td>\n",
       "    </tr>\n",
       "    <tr>\n",
       "      <th>ASW_2020_09_28_77</th>\n",
       "      <td>155</td>\n",
       "      <td>2020_09_28</td>\n",
       "      <td>22</td>\n",
       "      <td>-</td>\n",
       "    </tr>\n",
       "    <tr>\n",
       "      <th>ASW_2020_09_28_78</th>\n",
       "      <td>155</td>\n",
       "      <td>2020_09_28</td>\n",
       "      <td>22</td>\n",
       "      <td>-</td>\n",
       "    </tr>\n",
       "    <tr>\n",
       "      <th>ASW_2020_09_28_80</th>\n",
       "      <td>160</td>\n",
       "      <td>2020_09_28</td>\n",
       "      <td>23</td>\n",
       "      <td>-</td>\n",
       "    </tr>\n",
       "  </tbody>\n",
       "</table>\n",
       "</div>"
      ],
      "text/plain": [
       "                  Temp        Date  Colour linestyle\n",
       "Name                                                \n",
       "ASW_2020_09_28_2    20  2020_09_28       1         -\n",
       "ASW_2020_09_28_4    30  2020_09_28       2         -\n",
       "ASW_2020_09_28_5    30  2020_09_28       2         -\n",
       "ASW_2020_09_28_6    30  2020_09_28       2         -\n",
       "ASW_2020_09_28_8    40  2020_09_28       3         -\n",
       "ASW_2020_09_28_9    40  2020_09_28       3         -\n",
       "ASW_2020_09_28_10   40  2020_09_28       3         -\n",
       "ASW_2020_09_28_12   50  2020_09_28       4         -\n",
       "ASW_2020_09_28_13   50  2020_09_28       4         -\n",
       "ASW_2020_09_28_14   50  2020_09_28       4         -\n",
       "ASW_2020_09_28_16   60  2020_09_28       5         -\n",
       "ASW_2020_09_28_17   60  2020_09_28       5         -\n",
       "ASW_2020_09_28_18   60  2020_09_28       5         -\n",
       "ASW_2020_09_28_20   70  2020_09_28       6         -\n",
       "ASW_2020_09_28_21   70  2020_09_28       6         -\n",
       "ASW_2020_09_28_22   70  2020_09_28       6         -\n",
       "ASW_2020_09_28_24   80  2020_09_28       7         -\n",
       "ASW_2020_09_28_25   80  2020_09_28       7         -\n",
       "ASW_2020_09_28_26   80  2020_09_28       7         -\n",
       "ASW_2020_09_28_28   90  2020_09_28       8         -\n",
       "ASW_2020_09_28_29   90  2020_09_28       8         -\n",
       "ASW_2020_09_28_30   90  2020_09_28       8         -\n",
       "ASW_2020_09_28_32  100  2020_09_28       9         -\n",
       "ASW_2020_09_28_33  100  2020_09_28       9         -\n",
       "ASW_2020_09_28_34  100  2020_09_28       9         -\n",
       "ASW_2020_09_28_40  120  2020_09_28      11         -\n",
       "ASW_2020_09_28_41  120  2020_09_28      11         -\n",
       "ASW_2020_09_28_42  120  2020_09_28      11         -\n",
       "ASW_2020_09_28_43  120  2020_09_28      11         -\n",
       "ASW_2020_09_28_44  120  2020_09_28      11         -\n",
       "ASW_2020_09_28_45  120  2020_09_28      11         -\n",
       "ASW_2020_09_28_46  120  2020_09_28      11         -\n",
       "ASW_2020_09_28_52  130  2020_09_28      13         -\n",
       "ASW_2020_09_28_53  130  2020_09_28      13         -\n",
       "ASW_2020_09_28_54  130  2020_09_28      13         -\n",
       "ASW_2020_09_28_60  140  2020_09_28      20         -\n",
       "ASW_2020_09_28_61  140  2020_09_28      20         -\n",
       "ASW_2020_09_28_62  140  2020_09_28      20         -\n",
       "ASW_2020_09_28_64  145  2020_09_28      21         -\n",
       "ASW_2020_09_28_65  145  2020_09_28      21         -\n",
       "ASW_2020_09_28_66  145  2020_09_28      21         -\n",
       "ASW_2020_09_28_68  150  2020_09_28      21         -\n",
       "ASW_2020_09_28_69  150  2020_09_28      21         -\n",
       "ASW_2020_09_28_70  150  2020_09_28      21         -\n",
       "ASW_2020_09_28_71  150  2020_09_28      21         -\n",
       "ASW_2020_09_28_72  150  2020_09_28      21         -\n",
       "ASW_2020_09_28_73  150  2020_09_28      21         -\n",
       "ASW_2020_09_28_74  150  2020_09_28      21         -\n",
       "ASW_2020_09_28_76  155  2020_09_28      22         -\n",
       "ASW_2020_09_28_77  155  2020_09_28      22         -\n",
       "ASW_2020_09_28_78  155  2020_09_28      22         -\n",
       "ASW_2020_09_28_80  160  2020_09_28      23         -"
      ]
     },
     "execution_count": 90,
     "metadata": {},
     "output_type": "execute_result"
    }
   ],
   "source": [
    "data_df"
   ]
  },
  {
   "cell_type": "markdown",
   "metadata": {},
   "source": [
    "# Plotting"
   ]
  },
  {
   "cell_type": "markdown",
   "metadata": {},
   "source": [
    "## Scans"
   ]
  },
  {
   "cell_type": "markdown",
   "metadata": {},
   "source": [
    "### DR3"
   ]
  },
  {
   "cell_type": "code",
   "execution_count": 91,
   "metadata": {},
   "outputs": [
    {
     "name": "stdout",
     "output_type": "stream",
     "text": [
      "52\n"
     ]
    },
    {
     "data": {
      "application/vnd.jupyter.widget-view+json": {
       "model_id": "961f7b2088e347b3b078fa6eb7e6f0d3",
       "version_major": 2,
       "version_minor": 0
      },
      "text/plain": [
       "Canvas(toolbar=Toolbar(toolitems=[('Home', 'Reset original view', 'home', 'home'), ('Back', 'Back to previous …"
      ]
     },
     "metadata": {},
     "output_type": "display_data"
    }
   ],
   "source": [
    "nscan = len(list(data_df['Date'].values.tolist()))\n",
    "\n",
    "print(nscan)\n",
    "\n",
    "fig, ax= plt.subplots(figsize=(12,10))\n",
    "\n",
    "normalize = mcolors.Normalize(vmin=20, vmax=200)\n",
    "colormap = cm.jet\n",
    "\n",
    "for i in dat['Name']:\n",
    "    \n",
    "#`DR3\n",
    "\n",
    "    x = DR3_full_df.Wavenumber\n",
    "    y = DR3_full_df['{}'.format(i)]\n",
    "    \n",
    "    plt.plot(x,y, label=\"{}_{}\".format(str(data_df.loc[i]['Date']), str(data_df.loc[i]['Temp'])), color=colormap(normalize(int(data_df.loc[i]['Temp']))), linestyle=(data_df.loc[i]['linestyle'])) \n",
    "\n",
    "\n",
    "plt.title('DR3 ')\n",
    "plt.axis([3800,2800,0,0.45])\n",
    "plt.xlabel('Wavenumber (cm-1)').set_fontsize(13)\n",
    "plt.ylabel('Absorbance').set_fontsize(13)\n",
    "#ax = fig.gca()\n",
    "plt.grid()\n",
    "plt.legend()\n",
    "\n",
    "scalarmappaple = cm.ScalarMappable(norm=normalize, cmap=colormap)\n",
    "scalarmappaple.set_array(nscan)\n",
    "plt.colorbar(scalarmappaple)\n",
    "\n",
    "\n",
    "#plt.savefig('D:\\PhD-WS\\Projects\\PAC\\XP_1-1\\DATA\\{0}\\Plots\\DR1\\DR1_{0}_All_scans.png'.format(date))\n",
    "\n",
    "plt.show()"
   ]
  },
  {
   "cell_type": "markdown",
   "metadata": {},
   "source": [
    "### DR2"
   ]
  },
  {
   "cell_type": "code",
   "execution_count": 67,
   "metadata": {},
   "outputs": [
    {
     "name": "stdout",
     "output_type": "stream",
     "text": [
      "111\n"
     ]
    },
    {
     "data": {
      "application/vnd.jupyter.widget-view+json": {
       "model_id": "453df132081944e6bb594aa720461d70",
       "version_major": 2,
       "version_minor": 0
      },
      "text/plain": [
       "Canvas(toolbar=Toolbar(toolitems=[('Home', 'Reset original view', 'home', 'home'), ('Back', 'Back to previous …"
      ]
     },
     "metadata": {},
     "output_type": "display_data"
    }
   ],
   "source": [
    "nscan = len(list(data_df['Date'].values.tolist()))\n",
    "\n",
    "print(nscan)\n",
    "\n",
    "fig, ax= plt.subplots(figsize=(10,10))\n",
    "\n",
    "normalize = mcolors.Normalize(vmin=20, vmax=200)\n",
    "colormap = cm.jet\n",
    "\n",
    "for i in dat['Name']:\n",
    "    \n",
    "\n",
    "    x = DR2_full_df.Wavenumber\n",
    "    y = DR2_full_df['{}'.format(i)]\n",
    "    \n",
    "    plt.plot(x,y, label=\"{}_{}\".format(str(data_df.loc[i]['Date']), str(data_df.loc[i]['Temp'])), color=colormap(normalize(int(data_df.loc[i]['Temp']))), linestyle=(data_df.loc[i]['linestyle'])) \n",
    "\n",
    "\n",
    "plt.title('DR2')\n",
    "plt.axis([3800,2800,0,0.60])\n",
    "plt.xlabel('Wavenumber (cm-1)').set_fontsize(13)\n",
    "plt.ylabel('Absorbance').set_fontsize(13)\n",
    "#ax = fig.gca()\n",
    "plt.grid()\n",
    "plt.legend()\n",
    "\n",
    "scalarmappaple = cm.ScalarMappable(norm=normalize, cmap=colormap)\n",
    "scalarmappaple.set_array(nscan)\n",
    "plt.colorbar(scalarmappaple)\n",
    "\n",
    "\n",
    "#plt.savefig('D:\\PhD-WS\\Projects\\PAC\\XP_1-1\\DATA\\{0}\\Plots\\DR1\\DR1_{0}_All_scans.png'.format(date))\n",
    "\n",
    "plt.show()"
   ]
  },
  {
   "cell_type": "markdown",
   "metadata": {},
   "source": [
    "### DR1"
   ]
  },
  {
   "cell_type": "markdown",
   "metadata": {},
   "source": [
    "Why:\n",
    "- Compare the DR2 and DR1 to see if the difference observed arise from the reduction process."
   ]
  },
  {
   "cell_type": "code",
   "execution_count": 56,
   "metadata": {},
   "outputs": [
    {
     "name": "stdout",
     "output_type": "stream",
     "text": [
      "48\n"
     ]
    },
    {
     "data": {
      "application/vnd.jupyter.widget-view+json": {
       "model_id": "194a8c5145eb4cb3bbe00f641f89ea60",
       "version_major": 2,
       "version_minor": 0
      },
      "text/plain": [
       "Canvas(toolbar=Toolbar(toolitems=[('Home', 'Reset original view', 'home', 'home'), ('Back', 'Back to previous …"
      ]
     },
     "metadata": {},
     "output_type": "display_data"
    }
   ],
   "source": [
    "nscan = len(list(data_df['Date'].values.tolist()))\n",
    "\n",
    "print(nscan)\n",
    "\n",
    "fig, ax= plt.subplots(figsize=(10,10))\n",
    "\n",
    "normalize = mcolors.Normalize(vmin=20, vmax=200)\n",
    "colormap = cm.jet\n",
    "\n",
    "for i in dat['Name']:\n",
    "    \n",
    "\n",
    "    x = DR1_full_df.Wavenumber\n",
    "    y = DR1_full_df['{}'.format(i)]\n",
    "    \n",
    "    plt.plot(x,y, label=\"{}_{}\".format(str(data_df.loc[i]['Date']), str(data_df.loc[i]['Temp'])), color=colormap(normalize(int(data_df.loc[i]['Temp']))), linestyle=(data_df.loc[i]['linestyle'])) \n",
    "\n",
    "\n",
    "plt.title('DR1')\n",
    "plt.axis([3800,2800,-0.2,0.6])\n",
    "plt.xlabel('Wavenumber (cm-1)').set_fontsize(13)\n",
    "plt.ylabel('Absorbance').set_fontsize(13)\n",
    "#ax = fig.gca()\n",
    "plt.grid()\n",
    "plt.legend()\n",
    "\n",
    "scalarmappaple = cm.ScalarMappable(norm=normalize, cmap=colormap)\n",
    "scalarmappaple.set_array(nscan)\n",
    "plt.colorbar(scalarmappaple)\n",
    "\n",
    "\n",
    "#plt.savefig('D:\\PhD-WS\\Projects\\PAC\\XP_1-1\\DATA\\{0}\\Plots\\DR1\\DR1_{0}_All_scans.png'.format(date))\n",
    "\n",
    "plt.show()"
   ]
  },
  {
   "cell_type": "markdown",
   "metadata": {},
   "source": [
    "## Data Annex"
   ]
  },
  {
   "cell_type": "markdown",
   "metadata": {},
   "source": [
    "## Plotting"
   ]
  },
  {
   "cell_type": "markdown",
   "metadata": {},
   "source": [
    "Use interact to play with the data I plot"
   ]
  },
  {
   "cell_type": "code",
   "execution_count": 43,
   "metadata": {},
   "outputs": [
    {
     "data": {
      "application/vnd.jupyter.widget-view+json": {
       "model_id": "a7cf9e1caf7b47b9a89f0d6fc2b11b62",
       "version_major": 2,
       "version_minor": 0
      },
      "text/plain": [
       "SelectMultiple(description='Parameters', options=('min1', 'index1', 'min2', 'index2', 'min3', 'index3', 'min4'…"
      ]
     },
     "metadata": {},
     "output_type": "display_data"
    }
   ],
   "source": [
    "wP = widgets.SelectMultiple(\n",
    "    options= Param,\n",
    "    description='Parameters',\n",
    "    disabled=False,\n",
    ")\n",
    "\n",
    "display(wP)\n"
   ]
  },
  {
   "cell_type": "code",
   "execution_count": 97,
   "metadata": {},
   "outputs": [],
   "source": [
    "wP_L = list(wP.value)"
   ]
  },
  {
   "cell_type": "code",
   "execution_count": 98,
   "metadata": {},
   "outputs": [
    {
     "name": "stderr",
     "output_type": "stream",
     "text": [
      "<ipython-input-98-4732c201c243>:16: RuntimeWarning: More than 20 figures have been opened. Figures created through the pyplot interface (`matplotlib.pyplot.figure`) are retained until explicitly closed and may consume too much memory. (To control this warning, see the rcParam `figure.max_open_warning`).\n",
      "  fig, ax= plt.subplots(figsize=(10,10))\n"
     ]
    },
    {
     "data": {
      "application/vnd.jupyter.widget-view+json": {
       "model_id": "e9e6e25315cd4421a9b4eda5c2be5e80",
       "version_major": 2,
       "version_minor": 0
      },
      "text/plain": [
       "Canvas(toolbar=Toolbar(toolitems=[('Home', 'Reset original view', 'home', 'home'), ('Back', 'Back to previous …"
      ]
     },
     "metadata": {},
     "output_type": "display_data"
    }
   ],
   "source": [
    "# Widget selection\n",
    "\n",
    "\n",
    "\n",
    "#interact(wP = widgets.SelectMultiple(\n",
    "#    options= Param,\n",
    "#    description='Parameters',\n",
    "#    disabled=False,\n",
    "#));\n",
    "\n",
    "\n",
    "\n",
    "\n",
    "# Figure\n",
    "\n",
    "fig, ax= plt.subplots(figsize=(10,10))\n",
    "\n",
    "normalize = mcolors.Normalize(vmin=20, vmax=200)\n",
    "colormap = cm.jet\n",
    "\n",
    "for i in dat['Name']:\n",
    "    for j in wP_L:\n",
    "\n",
    "    #print(i)\n",
    "    #print(j)\n",
    "        \n",
    "        x = Data_Annex_full_df[('{}'.format(j))].loc[('{}'.format(i))]\n",
    "        #y = Data_Annex_full_df['{}'.format(j)]\n",
    "        #y = Data_Annex_full_df['{}'.format(j)].loc[Data_Annex_full_df.index == ('{}'.format(i))]\n",
    "        #y = Data_Annex_full_df.loc[(Data_Annex_full_df['{}'.format(j)])] & [(Data_Annex_full_df['column_name'] == x)]\n",
    "        #print(x,y)\n",
    "        #print(i)    \n",
    "        #print(x)\n",
    "    \n",
    "        \n",
    "\n",
    "        plt.plot(i,x, '+', mew=2, ms=8, color=colormap(normalize(int(data_df.loc[i]['Temp']))) )\n",
    "\n",
    "plt.title('Data Annex')\n",
    "#plt.axis([3800,2800,0,0.45])\n",
    "# Set number of ticks for x-axis\n",
    "\n",
    "# Set ticks labels for x-axis\n",
    "\n",
    "#plt.xlabel('Wavenumber (cm-1)').set_fontsize(13)\n",
    "\n",
    "#plt.ylabel('Absorbance').set_fontsize(13)\n",
    "plt.xticks(rotation=90)\n",
    "#plt.tight_layout()\n",
    "ax = fig.gca()\n",
    "#plt.grid()\n",
    "#plt.legend()\n",
    "\n",
    "scalarmappaple = cm.ScalarMappable(norm=normalize, cmap=colormap)\n",
    "scalarmappaple.set_array(nscan)\n",
    "plt.colorbar(scalarmappaple)\n",
    "\n",
    "\n",
    "#plt.savefig('D:\\PhD-WS\\Projects\\PAC\\XP_1-1\\DATA\\{0}\\Plots\\DR1\\DR1_{0}_All_scans.png'.format(date))\n",
    "\n",
    "plt.show()"
   ]
  },
  {
   "cell_type": "markdown",
   "metadata": {},
   "source": [
    "## More"
   ]
  },
  {
   "cell_type": "markdown",
   "metadata": {},
   "source": [
    " - fit linear model to desorption great"
   ]
  }
 ],
 "metadata": {
  "kernelspec": {
   "display_name": "Python 3",
   "language": "python",
   "name": "python3"
  },
  "language_info": {
   "codemirror_mode": {
    "name": "ipython",
    "version": 3
   },
   "file_extension": ".py",
   "mimetype": "text/x-python",
   "name": "python",
   "nbconvert_exporter": "python",
   "pygments_lexer": "ipython3",
   "version": "3.8.3"
  }
 },
 "nbformat": 4,
 "nbformat_minor": 4
}
