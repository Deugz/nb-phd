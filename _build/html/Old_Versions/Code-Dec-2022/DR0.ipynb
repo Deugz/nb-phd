{
 "cells": [
  {
   "cell_type": "markdown",
   "metadata": {},
   "source": [
    "# Data Reduction 0\n",
    "\n",
    "***\n",
    "\n",
    "**T_Ramp** Implementation to XP_list_test.csv\n",
    "\n",
    "- Same routine for all the samples\n",
    "- Perform for all Samples &#9989; (15/08/2022)\n",
    "\n",
    "***"
   ]
  },
  {
   "cell_type": "markdown",
   "metadata": {},
   "source": [
    "## <u> Library </u>"
   ]
  },
  {
   "cell_type": "code",
   "execution_count": 3,
   "metadata": {},
   "outputs": [],
   "source": [
    "import numpy \n",
    "import math\n",
    "import matplotlib\n",
    "import matplotlib.pyplot as plt\n",
    "from matplotlib import cm\n",
    "import matplotlib.colors as mcolors\n",
    "import pandas as pd\n",
    "import glob\n",
    "from functools import reduce\n",
    "import ipywidgets as widgets\n",
    "import matplotlib.gridspec as gridspec\n",
    "\n",
    "%matplotlib inline\n"
   ]
  },
  {
   "cell_type": "markdown",
   "metadata": {},
   "source": [
    "## <u> Input Parameters </u> \n",
    "\n",
    "$\\color{red}{\\text{Implement manually !}}$"
   ]
  },
  {
   "cell_type": "code",
   "execution_count": null,
   "metadata": {},
   "outputs": [],
   "source": [
    "XP_Ramp_df = pd.read_csv('..\\..\\DATA\\DATA-Processing\\PAC\\XP_list_test.csv')"
   ]
  },
  {
   "cell_type": "code",
   "execution_count": 2,
   "metadata": {},
   "outputs": [],
   "source": [
    "# 0.1 Date\n",
    "date = \"2020_09_15\"\n",
    "\n",
    "# 0.2 XP\n",
    "XP = \"XP_1-1\"\n",
    "\n",
    "# 0.3 Sample type\n",
    "spl = \"ASW\"\n",
    "\n",
    "# 0.4 Deposition Temperature\n",
    "#Tdep = \"40\""
   ]
  },
  {
   "cell_type": "markdown",
   "metadata": {},
   "source": [
    "## <u> Temperature Ramp </u> \n",
    "\n",
    "$\\color{red}{\\text{Implement manually !}}$\n",
    "\n",
    "**Example**\n",
    "```\n",
    "numpy.arange(1, 3, 1).tolist() will give [1,2] in the defined column\n",
    "```\n",
    "\n",
    "### Full Range"
   ]
  },
  {
   "cell_type": "code",
   "execution_count": 82,
   "metadata": {},
   "outputs": [],
   "source": [
    "T_ramp = []\n",
    "\n",
    "T_ramp.append(\n",
    "        \n",
    "        {\n",
    "            'Sample' : str(spl),\n",
    "            'Date' : str(date),\n",
    "            '20' :  numpy.arange(2, 6, 1).tolist(),\n",
    "            '25' :  \"\",\n",
    "            '30' : numpy.arange(6, 12, 1).tolist(),\n",
    "            '35' : numpy.arange(12, 80, 1).tolist(),\n",
    "            '40' : numpy.arange(80, 94, 1).tolist(),\n",
    "            '50' : numpy.arange(94, 101, 1).tolist(),\n",
    "            '55' : \"\",\n",
    "            '60' : numpy.arange(101, 105, 1).tolist(),\n",
    "            '65' : numpy.arange(105, 108, 1).tolist(),\n",
    "            '70' : \"\",\n",
    "            '80' : \"\",\n",
    "            '90' : \"\",\n",
    "            '100' : numpy.arange(1, 2, 1).tolist(),\n",
    "            '110' : \"\",\n",
    "            '120' : \"\",\n",
    "            '125' : \"\",\n",
    "            '130' : \"\",\n",
    "            '132' : \"\",\n",
    "            '134' : \"\",\n",
    "            '135' : numpy.arange(108, 182, 1).tolist(),\n",
    "            '136' : \"\",\n",
    "            '137' : \"\",\n",
    "            '138' : \"\",\n",
    "            '140' : numpy.arange(182, 186, 1).tolist(), \n",
    "            '142' : \"\",\n",
    "            '145' : \"\",\n",
    "            '150' : numpy.arange(186, 208, 1).tolist(),\n",
    "            '155' : \"\",\n",
    "            '160' : \"\",\n",
    "            '180' : \"\",\n",
    "            '200' : \"\",\n",
    "\n",
    "            })\n",
    "\n",
    "#T_ramp\n",
    "\n",
    "T_ramp_df = pd.DataFrame(T_ramp)"
   ]
  },
  {
   "cell_type": "markdown",
   "metadata": {},
   "source": [
    "### Sanity Check"
   ]
  },
  {
   "cell_type": "code",
   "execution_count": 83,
   "metadata": {},
   "outputs": [],
   "source": [
    "#T_ramp_df"
   ]
  },
  {
   "cell_type": "markdown",
   "metadata": {},
   "source": [
    "## <u> Append Data to csv </u> \n",
    "\n",
    "Only if date is not already present into XP_Ramp_df"
   ]
  },
  {
   "cell_type": "code",
   "execution_count": 84,
   "metadata": {},
   "outputs": [
    {
     "name": "stdout",
     "output_type": "stream",
     "text": [
      "Not appended\n"
     ]
    }
   ],
   "source": [
    "XP_Date = []\n",
    "\n",
    "XP_Date = str(XP_Ramp_df['Date'])\n",
    "\n",
    "\n",
    "if date in XP_Date:\n",
    "    print(\"Not appended\")\n",
    "else:\n",
    "    T_ramp_df.to_csv('..\\..\\DATA\\DATA-Processing\\PAC\\XP_list_test.csv', mode='a', header=False, index=False)\n",
    "    print(\"Appended\")\n"
   ]
  },
  {
   "cell_type": "markdown",
   "metadata": {},
   "source": [
    "***\n",
    "\n",
    "<img style=\"float: right;\" src=\"..\\..\\Docs\\Logo_work_in_progress.svg\" alt=\"logo\" width=\"160px\"/>\n",
    "\n",
    "## About this notebook\n",
    "\n",
    "**Updated On:** 2022-08-24 \n",
    "\n",
    "\n",
    "**Author:** Vincent Deguin, PhD Student.\n",
    "<br>\n",
    " **Contact:** vincent.deguin@open.ac.uk  \n",
    "\n"
   ]
  }
 ],
 "metadata": {
  "kernelspec": {
   "display_name": "Python 3 (ipykernel)",
   "language": "python",
   "name": "python3"
  },
  "language_info": {
   "codemirror_mode": {
    "name": "ipython",
    "version": 3
   },
   "file_extension": ".py",
   "mimetype": "text/x-python",
   "name": "python",
   "nbconvert_exporter": "python",
   "pygments_lexer": "ipython3",
   "version": "3.9.13"
  }
 },
 "nbformat": 4,
 "nbformat_minor": 4
}
