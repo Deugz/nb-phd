{
 "cells": [
  {
   "attachments": {
    "image.png": {
     "image/png": "[encoded data removed]"
    }
   },
   "cell_type": "markdown",
   "metadata": {},
   "source": [
    "# Download data from Zenodo using a Zenodo DOI\n",
    "\n",
    "This notebook will show you how to download data from Zenodo, a general-purpose open-access repository developed under the European OpenAIRE program and operated by CERN.\n",
    "Zenodo allows researchers to deposit data sets, research software, reports, and any other research related digital artifacts and allows them to be referenced by a Digital Object Identifier (DOI). To deposit materials to Zenodo, you can make an account here: https://zenodo.org/ and follow the instructions on how to upload datasets. Once a dataset has been uploaded, you will be issued with a DOI of the form `10.5281/zenodo.#######`, where the `#` symbols will contain numbers specific to your dataset (see the example below):\n",
    "\n",
    "![image.png](attachment:image.png)\n",
    "\n",
    "When publishing a notebook that relies on large scientific datasets on Harbor, it is possible to store the data on Zenodo and download the content in a notebook such as this one. This notebook and the associated python file `zenodo_dl.py` serve as an example on how to do so. Note that this module relies on the following python packages being installed: `requests` and `tqdm`. You can install these either via pip or conda.\n",
    "\n",
    "First, we import the module, which contains the functions needed for downloading from a DOI:"
   ]
  },
  {
   "cell_type": "code",
   "execution_count": 1,
   "metadata": {},
   "outputs": [],
   "source": [
    "import zenodo_dl as zdl"
   ]
  },
  {
   "cell_type": "markdown",
   "metadata": {},
   "source": [
    "Now all we have to do is call `download_from_doi` and this notebook will download the files for the latest version corresponding to that DOI::"
   ]
  },
  {
   "cell_type": "code",
   "execution_count": 2,
   "metadata": {},
   "outputs": [
    {
     "name": "stdout",
     "output_type": "stream",
     "text": [
      "Fetching 'Kymograph of Cas9 binding to λ-DNA under tension'\n"
     ]
    },
    {
     "data": {
      "application/vnd.jupyter.widget-view+json": {
       "model_id": "09a1d224a5c94cc1bda1811a5922be92",
       "version_major": 2,
       "version_minor": 0
      },
      "text/plain": [
       "Download cas9_kymo_compressed.h5:   0%|          | 0.00/16.0M [00:00<?, ?iB/s]"
      ]
     },
     "metadata": {},
     "output_type": "display_data"
    },
    {
     "data": {
      "application/vnd.jupyter.widget-view+json": {
       "model_id": "1c5dcabb58f04c4ca54c516e1373d900",
       "version_major": 2,
       "version_minor": 0
      },
      "text/plain": [
       "Verifying hash cas9_kymo_compressed.h5:   0%|          | 0.00/16.0M [00:00<?, ?iB/s]"
      ]
     },
     "metadata": {},
     "output_type": "display_data"
    }
   ],
   "source": [
    "file_names = zdl.download_from_doi(\"10.5281/zenodo.4247279\")"
   ]
  },
  {
   "cell_type": "markdown",
   "metadata": {},
   "source": [
    "Note that it will download the file, and then check it against the MD5 hash published on Zenodo, to make sure that the file was downloaded correctly.\n",
    "When attempting to download the file again, the command will detect that the file has already been downloaded and not download it again:"
   ]
  },
  {
   "cell_type": "code",
   "execution_count": 3,
   "metadata": {},
   "outputs": [
    {
     "name": "stdout",
     "output_type": "stream",
     "text": [
      "Fetching 'Kymograph of Cas9 binding to λ-DNA under tension'\n"
     ]
    },
    {
     "data": {
      "application/vnd.jupyter.widget-view+json": {
       "model_id": "78b11e224dc14a3caee9478b117a3cb3",
       "version_major": 2,
       "version_minor": 0
      },
      "text/plain": [
       "Verifying hash cas9_kymo_compressed.h5:   0%|          | 0.00/16.0M [00:00<?, ?iB/s]"
      ]
     },
     "metadata": {},
     "output_type": "display_data"
    },
    {
     "name": "stdout",
     "output_type": "stream",
     "text": [
      "File already exists and will not be downloaded again.\n"
     ]
    }
   ],
   "source": [
    "file_names = zdl.download_from_doi(\"10.5281/zenodo.4247279\")"
   ]
  },
  {
   "cell_type": "markdown",
   "metadata": {},
   "source": [
    "The `download_from_doi` function returns a list of file_names which can be used directly to download the datasets. Let's load and plot the dataset we just downloaded:"
   ]
  },
  {
   "cell_type": "code",
   "execution_count": 5,
   "metadata": {},
   "outputs": [
    {
     "ename": "NameError",
     "evalue": "name 'lk' is not defined",
     "output_type": "error",
     "traceback": [
      "\u001b[1;31m---------------------------------------------------------------------------\u001b[0m",
      "\u001b[1;31mNameError\u001b[0m                                 Traceback (most recent call last)",
      "\u001b[1;32m~\\AppData\\Local\\Temp\\ipykernel_27356\\3885429163.py\u001b[0m in \u001b[0;36m<module>\u001b[1;34m\u001b[0m\n\u001b[0;32m      2\u001b[0m \u001b[1;32mimport\u001b[0m \u001b[0mmatplotlib\u001b[0m\u001b[1;33m.\u001b[0m\u001b[0mpyplot\u001b[0m \u001b[1;32mas\u001b[0m \u001b[0mplt\u001b[0m\u001b[1;33m\u001b[0m\u001b[1;33m\u001b[0m\u001b[0m\n\u001b[0;32m      3\u001b[0m \u001b[1;33m\u001b[0m\u001b[0m\n\u001b[1;32m----> 4\u001b[1;33m \u001b[0mfile\u001b[0m \u001b[1;33m=\u001b[0m \u001b[0mlk\u001b[0m\u001b[1;33m.\u001b[0m\u001b[0mFile\u001b[0m\u001b[1;33m(\u001b[0m\u001b[0mfile_names\u001b[0m\u001b[1;33m[\u001b[0m\u001b[1;36m0\u001b[0m\u001b[1;33m]\u001b[0m\u001b[1;33m)\u001b[0m\u001b[1;33m\u001b[0m\u001b[1;33m\u001b[0m\u001b[0m\n\u001b[0m\u001b[0;32m      5\u001b[0m \u001b[0mkey\u001b[0m\u001b[1;33m,\u001b[0m \u001b[0mkymo\u001b[0m \u001b[1;33m=\u001b[0m \u001b[0mfile\u001b[0m\u001b[1;33m.\u001b[0m\u001b[0mkymos\u001b[0m\u001b[1;33m.\u001b[0m\u001b[0mpopitem\u001b[0m\u001b[1;33m(\u001b[0m\u001b[1;33m)\u001b[0m\u001b[1;33m\u001b[0m\u001b[1;33m\u001b[0m\u001b[0m\n\u001b[0;32m      6\u001b[0m \u001b[1;33m\u001b[0m\u001b[0m\n",
      "\u001b[1;31mNameError\u001b[0m: name 'lk' is not defined"
     ]
    }
   ],
   "source": [
    "#import lumicks.pylake as lk\n",
    "import matplotlib.pyplot as plt\n",
    "\n",
    "file = lk.File(file_names[0])\n",
    "key, kymo = file.kymos.popitem()\n",
    "\n",
    "plt.figure()\n",
    "ax1 = plt.subplot(2, 1, 1)\n",
    "kymo.plot_green(vmax=4, aspect=\"auto\")  # We use aspect=\"auto\" because otherwise the kymo would be thin\n",
    "ax2 = plt.subplot(2, 1, 2, sharex = ax1)\n",
    "plt.xlim(ax1.get_xlim())\n",
    "file[\"Force LF\"][\"Force 1x\"].plot()\n",
    "plt.tight_layout()\n",
    "plt.show()"
   ]
  },
  {
   "cell_type": "code",
   "execution_count": null,
   "metadata": {},
   "outputs": [],
   "source": []
  }
 ],
 "metadata": {
  "kernelspec": {
   "display_name": "Python 3 (ipykernel)",
   "language": "python",
   "name": "python3"
  },
  "language_info": {
   "codemirror_mode": {
    "name": "ipython",
    "version": 3
   },
   "file_extension": ".py",
   "mimetype": "text/x-python",
   "name": "python",
   "nbconvert_exporter": "python",
   "pygments_lexer": "ipython3",
   "version": "3.9.13"
  }
 },
 "nbformat": 4,
 "nbformat_minor": 4
}
