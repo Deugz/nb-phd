{
 "cells": [
  {
   "cell_type": "markdown",
   "metadata": {},
   "source": [
    "# Data Reduction 2 - ASW_C2H6\n",
    "\n",
    "**Baseline Correction**\n",
    "\n",
    "3 different subnotebook\n",
    "- ASW\n",
    "- C2H6\n",
    "- **C2H6_ASW**"
   ]
  },
  {
   "cell_type": "markdown",
   "metadata": {},
   "source": [
    "## Imports"
   ]
  },
  {
   "cell_type": "code",
   "execution_count": 1,
   "metadata": {},
   "outputs": [],
   "source": [
    "%matplotlib inline\n",
    "\n",
    "import numpy \n",
    "import math\n",
    "from math import isnan\n",
    "import matplotlib\n",
    "import matplotlib.pyplot as plt\n",
    "from matplotlib import cm\n",
    "import matplotlib.colors as mcolors\n",
    "import pandas as pd\n",
    "import glob\n",
    "from functools import reduce\n",
    "import ipywidgets as widgets\n",
    "import matplotlib.gridspec as gridspec\n",
    "from datetime import datetime\n",
    "from IPython.core.display import SVG\n",
    "import re\n",
    "import json"
   ]
  },
  {
   "cell_type": "markdown",
   "metadata": {},
   "source": [
    "## Input Parameters\n",
    "\n",
    "$\\color{red}{\\text{Implement manually !}}$"
   ]
  },
  {
   "cell_type": "code",
   "execution_count": 2,
   "metadata": {},
   "outputs": [],
   "source": [
    "# 0.1 Date\n",
    "date = \"2021_01_29\"\n",
    "\n",
    "# 0.2 XP\n",
    "XP = \"XP_1-2\"\n",
    "\n",
    "# 0.3 Sample type\n",
    "spl = \"ASW_C2H6\"\n",
    "\n",
    "# 0.4 Deposition Temperature\n",
    "Tdep = \"20\"\n",
    "\n",
    "# Colormap normalisation\n",
    "\n",
    "# Be carefull because it may depend between the different samples\n",
    "\n",
    "Tmin = 20\n",
    "Tmax = 150\n",
    "\n",
    "\n",
    "# Is there any Isotherm ?\n",
    "\n",
    "Iso = True\n",
    "\n",
    "# How do I deal with this now ?"
   ]
  },
  {
   "cell_type": "markdown",
   "metadata": {},
   "source": [
    "## Load Data"
   ]
  },
  {
   "cell_type": "code",
   "execution_count": 4,
   "metadata": {},
   "outputs": [],
   "source": [
    "# All_RAW_df\n",
    "\n",
    "All_RAW_df = pd.read_csv(\"..\\..\\DATA\\DATA-Processing\\PAC\\{}/Samples/{}/Data/DR/DR1_{}_All-scans.csv\".format(XP,date,date))\n",
    "\n",
    "All_RAW_df = All_RAW_df.iloc[:,1:]\n",
    "\n",
    "# data_annex\n",
    "data_annex_df = pd.read_csv(\"..\\..\\DATA\\DATA-Processing\\PAC\\{}/Samples/{}/Data/DR/DR1_{}_data_annex.csv\".format(XP,date,date))\n",
    "\n",
    "# XP_list_test\n",
    "\n",
    "XP_Ramp_df = pd.read_csv('..\\..\\DATA\\DATA-Processing\\PAC\\XP_list_test.csv')\n",
    "\n",
    "XP_Ramp_df_date = XP_Ramp_df.loc[XP_Ramp_df['Date'] == date]\n",
    "XP_Ramp_df_date2 = XP_Ramp_df_date.set_index(\"Date\")\n",
    "#XP_Ramp_df_date2\n",
    "XP_Ramp_df_T = XP_Ramp_df_date2.T\n",
    "#XP_Ramp_df_T\n",
    "XP_Ramp_df_T_f = XP_Ramp_df_T.iloc[1: , :]\n",
    "#XP_Ramp_df_T_f\n",
    "XP_Ramp_df_T_f2=XP_Ramp_df_T_f.dropna()\n",
    "XP_Ramp_df_T_f2\n",
    "\n",
    "# Produce dictionnary\n",
    "\n",
    "Tdictionary = dict(zip(XP_Ramp_df_T_f2.index, XP_Ramp_df_T_f2[date]))"
   ]
  },
  {
   "cell_type": "markdown",
   "metadata": {},
   "source": [
    "## Sanity Check"
   ]
  },
  {
   "cell_type": "code",
   "execution_count": null,
   "metadata": {},
   "outputs": [],
   "source": [
    "# All_RAW_df\n",
    "# data_annex_df\n",
    "# XP_Ramp_df\n",
    "# Tdictionary"
   ]
  },
  {
   "cell_type": "markdown",
   "metadata": {},
   "source": [
    "## <u> Chop the data </u>\n",
    "\n",
    "Because ASW Sample, Data is choped in 3 range:\n",
    "\n",
    "- A: OH stretch : (4000 - 2800 cm-1)\n",
    "- B: Combination bands : (2800 - 1900 cm-1)\n",
    "- C: Bending modes : (1900 - 800 cm-1)\n",
    "\n",
    "<div class=\"alert alert-block alert-danger\">\n",
    "OK, we chop the data and will use those range to compute a linear background based on the minimum within sub-ranges but I need to verify that this minimum is beyond the ethane IR signature.\n",
    "</div>\n",
    "\n",
    "\n"
   ]
  }
 ],
 "metadata": {
  "kernelspec": {
   "display_name": "Python 3",
   "language": "python",
   "name": "python3"
  },
  "language_info": {
   "codemirror_mode": {
    "name": "ipython",
    "version": 3
   },
   "file_extension": ".py",
   "mimetype": "text/x-python",
   "name": "python",
   "nbconvert_exporter": "python",
   "pygments_lexer": "ipython3",
   "version": "3.8.3"
  }
 },
 "nbformat": 4,
 "nbformat_minor": 4
}
